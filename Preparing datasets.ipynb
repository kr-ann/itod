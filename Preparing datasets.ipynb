{
 "cells": [
  {
   "cell_type": "markdown",
   "metadata": {},
   "source": [
    "# Подготовка датасетов"
   ]
  },
  {
   "cell_type": "markdown",
   "metadata": {},
   "source": [
    "## 1. Загружаем в датафреймы, лемматизируем и токенизируем"
   ]
  },
  {
   "cell_type": "code",
   "execution_count": 1,
   "metadata": {},
   "outputs": [],
   "source": [
    "import numpy as np\n",
    "import pandas\n",
    "import pymorphy2\n",
    "from pymorphy2.tokenizers import simple_word_tokenize\n",
    "morph = pymorphy2.MorphAnalyzer()"
   ]
  },
  {
   "cell_type": "code",
   "execution_count": 2,
   "metadata": {},
   "outputs": [],
   "source": [
    "path = \"\" # путь до директории, в которой лежат ноутбуки и папки data, preprocessed и results"
   ]
  },
  {
   "cell_type": "code",
   "execution_count": 3,
   "metadata": {},
   "outputs": [],
   "source": [
    "# посмотреть на слова в датафрейме и на их набор значений\n",
    "def analyze_data(df):\n",
    "    words_dict = dict()\n",
    "\n",
    "    for target_word in df[\"word\"]:\n",
    "        if target_word not in words_dict:\n",
    "            words_dict.setdefault(target_word, set())\n",
    "\n",
    "    for target_word in words_dict:\n",
    "        for sense_id in df[df.word == target_word][\"gold_sense_id\"]:\n",
    "            words_dict[target_word].add(sense_id)\n",
    "\n",
    "    # # преобразуем set'ы в листы, чтобы был определнённый порядок, и сортируем по возрастанию\n",
    "    for target_word in words_dict:\n",
    "        words_dict[target_word] = sorted(list(words_dict[target_word]))\n",
    "\n",
    "    # добавляем количество контекстов на каждое значение\n",
    "    for target_word in words_dict:\n",
    "        for i, sense in enumerate(words_dict[target_word]):\n",
    "            words_dict[target_word][i] = (sense, len(df[df.word == target_word][df.gold_sense_id == sense]))\n",
    "\n",
    "    return words_dict"
   ]
  },
  {
   "cell_type": "code",
   "execution_count": 4,
   "metadata": {},
   "outputs": [],
   "source": [
    "def first_step_preprocessing(df_name):\n",
    "    try:\n",
    "        df = pandas.read_csv(path+\"data\\\\main\\\\\" + df_name + \"\\\\train.csv\", \"\\t\")\n",
    "    except FileNotFoundError:\n",
    "        df = pandas.read_csv(path+\"data\\\\additional\\\\\" + df_name + \"\\\\train.csv\", \"\\t\")\n",
    "    del df[\"predict_sense_id\"] # удаляем столбец для предсказывания значений - он нам не понадобится\n",
    "    \n",
    "    # проанализируем информацию\n",
    "    df_info = analyze_data(df)\n",
    "    \n",
    "    # добавили пустой стоблец для лемматизированных контекстов\n",
    "    df[\"lem_context\"] = np.nan \n",
    "    \n",
    "    # лемматизация\n",
    "    for i in range(df.shape[0]): # будем перебирать контексты\n",
    "        lemmatized_list = []\n",
    "        for token in simple_word_tokenize(df['context'][i]):\n",
    "            lemmatized_list.append(morph.parse(token)[0].normal_form)\n",
    "        df[\"lem_context\"][i] = \" \".join(lemmatized_list)\n",
    "    \n",
    "    # на будущее: добавили столбец, указывающий на датасет-источник\n",
    "    df[\"source\"] = pandas.Series([df_name]*df.shape[0])\n",
    "    \n",
    "    df.to_csv(path + \"preprocessed\\\\\" + df_name + \".csv\", \"\\t\", encoding=\"utf-8\", index=False)\n",
    "    \n",
    "    return df, df_info"
   ]
  },
  {
   "cell_type": "code",
   "execution_count": 5,
   "metadata": {},
   "outputs": [
    {
     "name": "stderr",
     "output_type": "stream",
     "text": [
      "C:\\Users\\boss\\Anaconda3\\lib\\site-packages\\ipykernel_launcher.py:20: UserWarning: Boolean Series key will be reindexed to match DataFrame index.\n",
      "C:\\Users\\boss\\Anaconda3\\lib\\site-packages\\ipykernel_launcher.py:19: SettingWithCopyWarning: \n",
      "A value is trying to be set on a copy of a slice from a DataFrame\n",
      "\n",
      "See the caveats in the documentation: http://pandas.pydata.org/pandas-docs/stable/indexing.html#indexing-view-versus-copy\n",
      "C:\\Users\\boss\\Anaconda3\\lib\\site-packages\\pandas\\core\\indexing.py:189: SettingWithCopyWarning: \n",
      "A value is trying to be set on a copy of a slice from a DataFrame\n",
      "\n",
      "See the caveats in the documentation: http://pandas.pydata.org/pandas-docs/stable/indexing.html#indexing-view-versus-copy\n",
      "  self._setitem_with_indexer(indexer, value)\n"
     ]
    },
    {
     "name": "stdout",
     "output_type": "stream",
     "text": [
      "(2073, 7)\n"
     ]
    },
    {
     "data": {
      "text/html": [
       "<div>\n",
       "<style scoped>\n",
       "    .dataframe tbody tr th:only-of-type {\n",
       "        vertical-align: middle;\n",
       "    }\n",
       "\n",
       "    .dataframe tbody tr th {\n",
       "        vertical-align: top;\n",
       "    }\n",
       "\n",
       "    .dataframe thead th {\n",
       "        text-align: right;\n",
       "    }\n",
       "</style>\n",
       "<table border=\"1\" class=\"dataframe\">\n",
       "  <thead>\n",
       "    <tr style=\"text-align: right;\">\n",
       "      <th></th>\n",
       "      <th>context_id</th>\n",
       "      <th>word</th>\n",
       "      <th>gold_sense_id</th>\n",
       "      <th>positions</th>\n",
       "      <th>context</th>\n",
       "      <th>lem_context</th>\n",
       "      <th>source</th>\n",
       "    </tr>\n",
       "  </thead>\n",
       "  <tbody>\n",
       "    <tr>\n",
       "      <th>0</th>\n",
       "      <td>1</td>\n",
       "      <td>дар</td>\n",
       "      <td>1</td>\n",
       "      <td>18-22</td>\n",
       "      <td>Отвергнуть щедрый дар</td>\n",
       "      <td>отвергнуть щедрый дар</td>\n",
       "      <td>active-dict</td>\n",
       "    </tr>\n",
       "    <tr>\n",
       "      <th>1</th>\n",
       "      <td>2</td>\n",
       "      <td>дар</td>\n",
       "      <td>1</td>\n",
       "      <td>21-28</td>\n",
       "      <td>покупать преданность дарами и наградами</td>\n",
       "      <td>покупать преданность дар и награда</td>\n",
       "      <td>active-dict</td>\n",
       "    </tr>\n",
       "    <tr>\n",
       "      <th>2</th>\n",
       "      <td>3</td>\n",
       "      <td>дар</td>\n",
       "      <td>1</td>\n",
       "      <td>19-23</td>\n",
       "      <td>Вот яд – последний дар моей Изоры</td>\n",
       "      <td>вот яд – последний дар мой изора</td>\n",
       "      <td>active-dict</td>\n",
       "    </tr>\n",
       "    <tr>\n",
       "      <th>3</th>\n",
       "      <td>4</td>\n",
       "      <td>дар</td>\n",
       "      <td>1</td>\n",
       "      <td>81-87</td>\n",
       "      <td>Основная функция корильных песен – повеселить ...</td>\n",
       "      <td>основный функция корильный песня – повеселить ...</td>\n",
       "      <td>active-dict</td>\n",
       "    </tr>\n",
       "    <tr>\n",
       "      <th>4</th>\n",
       "      <td>5</td>\n",
       "      <td>дар</td>\n",
       "      <td>1</td>\n",
       "      <td>151-157</td>\n",
       "      <td>Но недели две спустя (Алевтина его когда-то об...</td>\n",
       "      <td>но неделя два спустя ( алевтин он когда-то о э...</td>\n",
       "      <td>active-dict</td>\n",
       "    </tr>\n",
       "  </tbody>\n",
       "</table>\n",
       "</div>"
      ],
      "text/plain": [
       "   context_id word gold_sense_id positions  \\\n",
       "0           1  дар             1     18-22   \n",
       "1           2  дар             1     21-28   \n",
       "2           3  дар             1     19-23   \n",
       "3           4  дар             1     81-87   \n",
       "4           5  дар             1   151-157   \n",
       "\n",
       "                                             context  \\\n",
       "0                              Отвергнуть щедрый дар   \n",
       "1            покупать преданность дарами и наградами   \n",
       "2                  Вот яд – последний дар моей Изоры   \n",
       "3  Основная функция корильных песен – повеселить ...   \n",
       "4  Но недели две спустя (Алевтина его когда-то об...   \n",
       "\n",
       "                                         lem_context       source  \n",
       "0                              отвергнуть щедрый дар  active-dict  \n",
       "1                 покупать преданность дар и награда  active-dict  \n",
       "2                   вот яд – последний дар мой изора  active-dict  \n",
       "3  основный функция корильный песня – повеселить ...  active-dict  \n",
       "4  но неделя два спустя ( алевтин он когда-то о э...  active-dict  "
      ]
     },
     "execution_count": 5,
     "metadata": {},
     "output_type": "execute_result"
    }
   ],
   "source": [
    "active_dict, active_dict_info = first_step_preprocessing(\"active-dict\")\n",
    "print(active_dict.shape)\n",
    "active_dict.head()"
   ]
  },
  {
   "cell_type": "code",
   "execution_count": 6,
   "metadata": {},
   "outputs": [
    {
     "name": "stdout",
     "output_type": "stream",
     "text": [
      "85\n"
     ]
    },
    {
     "data": {
      "text/plain": [
       "{'дар': [('1', 8), ('2.1', 15), ('2.3', 13)],\n",
       " 'двигатель': [('1', 6), ('2', 9)],\n",
       " 'двойник': [('1.1', 7), ('1.2', 7), ('2', 6), ('3', 5)],\n",
       " 'дворец': [('1', 7), ('2', 6)],\n",
       " 'девятка': [('1.1', 5),\n",
       "  ('1.2', 6),\n",
       "  ('2', 7),\n",
       "  ('3.1', 5),\n",
       "  ('3.2', 5),\n",
       "  ('3.3', 4),\n",
       "  ('4.1', 6),\n",
       "  ('4.2', 4),\n",
       "  ('4.3', 5)],\n",
       " 'дедушка': [('1', 5), ('2', 4)],\n",
       " 'дежурная': [('1', 6), ('2', 6)],\n",
       " 'дежурный': [('1', 6), ('2', 7)],\n",
       " 'декабрист': [('1', 7), ('2', 4)],\n",
       " 'декрет': [('1', 6), ('2', 6)],\n",
       " 'дело': [('1.1', 7),\n",
       "  ('1.2', 9),\n",
       "  ('2.1', 9),\n",
       "  ('2.2', 6),\n",
       "  ('2.3', 5),\n",
       "  ('3.1', 7),\n",
       "  ('3.2', 7),\n",
       "  ('4.1', 9),\n",
       "  ('4.2', 8),\n",
       "  ('4.3', 8),\n",
       "  ('5.1', 11),\n",
       "  ('5.2', 5),\n",
       "  ('6.1', 10),\n",
       "  ('6.2', 6),\n",
       "  ('6.3', 8),\n",
       "  ('7.1', 7),\n",
       "  ('7.2', 8)],\n",
       " 'демобилизация': [('1', 8), ('2', 6)],\n",
       " 'демократ': [('1', 7), ('2.1', 6), ('3', 5)],\n",
       " 'демонстрация': [('1', 7), ('2', 8), ('3.1', 9), ('3.2', 7), ('3.3', 7)],\n",
       " 'дерево': [('1', 8), ('2', 9), ('3', 4)],\n",
       " 'держава': [('1', 8), ('2', 7)],\n",
       " 'дерзость': [('1.1', 7),\n",
       "  ('1.2', 5),\n",
       "  ('1.3', 6),\n",
       "  ('2.1', 6),\n",
       "  ('2.2', 4),\n",
       "  ('3.1', 5),\n",
       "  ('4', 4)],\n",
       " 'десятка': [('1', 3),\n",
       "  ('2', 7),\n",
       "  ('3.1', 6),\n",
       "  ('3.2', 4),\n",
       "  ('4', 5),\n",
       "  ('5.1', 7),\n",
       "  ('5.2', 4)],\n",
       " 'десяток': [('1.1', 8), ('1.2', 13)],\n",
       " 'деятель': [('1', 7), ('2', 7)],\n",
       " 'диалог': [('1', 7), ('2', 7)],\n",
       " 'диаметр': [('1', 5), ('2.1', 7), ('2.2', 6)],\n",
       " 'диплом': [('1', 8), ('2.1', 7), ('2.2', 4), ('3', 6)],\n",
       " 'директор': [('1', 7), ('2', 4)],\n",
       " 'диск': [('1.1', 9),\n",
       "  ('1.2', 6),\n",
       "  ('1.3', 4),\n",
       "  ('2.1', 8),\n",
       "  ('2.2', 5),\n",
       "  ('3', 7),\n",
       "  ('4', 6),\n",
       "  ('5', 6),\n",
       "  ('6', 7),\n",
       "  ('7', 5)],\n",
       " 'дичь': [('1', 6), ('2', 6), ('3', 6)],\n",
       " 'длина': [('1.1', 11), ('1.2', 5), ('2', 5)],\n",
       " 'доброволец': [('1', 7), ('2', 5)],\n",
       " 'добыча': [('1.1', 7),\n",
       "  ('1.2', 5),\n",
       "  ('1.3', 3),\n",
       "  ('2.1', 5),\n",
       "  ('2.2', 7),\n",
       "  ('3', 8)],\n",
       " 'доказательство': [('1.1', 9), ('1.2', 6), ('2', 9)],\n",
       " 'доктор': [('1', 9), ('2', 8)],\n",
       " 'долгота': [('1', 7), ('2', 6)],\n",
       " 'доля': [('1.1', 8),\n",
       "  ('1.2', 4),\n",
       "  ('2.1', 7),\n",
       "  ('2.2', 5),\n",
       "  ('3', 6),\n",
       "  ('4', 8),\n",
       "  ('5', 7)],\n",
       " 'дом': [('1', 6),\n",
       "  ('2.1', 6),\n",
       "  ('2.2', 6),\n",
       "  ('2.3', 5),\n",
       "  ('3', 4),\n",
       "  ('4.1', 4),\n",
       "  ('4.2', 4),\n",
       "  ('5', 3)],\n",
       " 'дорога': [('1.1', 10),\n",
       "  ('1.2', 4),\n",
       "  ('1.3', 8),\n",
       "  ('1.4', 6),\n",
       "  ('2', 9),\n",
       "  ('3.1', 5),\n",
       "  ('3.2', 5)],\n",
       " 'достижение': [('1.1', 5), ('1.2', 3), ('2.1', 7), ('2.2', 7)],\n",
       " 'древесина': [('1', 9), ('2', 7)],\n",
       " 'дупло': [('1', 9), ('2', 6)],\n",
       " 'дура': [('1', 8), ('2', 1), ('3', 3)],\n",
       " 'дух': [('1.1', 9),\n",
       "  ('1.2', 9),\n",
       "  ('2.1', 7),\n",
       "  ('2.2', 9),\n",
       "  ('3.1', 7),\n",
       "  ('3.2', 5),\n",
       "  ('3.3', 6),\n",
       "  ('3.4', 6),\n",
       "  ('4.1', 11),\n",
       "  ('4.2', 4),\n",
       "  ('4.3', 4)],\n",
       " 'дым': [('1.1', 10), ('1.2', 9), ('2', 9)],\n",
       " 'дымка': [('1', 9), ('2', 9)],\n",
       " 'дыхание': [('1.1', 8),\n",
       "  ('1.2', 9),\n",
       "  ('2', 5),\n",
       "  ('3.1', 11),\n",
       "  ('3.2', 7),\n",
       "  ('4.1', 8),\n",
       "  ('4.2', 8)],\n",
       " 'дьявол': [('1', 8), ('2.1', 5), ('2.2', 3), ('3', 6)],\n",
       " 'евро': [('1', 7), ('2', 1)],\n",
       " 'езда': [('1', 9), ('2', 5)],\n",
       " 'жаворонок': [('1', 6), ('2', 5)],\n",
       " 'жало': [('1', 5), ('2', 6)],\n",
       " 'жертва': [('1.1', 8), ('1.2', 4), ('2', 8), ('3.1', 10), ('3.2', 7)],\n",
       " 'жестокость': [('1', 8), ('2', 6)],\n",
       " 'жидкость': [('1', 6), ('2', 6)],\n",
       " 'жила': [('1', 7), ('2', 7), ('3', 3)],\n",
       " 'жилец': [('1', 9), ('2', 7)],\n",
       " 'жир': [('1', 8), ('2', 7)],\n",
       " 'жребий': [('1', 7), ('2', 8)],\n",
       " 'заведение': [('1', 4), ('2', 9), ('3', 1)],\n",
       " 'завещание': [('1', 10), ('2', 6)],\n",
       " 'зависимость': [('1', 8), ('2', 7), ('3', 6)],\n",
       " 'заголовок': [('1', 7), ('2', 4), ('3.1', 6), ('3.2', 5)],\n",
       " 'заготовка': [('1', 8), ('2', 5), ('3', 6), ('4', 7)],\n",
       " 'задание': [('1', 7), ('2', 8), ('3', 9), ('4', 5), ('5', 4)],\n",
       " 'задача': [('1.1', 8), ('1.2', 10), ('2.1', 7), ('2.2', 6), ('3', 5)],\n",
       " 'задержка': [('1.1', 5),\n",
       "  ('1.2', 6),\n",
       "  ('2.1', 4),\n",
       "  ('2.2', 5),\n",
       "  ('3', 10),\n",
       "  ('4.1', 5),\n",
       "  ('4.2', 9),\n",
       "  ('5', 6),\n",
       "  ('6', 10)],\n",
       " 'зажигалка': [('1', 7), ('2', 6)],\n",
       " 'закон': [('1.1', 9),\n",
       "  ('1.2', 7),\n",
       "  ('1.3', 9),\n",
       "  ('1.4', 7),\n",
       "  ('2', 9),\n",
       "  ('3', 7),\n",
       "  ('4', 8)],\n",
       " 'закрытие': [('1', 5),\n",
       "  ('2', 4),\n",
       "  ('3.1', 7),\n",
       "  ('3.2', 5),\n",
       "  ('4', 6),\n",
       "  ('5', 2),\n",
       "  ('6', 5),\n",
       "  ('7', 4)],\n",
       " 'заложник': [('1', 7), ('2', 6)],\n",
       " 'замена': [('1', 8), ('2', 10)],\n",
       " 'западня': [('1', 7), ('2', 4)],\n",
       " 'запятая': [('1', 9), ('2', 5)],\n",
       " 'застой': [('1', 7), ('2', 6)],\n",
       " 'затея': [('1', 9), ('2', 3)],\n",
       " 'затишье': [('1', 5), ('2', 6), ('3', 5)],\n",
       " 'затмение': [('1', 5), ('2', 7)],\n",
       " 'затруднение': [('1', 9), ('2', 6)],\n",
       " 'захоронение': [('1.1', 8), ('1.2', 8), ('2.1', 4), ('2.2', 2)],\n",
       " 'звезда': [('1', 11), ('2.1', 6), ('2.2', 15), ('4', 8)],\n",
       " 'звон': [('1', 9), ('2', 5)],\n",
       " 'зеркало': [('1.1', 10), ('1.2', 6), ('2', 5)],\n",
       " 'зло': [('homonym1-1', 8), ('homonym1-2', 9), ('homonym1-3', 6)],\n",
       " 'злоупотребление': [('1', 7), ('2', 5)],\n",
       " 'знак': [('1', 8),\n",
       "  ('2.1', 8),\n",
       "  ('2.2', 8),\n",
       "  ('2.3', 7),\n",
       "  ('3', 10),\n",
       "  ('4', 9),\n",
       "  ('5', 5)],\n",
       " 'знамя': [('1', 9), ('2', 5)],\n",
       " 'значение': [('1.1', 6), ('1.2', 8), ('1.3', 6), ('2', 10)],\n",
       " 'зонт': [('1', 5), ('2', 4)]}"
      ]
     },
     "execution_count": 6,
     "metadata": {},
     "output_type": "execute_result"
    }
   ],
   "source": [
    "print(len(active_dict_info.keys()))\n",
    "active_dict_info"
   ]
  },
  {
   "cell_type": "code",
   "execution_count": 7,
   "metadata": {},
   "outputs": [
    {
     "name": "stderr",
     "output_type": "stream",
     "text": [
      "C:\\Users\\boss\\Anaconda3\\lib\\site-packages\\ipykernel_launcher.py:20: UserWarning: Boolean Series key will be reindexed to match DataFrame index.\n",
      "C:\\Users\\boss\\Anaconda3\\lib\\site-packages\\ipykernel_launcher.py:19: SettingWithCopyWarning: \n",
      "A value is trying to be set on a copy of a slice from a DataFrame\n",
      "\n",
      "See the caveats in the documentation: http://pandas.pydata.org/pandas-docs/stable/indexing.html#indexing-view-versus-copy\n"
     ]
    },
    {
     "data": {
      "text/plain": [
       "(3491, 7)"
      ]
     },
     "execution_count": 7,
     "metadata": {},
     "output_type": "execute_result"
    }
   ],
   "source": [
    "bts_rnc, bts_rnc_info = first_step_preprocessing('bts-rnc')\n",
    "bts_rnc.shape"
   ]
  },
  {
   "cell_type": "code",
   "execution_count": 8,
   "metadata": {
    "scrolled": true
   },
   "outputs": [
    {
     "name": "stdout",
     "output_type": "stream",
     "text": [
      "30\n"
     ]
    },
    {
     "data": {
      "text/plain": [
       "{'балка': [(1, 81), (2, 38)],\n",
       " 'вид': [(1, 38), (2, 3), (5, 36)],\n",
       " 'винт': [(1, 39), (2, 67), (3, 1), (5, 16)],\n",
       " 'горн': [(1, 20), (2, 1), (3, 30)],\n",
       " 'губа': [(1, 132), (3, 3), (4, 2)],\n",
       " 'жаба': [(1, 79), (2, 6), (3, 9), (4, 27)],\n",
       " 'клетка': [(1, 38), (2, 1), (3, 7), (4, 96), (5, 4), (6, 4)],\n",
       " 'крыло': [(1, 51), (2, 19), (3, 1), (4, 4), (5, 1), (6, 3), (7, 5), (8, 7)],\n",
       " 'купюра': [(1, 12), (2, 138)],\n",
       " 'курица': [(1, 62), (2, 31)],\n",
       " 'лавка': [(1, 67), (2, 82)],\n",
       " 'лайка': [(1, 81), (2, 18)],\n",
       " 'лев': [(1, 36), (2, 2), (3, 2), (4, 4)],\n",
       " 'лира': [(1, 33), (2, 16)],\n",
       " 'мина': [(1, 51), (2, 12), (3, 2)],\n",
       " 'мишень': [(1, 88), (2, 33)],\n",
       " 'обед': [(1, 62), (2, 17), (3, 19), (4, 2)],\n",
       " 'оклад': [(1, 137), (2, 5), (3, 4)],\n",
       " 'опушка': [(1, 142), (2, 6)],\n",
       " 'полис': [(1, 3), (2, 139)],\n",
       " 'пост': [(1, 32), (2, 98), (3, 10), (4, 2), (5, 2)],\n",
       " 'поток': [(1, 12), (2, 124)],\n",
       " 'проказа': [(1, 95), (2, 51)],\n",
       " 'пропасть': [(1, 92), (2, 25), (3, 7), (4, 3)],\n",
       " 'проспект': [(1, 117), (2, 6), (3, 4), (4, 12)],\n",
       " 'пытка': [(1, 116), (2, 27)],\n",
       " 'рысь': [(1, 82), (2, 38)],\n",
       " 'среда': [(1, 13), (2, 32), (3, 47), (4, 52)],\n",
       " 'хвост': [(1, 100), (3, 8), (4, 12), (7, 1)],\n",
       " 'штамп': [(1, 45), (2, 1), (3, 3), (4, 47)]}"
      ]
     },
     "execution_count": 8,
     "metadata": {},
     "output_type": "execute_result"
    }
   ],
   "source": [
    "print(len(bts_rnc_info.keys()))\n",
    "bts_rnc_info"
   ]
  },
  {
   "cell_type": "code",
   "execution_count": 9,
   "metadata": {},
   "outputs": [
    {
     "name": "stderr",
     "output_type": "stream",
     "text": [
      "C:\\Users\\boss\\Anaconda3\\lib\\site-packages\\ipykernel_launcher.py:20: UserWarning: Boolean Series key will be reindexed to match DataFrame index.\n",
      "C:\\Users\\boss\\Anaconda3\\lib\\site-packages\\ipykernel_launcher.py:19: SettingWithCopyWarning: \n",
      "A value is trying to be set on a copy of a slice from a DataFrame\n",
      "\n",
      "See the caveats in the documentation: http://pandas.pydata.org/pandas-docs/stable/indexing.html#indexing-view-versus-copy\n"
     ]
    },
    {
     "data": {
      "text/plain": [
       "(439, 7)"
      ]
     },
     "execution_count": 9,
     "metadata": {},
     "output_type": "execute_result"
    }
   ],
   "source": [
    "wiki_wiki, wiki_wiki_info = first_step_preprocessing('wiki-wiki')\n",
    "wiki_wiki.shape"
   ]
  },
  {
   "cell_type": "code",
   "execution_count": 10,
   "metadata": {},
   "outputs": [
    {
     "name": "stdout",
     "output_type": "stream",
     "text": [
      "4\n"
     ]
    },
    {
     "data": {
      "text/plain": [
       "{'замок': [(1, 100), (2, 38)],\n",
       " 'лук': [(1, 65), (2, 45)],\n",
       " 'суда': [(1, 100), (2, 35)],\n",
       " 'бор': [(1, 14), (2, 42)]}"
      ]
     },
     "execution_count": 10,
     "metadata": {},
     "output_type": "execute_result"
    }
   ],
   "source": [
    "print(len(wiki_wiki_info.keys()))\n",
    "wiki_wiki_info"
   ]
  },
  {
   "cell_type": "code",
   "execution_count": 11,
   "metadata": {},
   "outputs": [
    {
     "name": "stderr",
     "output_type": "stream",
     "text": [
      "C:\\Users\\boss\\Anaconda3\\lib\\site-packages\\ipykernel_launcher.py:20: UserWarning: Boolean Series key will be reindexed to match DataFrame index.\n",
      "C:\\Users\\boss\\Anaconda3\\lib\\site-packages\\ipykernel_launcher.py:19: SettingWithCopyWarning: \n",
      "A value is trying to be set on a copy of a slice from a DataFrame\n",
      "\n",
      "See the caveats in the documentation: http://pandas.pydata.org/pandas-docs/stable/indexing.html#indexing-view-versus-copy\n"
     ]
    },
    {
     "data": {
      "text/plain": [
       "(1828, 7)"
      ]
     },
     "execution_count": 11,
     "metadata": {},
     "output_type": "execute_result"
    }
   ],
   "source": [
    "active_rnc, active_rnc_info = first_step_preprocessing('active-rnc')\n",
    "active_rnc.shape"
   ]
  },
  {
   "cell_type": "code",
   "execution_count": 12,
   "metadata": {
    "scrolled": true
   },
   "outputs": [
    {
     "name": "stdout",
     "output_type": "stream",
     "text": [
      "20\n"
     ]
    },
    {
     "data": {
      "text/plain": [
       "{'альбом': [(1, 41), (2, 25), (3, 19)],\n",
       " 'анатомия': [(1, 71), (2, 22), (3, 6)],\n",
       " 'базар': [(1, 91), (2, 6), (3, 3)],\n",
       " 'балет': [(1, 51), (2, 10), (3, 25), (4, 10)],\n",
       " 'беда': [(1, 69), (2, 27), (3, 3)],\n",
       " 'бездна': [(1, 37), (2, 39), (3, 2), (4, 21)],\n",
       " 'билет': [(1, 83), (2, 6), (3, 6), (4, 5)],\n",
       " 'блок': [(1, 1), (2, 2), (3, 2), (4, 3), (5, 15), (7, 28), (8, 2)],\n",
       " 'блоха': [(1, 86), (2, 2)],\n",
       " 'брак': [(1, 95), (3, 2)],\n",
       " 'бритва': [(1, 94), (2, 6)],\n",
       " 'будущее': [(1, 64), (2, 22)],\n",
       " 'вешалка': [(1, 77), (2, 4), (3, 12), (4, 1)],\n",
       " 'вилка': [(1, 91), (2, 2), (3, 1)],\n",
       " 'винт': [(1, 21), (2, 51), (3, 6), (4, 1)],\n",
       " 'галерея': [(1, 16), (2, 12), (3, 6), (4, 8), (5, 4), (6, 50), (7, 3)],\n",
       " 'горбуша': [(1, 43), (2, 31)],\n",
       " 'горшок': [(1, 48), (2, 35), (3, 9)],\n",
       " 'гроза': [(1, 82), (2, 4), (3, 8), (4, 4)],\n",
       " 'группа': [(1, 13), (2, 3), (3, 13), (4, 47), (5, 20)]}"
      ]
     },
     "execution_count": 12,
     "metadata": {},
     "output_type": "execute_result"
    }
   ],
   "source": [
    "print(len(active_rnc_info.keys()))\n",
    "active_rnc_info"
   ]
  },
  {
   "cell_type": "code",
   "execution_count": 13,
   "metadata": {},
   "outputs": [
    {
     "name": "stderr",
     "output_type": "stream",
     "text": [
      "C:\\Users\\boss\\Anaconda3\\lib\\site-packages\\ipykernel_launcher.py:20: UserWarning: Boolean Series key will be reindexed to match DataFrame index.\n",
      "C:\\Users\\boss\\Anaconda3\\lib\\site-packages\\ipykernel_launcher.py:19: SettingWithCopyWarning: \n",
      "A value is trying to be set on a copy of a slice from a DataFrame\n",
      "\n",
      "See the caveats in the documentation: http://pandas.pydata.org/pandas-docs/stable/indexing.html#indexing-view-versus-copy\n"
     ]
    },
    {
     "data": {
      "text/plain": [
       "(3671, 7)"
      ]
     },
     "execution_count": 13,
     "metadata": {},
     "output_type": "execute_result"
    }
   ],
   "source": [
    "active_rutenten, active_rutenten_info = first_step_preprocessing('active-rutenten')\n",
    "active_rutenten.shape"
   ]
  },
  {
   "cell_type": "code",
   "execution_count": 14,
   "metadata": {
    "scrolled": true
   },
   "outputs": [
    {
     "name": "stdout",
     "output_type": "stream",
     "text": [
      "20\n"
     ]
    },
    {
     "data": {
      "text/plain": [
       "{'альбом': [(1, 6), (2, 81), (3, 363)],\n",
       " 'анатомия': [(1, 50), (2, 36), (3, 9)],\n",
       " 'базар': [(1, 75), (2, 6), (3, 9)],\n",
       " 'балет': [(1, 53), (2, 13), (3, 26), (4, 2)],\n",
       " 'беда': [(1, 33), (2, 60)],\n",
       " 'бездна': [(1, 30), (2, 28), (3, 5), (4, 24)],\n",
       " 'билет': [(1, 405), (2, 24), (3, 11), (4, 7)],\n",
       " 'блок': [(1, 3), (2, 53), (3, 7), (4, 14), (5, 60), (6, 35), (7, 9), (9, 25)],\n",
       " 'блоха': [(1, 84), (2, 2)],\n",
       " 'брак': [(1, 83), (2, 13)],\n",
       " 'бритва': [(1, 81), (2, 4)],\n",
       " 'будущее': [(1, 54), (2, 29)],\n",
       " 'вешалка': [(1, 248), (2, 32), (3, 100), (4, 9), (5, 1)],\n",
       " 'вилка': [(1, 220), (2, 23), (3, 1), (4, 1), (5, 57)],\n",
       " 'винт': [(1, 193), (2, 146), (3, 10), (4, 8), (5, 1)],\n",
       " 'галерея': [(3, 1), (6, 17), (7, 6)],\n",
       " 'горбуша': [(1, 51), (2, 42)],\n",
       " 'горшок': [(1, 83), (2, 232), (3, 91)],\n",
       " 'гроза': [(1, 76), (2, 4), (3, 3), (4, 12)],\n",
       " 'группа': [(1, 5), (2, 11), (3, 17), (4, 42), (5, 16)]}"
      ]
     },
     "execution_count": 14,
     "metadata": {},
     "output_type": "execute_result"
    }
   ],
   "source": [
    "print(len(active_rutenten_info.keys()))\n",
    "active_rutenten_info"
   ]
  },
  {
   "cell_type": "code",
   "execution_count": 15,
   "metadata": {},
   "outputs": [
    {
     "name": "stderr",
     "output_type": "stream",
     "text": [
      "C:\\Users\\boss\\Anaconda3\\lib\\site-packages\\ipykernel_launcher.py:20: UserWarning: Boolean Series key will be reindexed to match DataFrame index.\n",
      "C:\\Users\\boss\\Anaconda3\\lib\\site-packages\\ipykernel_launcher.py:19: SettingWithCopyWarning: \n",
      "A value is trying to be set on a copy of a slice from a DataFrame\n",
      "\n",
      "See the caveats in the documentation: http://pandas.pydata.org/pandas-docs/stable/indexing.html#indexing-view-versus-copy\n"
     ]
    },
    {
     "data": {
      "text/plain": [
       "(956, 7)"
      ]
     },
     "execution_count": 15,
     "metadata": {},
     "output_type": "execute_result"
    }
   ],
   "source": [
    "bts_rutenten, bts_rutenten_info = first_step_preprocessing('bts-rutenten')\n",
    "bts_rutenten.shape"
   ]
  },
  {
   "cell_type": "code",
   "execution_count": 16,
   "metadata": {
    "scrolled": true
   },
   "outputs": [
    {
     "name": "stdout",
     "output_type": "stream",
     "text": [
      "11\n"
     ]
    },
    {
     "data": {
      "text/plain": [
       "{'дисциплина': [(1, 30), (2, 64), (3, 4)],\n",
       " 'замок': [(1, 46), (2, 45)],\n",
       " 'корона': [(1, 48), (2, 23), (3, 7)],\n",
       " 'кран': [(1, 33), (2, 61)],\n",
       " 'лавка': [(1, 25), (2, 65)],\n",
       " 'летопись': [(1, 70), (2, 25)],\n",
       " 'мат': [(1, 6), (2, 11), (4, 50)],\n",
       " 'отклонение': [(1, 66), (2, 11), (3, 17)],\n",
       " 'сук': [(1, 64)],\n",
       " 'тост': [(1, 73), (2, 18)],\n",
       " 'щель': [(1, 86), (3, 8)]}"
      ]
     },
     "execution_count": 16,
     "metadata": {},
     "output_type": "execute_result"
    }
   ],
   "source": [
    "print(len(bts_rutenten_info.keys()))\n",
    "bts_rutenten_info"
   ]
  },
  {
   "cell_type": "markdown",
   "metadata": {},
   "source": [
    "## 2. Посмотрим, какие слова пересекаются между датасетами "
   ]
  },
  {
   "cell_type": "markdown",
   "metadata": {},
   "source": [
    "! По целевым словам active_rutenten и active_rnc совпадают, потом будем проверять, совпадают ли в них разделения на значения"
   ]
  },
  {
   "cell_type": "code",
   "execution_count": 17,
   "metadata": {},
   "outputs": [
    {
     "name": "stdout",
     "output_type": "stream",
     "text": [
      "{'блок', 'брак', 'бритва', 'вешалка', 'альбом', 'горшок', 'базар', 'блоха', 'гроза', 'балет', 'галерея', 'винт', 'анатомия', 'билет', 'бездна', 'будущее', 'беда', 'горбуша', 'вилка', 'группа'}\n"
     ]
    }
   ],
   "source": [
    "print(set(active_rnc_info.keys()) & set(active_rutenten_info.keys()))"
   ]
  },
  {
   "cell_type": "markdown",
   "metadata": {},
   "source": [
    "active_dict по словам не пересекается ни с одним другим"
   ]
  },
  {
   "cell_type": "code",
   "execution_count": 18,
   "metadata": {},
   "outputs": [
    {
     "name": "stdout",
     "output_type": "stream",
     "text": [
      "set()\n",
      "set()\n",
      "set()\n",
      "set()\n"
     ]
    }
   ],
   "source": [
    "print(set(active_dict_info.keys()) & set(active_rnc_info.keys()))\n",
    "print(set(active_dict_info.keys()) & set(bts_rnc_info.keys()))\n",
    "print(set(active_dict_info.keys()) & set(bts_rutenten_info.keys()))\n",
    "print(set(active_dict_info.keys()) & set(wiki_wiki_info.keys()))"
   ]
  },
  {
   "cell_type": "markdown",
   "metadata": {},
   "source": [
    "У active_rnc и bts_rnc (и, соответственно, active_rutenten) есть общее слово \"винт\""
   ]
  },
  {
   "cell_type": "code",
   "execution_count": 19,
   "metadata": {},
   "outputs": [
    {
     "name": "stdout",
     "output_type": "stream",
     "text": [
      "{'винт'}\n",
      "set()\n",
      "set()\n"
     ]
    }
   ],
   "source": [
    "print(set(active_rnc_info.keys()) & set(bts_rnc_info.keys()))\n",
    "print(set(active_rnc_info.keys()) & set(bts_rutenten_info.keys()))\n",
    "print(set(active_rnc_info.keys()) & set(wiki_wiki_info.keys()))"
   ]
  },
  {
   "cell_type": "markdown",
   "metadata": {},
   "source": [
    "У bts_rnc и bts_rutenten - \"лавка\""
   ]
  },
  {
   "cell_type": "code",
   "execution_count": 20,
   "metadata": {},
   "outputs": [
    {
     "name": "stdout",
     "output_type": "stream",
     "text": [
      "{'лавка'}\n",
      "set()\n"
     ]
    }
   ],
   "source": [
    "print(set(bts_rnc_info.keys()) & set(bts_rutenten_info.keys()))\n",
    "print(set(bts_rnc_info.keys()) & set(wiki_wiki_info.keys()))"
   ]
  },
  {
   "cell_type": "markdown",
   "metadata": {},
   "source": [
    "У bts_rutenten и wiki_wiki - \"замок\""
   ]
  },
  {
   "cell_type": "code",
   "execution_count": 21,
   "metadata": {},
   "outputs": [
    {
     "name": "stdout",
     "output_type": "stream",
     "text": [
      "{'замок'}\n"
     ]
    }
   ],
   "source": [
    "print(set(bts_rutenten_info.keys()) & set(wiki_wiki_info.keys()))"
   ]
  },
  {
   "cell_type": "markdown",
   "metadata": {},
   "source": [
    "#### Есть ли в датасетах подходящие нам слова "
   ]
  },
  {
   "cell_type": "code",
   "execution_count": 22,
   "metadata": {},
   "outputs": [],
   "source": [
    "def show_senses_with_enough_contexts(dict_with_info, what_is_enough=20):\n",
    "    printed_out_something = False\n",
    "    for key in dict_with_info:\n",
    "        res = [] # list with good pairs (sense - number of contexts)\n",
    "        for pair in dict_with_info[key]:\n",
    "            if pair[1] >= what_is_enough:\n",
    "                res.append(pair)\n",
    "        if res:\n",
    "            printed_out_something = True\n",
    "            print(key)\n",
    "            for pair in res:\n",
    "                print(\"%s :: %s\" % (pair[0], pair[1])) \n",
    "    if not printed_out_something:\n",
    "        print(\"No senses with enough contexts here\")\n",
    "    return"
   ]
  },
  {
   "cell_type": "code",
   "execution_count": 23,
   "metadata": {},
   "outputs": [
    {
     "name": "stdout",
     "output_type": "stream",
     "text": [
      "No senses with enough contexts here\n"
     ]
    }
   ],
   "source": [
    "# этот датасет дальше рассматривать не будем - там нет значений с > 20 контекстами\n",
    "show_senses_with_enough_contexts(active_dict_info)"
   ]
  },
  {
   "cell_type": "code",
   "execution_count": 24,
   "metadata": {
    "scrolled": true
   },
   "outputs": [
    {
     "name": "stdout",
     "output_type": "stream",
     "text": [
      "балка\n",
      "1 :: 81\n",
      "2 :: 38\n",
      "вид\n",
      "1 :: 38\n",
      "5 :: 36\n",
      "винт\n",
      "1 :: 39\n",
      "2 :: 67\n",
      "горн\n",
      "1 :: 20\n",
      "3 :: 30\n",
      "губа\n",
      "1 :: 132\n",
      "жаба\n",
      "1 :: 79\n",
      "4 :: 27\n",
      "клетка\n",
      "1 :: 38\n",
      "4 :: 96\n",
      "крыло\n",
      "1 :: 51\n",
      "купюра\n",
      "2 :: 138\n",
      "курица\n",
      "1 :: 62\n",
      "2 :: 31\n",
      "лавка\n",
      "1 :: 67\n",
      "2 :: 82\n",
      "лайка\n",
      "1 :: 81\n",
      "лев\n",
      "1 :: 36\n",
      "лира\n",
      "1 :: 33\n",
      "мина\n",
      "1 :: 51\n",
      "мишень\n",
      "1 :: 88\n",
      "2 :: 33\n",
      "обед\n",
      "1 :: 62\n",
      "оклад\n",
      "1 :: 137\n",
      "опушка\n",
      "1 :: 142\n",
      "полис\n",
      "2 :: 139\n",
      "пост\n",
      "1 :: 32\n",
      "2 :: 98\n",
      "поток\n",
      "2 :: 124\n",
      "проказа\n",
      "1 :: 95\n",
      "2 :: 51\n",
      "пропасть\n",
      "1 :: 92\n",
      "2 :: 25\n",
      "проспект\n",
      "1 :: 117\n",
      "пытка\n",
      "1 :: 116\n",
      "2 :: 27\n",
      "рысь\n",
      "1 :: 82\n",
      "2 :: 38\n",
      "среда\n",
      "2 :: 32\n",
      "3 :: 47\n",
      "4 :: 52\n",
      "хвост\n",
      "1 :: 100\n",
      "штамп\n",
      "1 :: 45\n",
      "4 :: 47\n"
     ]
    }
   ],
   "source": [
    "show_senses_with_enough_contexts(bts_rnc_info)"
   ]
  },
  {
   "cell_type": "code",
   "execution_count": 25,
   "metadata": {},
   "outputs": [
    {
     "name": "stdout",
     "output_type": "stream",
     "text": [
      "замок\n",
      "1 :: 100\n",
      "2 :: 38\n",
      "лук\n",
      "1 :: 65\n",
      "2 :: 45\n",
      "суда\n",
      "1 :: 100\n",
      "2 :: 35\n",
      "бор\n",
      "2 :: 42\n"
     ]
    }
   ],
   "source": [
    "show_senses_with_enough_contexts(wiki_wiki_info)"
   ]
  },
  {
   "cell_type": "code",
   "execution_count": 26,
   "metadata": {
    "scrolled": true
   },
   "outputs": [
    {
     "name": "stdout",
     "output_type": "stream",
     "text": [
      "альбом\n",
      "1 :: 41\n",
      "2 :: 25\n",
      "анатомия\n",
      "1 :: 71\n",
      "2 :: 22\n",
      "базар\n",
      "1 :: 91\n",
      "балет\n",
      "1 :: 51\n",
      "3 :: 25\n",
      "беда\n",
      "1 :: 69\n",
      "2 :: 27\n",
      "бездна\n",
      "1 :: 37\n",
      "2 :: 39\n",
      "4 :: 21\n",
      "билет\n",
      "1 :: 83\n",
      "блок\n",
      "7 :: 28\n",
      "блоха\n",
      "1 :: 86\n",
      "брак\n",
      "1 :: 95\n",
      "бритва\n",
      "1 :: 94\n",
      "будущее\n",
      "1 :: 64\n",
      "2 :: 22\n",
      "вешалка\n",
      "1 :: 77\n",
      "вилка\n",
      "1 :: 91\n",
      "винт\n",
      "1 :: 21\n",
      "2 :: 51\n",
      "галерея\n",
      "6 :: 50\n",
      "горбуша\n",
      "1 :: 43\n",
      "2 :: 31\n",
      "горшок\n",
      "1 :: 48\n",
      "2 :: 35\n",
      "гроза\n",
      "1 :: 82\n",
      "группа\n",
      "4 :: 47\n",
      "5 :: 20\n"
     ]
    }
   ],
   "source": [
    "show_senses_with_enough_contexts(active_rnc_info)"
   ]
  },
  {
   "cell_type": "code",
   "execution_count": 27,
   "metadata": {
    "scrolled": true
   },
   "outputs": [
    {
     "name": "stdout",
     "output_type": "stream",
     "text": [
      "альбом\n",
      "2 :: 81\n",
      "3 :: 363\n",
      "анатомия\n",
      "1 :: 50\n",
      "2 :: 36\n",
      "базар\n",
      "1 :: 75\n",
      "балет\n",
      "1 :: 53\n",
      "3 :: 26\n",
      "беда\n",
      "1 :: 33\n",
      "2 :: 60\n",
      "бездна\n",
      "1 :: 30\n",
      "2 :: 28\n",
      "4 :: 24\n",
      "билет\n",
      "1 :: 405\n",
      "2 :: 24\n",
      "блок\n",
      "2 :: 53\n",
      "5 :: 60\n",
      "6 :: 35\n",
      "9 :: 25\n",
      "блоха\n",
      "1 :: 84\n",
      "брак\n",
      "1 :: 83\n",
      "бритва\n",
      "1 :: 81\n",
      "будущее\n",
      "1 :: 54\n",
      "2 :: 29\n",
      "вешалка\n",
      "1 :: 248\n",
      "2 :: 32\n",
      "3 :: 100\n",
      "вилка\n",
      "1 :: 220\n",
      "2 :: 23\n",
      "5 :: 57\n",
      "винт\n",
      "1 :: 193\n",
      "2 :: 146\n",
      "горбуша\n",
      "1 :: 51\n",
      "2 :: 42\n",
      "горшок\n",
      "1 :: 83\n",
      "2 :: 232\n",
      "3 :: 91\n",
      "гроза\n",
      "1 :: 76\n",
      "группа\n",
      "4 :: 42\n"
     ]
    }
   ],
   "source": [
    "show_senses_with_enough_contexts(active_rutenten_info)"
   ]
  },
  {
   "cell_type": "code",
   "execution_count": 28,
   "metadata": {
    "scrolled": true
   },
   "outputs": [
    {
     "name": "stdout",
     "output_type": "stream",
     "text": [
      "дисциплина\n",
      "1 :: 30\n",
      "2 :: 64\n",
      "замок\n",
      "1 :: 46\n",
      "2 :: 45\n",
      "корона\n",
      "1 :: 48\n",
      "2 :: 23\n",
      "кран\n",
      "1 :: 33\n",
      "2 :: 61\n",
      "лавка\n",
      "1 :: 25\n",
      "2 :: 65\n",
      "летопись\n",
      "1 :: 70\n",
      "2 :: 25\n",
      "мат\n",
      "4 :: 50\n",
      "отклонение\n",
      "1 :: 66\n",
      "сук\n",
      "1 :: 64\n",
      "тост\n",
      "1 :: 73\n",
      "щель\n",
      "1 :: 86\n"
     ]
    }
   ],
   "source": [
    "show_senses_with_enough_contexts(bts_rutenten_info)"
   ]
  },
  {
   "cell_type": "markdown",
   "metadata": {},
   "source": [
    "#### Проанализируем подробнее слова, которые пересекаются в нескольких датасетах "
   ]
  },
  {
   "cell_type": "markdown",
   "metadata": {},
   "source": [
    "#### 1 "
   ]
  },
  {
   "cell_type": "code",
   "execution_count": null,
   "metadata": {},
   "outputs": [],
   "source": [
    "# Замок: wiki-wiki и bts-rutenten\n",
    "# хотя инвентарь значений у них как бы разный (по Большому Толковому Словарю vs по Викисловарю), для слова замок - одинаковые.\n",
    "# и распределены они тоже одинаково: 1 значение - замок-здание, 2 значение - замок-ключ"
   ]
  },
  {
   "cell_type": "code",
   "execution_count": 29,
   "metadata": {},
   "outputs": [
    {
     "name": "stdout",
     "output_type": "stream",
     "text": [
      "[(1, 100), (2, 38)]\n",
      "[(1, 46), (2, 45)]\n"
     ]
    }
   ],
   "source": [
    "print(wiki_wiki_info[\"замок\"])\n",
    "print(bts_rutenten_info[\"замок\"])"
   ]
  },
  {
   "cell_type": "code",
   "execution_count": 30,
   "metadata": {},
   "outputs": [
    {
     "name": "stdout",
     "output_type": "stream",
     "text": [
      "set()\n"
     ]
    }
   ],
   "source": [
    "# проверим, не перемекаются ли контексты\n",
    "wiki_wiki_contexts = set(wiki_wiki[wiki_wiki.word == \"замок\"][\"lem_context\"])\n",
    "bts_rutenten_contexts = set(bts_rutenten[bts_rutenten.word == \"замок\"][\"lem_context\"])\n",
    "print(wiki_wiki_contexts & bts_rutenten_contexts)"
   ]
  },
  {
   "cell_type": "markdown",
   "metadata": {},
   "source": [
    "#### 2 "
   ]
  },
  {
   "cell_type": "code",
   "execution_count": null,
   "metadata": {},
   "outputs": [],
   "source": [
    "# Лавка: bts-rnc и bts-rutenten\n",
    "# инвентарь значений одинаковый\n",
    "# 1 - лавка-скамейка, 2 - лавка-магазин"
   ]
  },
  {
   "cell_type": "code",
   "execution_count": 31,
   "metadata": {},
   "outputs": [
    {
     "name": "stdout",
     "output_type": "stream",
     "text": [
      "[(1, 67), (2, 82)]\n",
      "[(1, 25), (2, 65)]\n"
     ]
    }
   ],
   "source": [
    "print(bts_rnc_info[\"лавка\"])\n",
    "print(bts_rutenten_info[\"лавка\"])"
   ]
  },
  {
   "cell_type": "code",
   "execution_count": 32,
   "metadata": {},
   "outputs": [
    {
     "name": "stdout",
     "output_type": "stream",
     "text": [
      "set()\n"
     ]
    }
   ],
   "source": [
    "bts_rnc_contexts = set(bts_rnc[bts_rnc.word == \"лавка\"][\"lem_context\"])\n",
    "bts_rutenten_contexts = set(bts_rutenten[bts_rutenten.word == \"лавка\"][\"lem_context\"])\n",
    "print(bts_rnc_contexts & bts_rutenten_contexts)"
   ]
  },
  {
   "cell_type": "markdown",
   "metadata": {},
   "source": [
    "#### 3 "
   ]
  },
  {
   "cell_type": "code",
   "execution_count": null,
   "metadata": {},
   "outputs": [],
   "source": [
    "# Винт: bts-rnc, active-rnc, active-rutenten"
   ]
  },
  {
   "cell_type": "code",
   "execution_count": 33,
   "metadata": {},
   "outputs": [
    {
     "name": "stdout",
     "output_type": "stream",
     "text": [
      "[(1, 39), (2, 67), (3, 1), (5, 16)]\n",
      "[(1, 21), (2, 51), (3, 6), (4, 1)]\n",
      "[(1, 193), (2, 146), (3, 10), (4, 8), (5, 1)]\n"
     ]
    }
   ],
   "source": [
    "print(bts_rnc_info[\"винт\"])\n",
    "print(active_rnc_info[\"винт\"])\n",
    "print(active_rutenten_info[\"винт\"])"
   ]
  },
  {
   "cell_type": "markdown",
   "metadata": {},
   "source": [
    "Инвентарь значений:\n",
    "\n",
    "\n",
    "**bts_rnc**\n",
    "\n",
    "- 1 - винт-инструмент \n",
    "- 2 - винт как часть механизма (мотора, двигателя)\n",
    "- 3 - препарат (\"самая лучшая водка с лучшим винтом\") \n",
    "- 5 - карточная игра\n",
    "\n",
    "\n",
    "**active_rnc**\n",
    "\n",
    "- 1 - инструмент\n",
    "- 2 - часть механизма\n",
    "- 3 - форма\n",
    "- 4 - препарат (\"содержащий метамфетамин препарат винт\")\n",
    "\n",
    "\n",
    "**active_rutenten**\n",
    "\n",
    "- 1 - инструмент\n",
    "- 2 - часть механизма\n",
    "- 3 - форма (?пересекается со вторым значением в bts-rnc)\n",
    "- 4 - препарат\n",
    "- 5 - игра\n",
    "\n",
    "\n",
    "Но в некоторых очень мало контекстов. Если убрать значения с количеством контекстов <20 (даже из всех трёх), то останется:\n",
    "\n",
    "- 1 - винт-инструмент\n",
    "- 2 - винт как часть механизма (мотора, двигателя)"
   ]
  },
  {
   "cell_type": "code",
   "execution_count": 34,
   "metadata": {},
   "outputs": [
    {
     "name": "stdout",
     "output_type": "stream",
     "text": [
      "set()\n",
      "set()\n",
      "set()\n"
     ]
    }
   ],
   "source": [
    "# не перемекаются ли контексты bts-rnc, active-rnc, active-rutenten\n",
    "bts_rnc_contexts = set(bts_rnc[bts_rnc.word == \"винт\"][\"lem_context\"])\n",
    "active_rnc_contexts = set(active_rnc[active_rnc.word == \"винт\"][\"lem_context\"])\n",
    "active_rutenten_contexts = set(active_rutenten[active_rutenten.word == \"винт\"][\"lem_context\"])\n",
    "print(bts_rnc_contexts & active_rnc_contexts)\n",
    "print(active_rnc_contexts & active_rutenten_contexts)\n",
    "print(active_rnc_contexts & active_rutenten_contexts)"
   ]
  },
  {
   "cell_type": "markdown",
   "metadata": {},
   "source": [
    "#### 4 "
   ]
  },
  {
   "cell_type": "code",
   "execution_count": null,
   "metadata": {},
   "outputs": [],
   "source": [
    "# Самое сложное - active-rnc и active-rutenten - 19 слов"
   ]
  },
  {
   "cell_type": "code",
   "execution_count": 35,
   "metadata": {},
   "outputs": [],
   "source": [
    "# не пересекаются ли контексты\n",
    "active_rnc_contexts = set(active_rnc[\"lem_context\"])\n",
    "active_rutenten_contexts = set(active_rutenten[\"lem_context\"])"
   ]
  },
  {
   "cell_type": "markdown",
   "metadata": {},
   "source": [
    "Анализировала значения в двух датасетах: совпадают ли они, какие контексты в каждом из значений.\n",
    "Некоторые слова пришлось убрать - когда не очень понятно, совпадает ли разделение на значения или разделение не очень понятно.\n",
    "\n",
    "В результате оставляем - базар, билет, блоха, брак, бритва, вешалка, вилка, галерея, горбуша, горшок, гроза (+ винт, но он уже). Убираем - альбом, анатомия, балет, беда, бездна, блок, будущее, группа."
   ]
  },
  {
   "cell_type": "code",
   "execution_count": 36,
   "metadata": {},
   "outputs": [
    {
     "name": "stdout",
     "output_type": "stream",
     "text": [
      "(1828, 7)\n",
      "(1115, 7)\n"
     ]
    }
   ],
   "source": [
    "print(active_rnc.shape)\n",
    "active_rnc = active_rnc.drop(active_rnc[active_rnc.word==\"альбом\"].index)\n",
    "active_rnc = active_rnc.drop(active_rnc[active_rnc.word==\"анатомия\"].index)\n",
    "active_rnc = active_rnc.drop(active_rnc[active_rnc.word==\"балет\"].index)\n",
    "active_rnc = active_rnc.drop(active_rnc[active_rnc.word==\"беда\"].index)\n",
    "active_rnc = active_rnc.drop(active_rnc[active_rnc.word==\"бездна\"].index)\n",
    "active_rnc = active_rnc.drop(active_rnc[active_rnc.word==\"блок\"].index)\n",
    "active_rnc = active_rnc.drop(active_rnc[active_rnc.word==\"будущее\"].index)\n",
    "active_rnc = active_rnc.drop(active_rnc[active_rnc.word==\"группа\"].index)\n",
    "print(active_rnc.shape)"
   ]
  },
  {
   "cell_type": "code",
   "execution_count": 37,
   "metadata": {},
   "outputs": [
    {
     "name": "stdout",
     "output_type": "stream",
     "text": [
      "(3671, 7)\n",
      "(2472, 7)\n"
     ]
    }
   ],
   "source": [
    "print(active_rutenten.shape)\n",
    "active_rutenten = active_rutenten.drop(active_rutenten[active_rutenten.word==\"альбом\"].index)\n",
    "active_rutenten = active_rutenten.drop(active_rutenten[active_rutenten.word==\"анатомия\"].index)\n",
    "active_rutenten = active_rutenten.drop(active_rutenten[active_rutenten.word==\"балет\"].index)\n",
    "active_rutenten = active_rutenten.drop(active_rutenten[active_rutenten.word==\"беда\"].index)\n",
    "active_rutenten = active_rutenten.drop(active_rutenten[active_rutenten.word==\"бездна\"].index)\n",
    "active_rutenten = active_rutenten.drop(active_rutenten[active_rutenten.word==\"блок\"].index)\n",
    "active_rutenten = active_rutenten.drop(active_rutenten[active_rutenten.word==\"будущее\"].index)\n",
    "active_rutenten = active_rutenten.drop(active_rutenten[active_rutenten.word==\"группа\"].index)\n",
    "print(active_rutenten.shape)"
   ]
  },
  {
   "cell_type": "code",
   "execution_count": 38,
   "metadata": {},
   "outputs": [
    {
     "data": {
      "text/plain": [
       "(3587, 7)"
      ]
     },
     "execution_count": 38,
     "metadata": {},
     "output_type": "execute_result"
    }
   ],
   "source": [
    "two_datasets = pandas.concat((active_rnc, active_rutenten), axis=0)\n",
    "two_datasets.shape"
   ]
  },
  {
   "cell_type": "markdown",
   "metadata": {},
   "source": [
    "## 3. Соберём один общий датасет "
   ]
  },
  {
   "cell_type": "markdown",
   "metadata": {},
   "source": [
    "Сначала собираем датасет со всеми значениями отобранных слов (т.е. всех, кроме восьми убранных на прошлом шаге). \n",
    "Не добавляем active_dict, потому что там слова не пересекаются ни с одним из остальных, и нет значений с >= 20 контекстами."
   ]
  },
  {
   "cell_type": "code",
   "execution_count": 39,
   "metadata": {},
   "outputs": [
    {
     "data": {
      "text/plain": [
       "(8473, 7)"
      ]
     },
     "execution_count": 39,
     "metadata": {},
     "output_type": "execute_result"
    }
   ],
   "source": [
    "all_senses = pandas.concat((bts_rnc, wiki_wiki, bts_rutenten, two_datasets), axis=0)\n",
    "all_senses.shape"
   ]
  },
  {
   "cell_type": "code",
   "execution_count": 40,
   "metadata": {},
   "outputs": [],
   "source": [
    "# сейчас при объединении будут проблемы с индексами, потому что они из разных датасетов и могут повторяться\n",
    "# нужно записать в csv без индекса и снова считать\n",
    "all_senses.to_csv(path + \"preprocessed\\\\all_senses.csv\", \"\\t\", encoding=\"utf-8\", index=False)\n",
    "all_senses = pandas.read_csv(path + \"preprocessed\\\\all_senses.csv\", \"\\t\", encoding=\"utf-8\")"
   ]
  },
  {
   "cell_type": "code",
   "execution_count": 41,
   "metadata": {
    "scrolled": true
   },
   "outputs": [
    {
     "name": "stderr",
     "output_type": "stream",
     "text": [
      "C:\\Users\\boss\\Anaconda3\\lib\\site-packages\\ipykernel_launcher.py:20: UserWarning: Boolean Series key will be reindexed to match DataFrame index.\n"
     ]
    },
    {
     "name": "stdout",
     "output_type": "stream",
     "text": [
      "54\n"
     ]
    },
    {
     "data": {
      "text/plain": [
       "{'балка': [(1, 81), (2, 38)],\n",
       " 'вид': [(1, 38), (2, 3), (5, 36)],\n",
       " 'винт': [(1, 253), (2, 264), (3, 17), (4, 9), (5, 17)],\n",
       " 'горн': [(1, 20), (2, 1), (3, 30)],\n",
       " 'губа': [(1, 132), (3, 3), (4, 2)],\n",
       " 'жаба': [(1, 79), (2, 6), (3, 9), (4, 27)],\n",
       " 'клетка': [(1, 38), (2, 1), (3, 7), (4, 96), (5, 4), (6, 4)],\n",
       " 'крыло': [(1, 51), (2, 19), (3, 1), (4, 4), (5, 1), (6, 3), (7, 5), (8, 7)],\n",
       " 'купюра': [(1, 12), (2, 138)],\n",
       " 'курица': [(1, 62), (2, 31)],\n",
       " 'лавка': [(1, 92), (2, 147)],\n",
       " 'лайка': [(1, 81), (2, 18)],\n",
       " 'лев': [(1, 36), (2, 2), (3, 2), (4, 4)],\n",
       " 'лира': [(1, 33), (2, 16)],\n",
       " 'мина': [(1, 51), (2, 12), (3, 2)],\n",
       " 'мишень': [(1, 88), (2, 33)],\n",
       " 'обед': [(1, 62), (2, 17), (3, 19), (4, 2)],\n",
       " 'оклад': [(1, 137), (2, 5), (3, 4)],\n",
       " 'опушка': [(1, 142), (2, 6)],\n",
       " 'полис': [(1, 3), (2, 139)],\n",
       " 'пост': [(1, 32), (2, 98), (3, 10), (4, 2), (5, 2)],\n",
       " 'поток': [(1, 12), (2, 124)],\n",
       " 'проказа': [(1, 95), (2, 51)],\n",
       " 'пропасть': [(1, 92), (2, 25), (3, 7), (4, 3)],\n",
       " 'проспект': [(1, 117), (2, 6), (3, 4), (4, 12)],\n",
       " 'пытка': [(1, 116), (2, 27)],\n",
       " 'рысь': [(1, 82), (2, 38)],\n",
       " 'среда': [(1, 13), (2, 32), (3, 47), (4, 52)],\n",
       " 'хвост': [(1, 100), (3, 8), (4, 12), (7, 1)],\n",
       " 'штамп': [(1, 45), (2, 1), (3, 3), (4, 47)],\n",
       " 'замок': [(1, 146), (2, 83)],\n",
       " 'лук': [(1, 65), (2, 45)],\n",
       " 'суда': [(1, 100), (2, 35)],\n",
       " 'бор': [(1, 14), (2, 42)],\n",
       " 'дисциплина': [(1, 30), (2, 64), (3, 4)],\n",
       " 'корона': [(1, 48), (2, 23), (3, 7)],\n",
       " 'кран': [(1, 33), (2, 61)],\n",
       " 'летопись': [(1, 70), (2, 25)],\n",
       " 'мат': [(1, 6), (2, 11), (4, 50)],\n",
       " 'отклонение': [(1, 66), (2, 11), (3, 17)],\n",
       " 'сук': [(1, 64)],\n",
       " 'тост': [(1, 73), (2, 18)],\n",
       " 'щель': [(1, 86), (3, 8)],\n",
       " 'базар': [(1, 166), (2, 12), (3, 12)],\n",
       " 'билет': [(1, 488), (2, 30), (3, 17), (4, 12)],\n",
       " 'блоха': [(1, 170), (2, 4)],\n",
       " 'брак': [(1, 178), (2, 13), (3, 2)],\n",
       " 'бритва': [(1, 175), (2, 10)],\n",
       " 'вешалка': [(1, 325), (2, 36), (3, 112), (4, 10), (5, 1)],\n",
       " 'вилка': [(1, 311), (2, 25), (3, 2), (4, 1), (5, 57)],\n",
       " 'галерея': [(1, 16), (2, 12), (3, 7), (4, 8), (5, 4), (6, 67), (7, 9)],\n",
       " 'горбуша': [(1, 94), (2, 73)],\n",
       " 'горшок': [(1, 131), (2, 267), (3, 100)],\n",
       " 'гроза': [(1, 158), (2, 8), (3, 11), (4, 16)]}"
      ]
     },
     "execution_count": 41,
     "metadata": {},
     "output_type": "execute_result"
    }
   ],
   "source": [
    "all_senses_info = analyze_data(all_senses)\n",
    "print(len(all_senses_info.keys()))\n",
    "all_senses_info"
   ]
  },
  {
   "cell_type": "markdown",
   "metadata": {},
   "source": [
    "НО! Если только у одного значения контекстов нормальное количество, а у всех остальных их очень мало - такие слова нужно удалить. Потому что тогда мы возьмём это единственное значение, которое, во-первых, гораздо частотнее остальных, что неинтересно, и, во-вторых, такие случаи будут нам мешать при создании датасетов с ошибками (мы должны будем это одно и то же небольшое количество контекстов повторить очень много раз, чтобы достигнуть 40% ошибки по отношению к болшому значению).\n",
    "Критерий: разница контекстов в пять раз (одного большого по сравнению со всеми остальными вместе).\n",
    "\n",
    "Итак, что удаляем: \n",
    "* губа: 132 - 3 - 2\n",
    "* купюра: 12 - 138\n",
    "* лев: 36 - 2 - 2 - 4\n",
    "* оклад: 137 - 5 - 4\n",
    "* опушка: 142 - 6\n",
    "* полис: 3 - 139\n",
    "* поток: 12 - 124\n",
    "* проспект: 117 - 6 - 4 - 12\n",
    "* сук - только одно значение! \n",
    "* щель: 86 - 8 \n",
    "* базар: 166 - 12 - 12\n",
    "* билет: 488 - 30 - 17 - 12 (чтобы не удалять - просто обрежем первое значение - например, до двухсот, выбрав рандомные)\n",
    "* блоха: 170 - 4\n",
    "* брак: 178 - 13 - 2\n",
    "* бритва: 175 - 10"
   ]
  },
  {
   "cell_type": "code",
   "execution_count": 42,
   "metadata": {},
   "outputs": [
    {
     "data": {
      "text/plain": [
       "(6531, 7)"
      ]
     },
     "execution_count": 42,
     "metadata": {},
     "output_type": "execute_result"
    }
   ],
   "source": [
    "all_senses_2 = all_senses\n",
    "all_senses_2 = all_senses_2.drop(all_senses_2[all_senses_2.word == \"губа\"].index)\n",
    "all_senses_2 = all_senses_2.drop(all_senses_2[all_senses_2.word == \"купюра\"].index)\n",
    "all_senses_2 = all_senses_2.drop(all_senses_2[all_senses_2.word == \"лев\"].index)\n",
    "all_senses_2 = all_senses_2.drop(all_senses_2[all_senses_2.word == \"оклад\"].index)\n",
    "all_senses_2 = all_senses_2.drop(all_senses_2[all_senses_2.word == \"опушка\"].index)\n",
    "all_senses_2 = all_senses_2.drop(all_senses_2[all_senses_2.word == \"полис\"].index)\n",
    "all_senses_2 = all_senses_2.drop(all_senses_2[all_senses_2.word == \"поток\"].index)\n",
    "all_senses_2 = all_senses_2.drop(all_senses_2[all_senses_2.word == \"проспект\"].index)\n",
    "all_senses_2 = all_senses_2.drop(all_senses_2[all_senses_2.word == \"сук\"].index)\n",
    "all_senses_2 = all_senses_2.drop(all_senses_2[all_senses_2.word == \"щель\"].index)\n",
    "all_senses_2 = all_senses_2.drop(all_senses_2[all_senses_2.word == \"базар\"].index)\n",
    "all_senses_2 = all_senses_2.drop(all_senses_2[all_senses_2.word == \"блоха\"].index)\n",
    "all_senses_2 = all_senses_2.drop(all_senses_2[all_senses_2.word == \"брак\"].index)\n",
    "all_senses_2 = all_senses_2.drop(all_senses_2[all_senses_2.word == \"бритва\"].index)\n",
    "all_senses_2.shape"
   ]
  },
  {
   "cell_type": "code",
   "execution_count": 43,
   "metadata": {},
   "outputs": [
    {
     "name": "stdout",
     "output_type": "stream",
     "text": [
      "(6043, 7)\n",
      "(200, 7)\n",
      "(6243, 7)\n"
     ]
    },
    {
     "name": "stderr",
     "output_type": "stream",
     "text": [
      "C:\\Users\\boss\\Anaconda3\\lib\\site-packages\\ipykernel_launcher.py:2: UserWarning: Boolean Series key will be reindexed to match DataFrame index.\n",
      "  \n",
      "C:\\Users\\boss\\Anaconda3\\lib\\site-packages\\ipykernel_launcher.py:6: UserWarning: Boolean Series key will be reindexed to match DataFrame index.\n",
      "  \n"
     ]
    }
   ],
   "source": [
    "# теперь с \"билетом\": сначала удалим из нашего датасета все контексты, где у него значение 1\n",
    "all_senses_2 = all_senses_2.drop(all_senses_2[all_senses_2.word == \"билет\"][all_senses_2.gold_sense_id==1].index)\n",
    "print(all_senses_2.shape)\n",
    "\n",
    "# выберем рандомные 200, которые добавим обратно\n",
    "df_bilet_first_sense_contexts = all_senses[all_senses.word==\"билет\"][all_senses.gold_sense_id==1]\n",
    "random_200 = df_bilet_first_sense_contexts.sample(200)\n",
    "print(random_200.shape)\n",
    "\n",
    "all_senses_2 = pandas.concat((all_senses_2, random_200))\n",
    "print(all_senses_2.shape)"
   ]
  },
  {
   "cell_type": "code",
   "execution_count": 44,
   "metadata": {},
   "outputs": [],
   "source": [
    "# снова исправляем спутанные индексы \n",
    "all_senses_2.to_csv(path + \"preprocessed\\\\all_senses_2.csv\", \"\\t\", encoding=\"utf-8\", index=False)\n",
    "all_senses_2 = pandas.read_csv(path + \"preprocessed\\\\all_senses_2.csv\", \"\\t\", encoding=\"utf-8\")"
   ]
  },
  {
   "cell_type": "code",
   "execution_count": 45,
   "metadata": {
    "scrolled": true
   },
   "outputs": [
    {
     "name": "stderr",
     "output_type": "stream",
     "text": [
      "C:\\Users\\boss\\Anaconda3\\lib\\site-packages\\ipykernel_launcher.py:20: UserWarning: Boolean Series key will be reindexed to match DataFrame index.\n"
     ]
    },
    {
     "name": "stdout",
     "output_type": "stream",
     "text": [
      "40\n"
     ]
    },
    {
     "data": {
      "text/plain": [
       "{'балка': [(1, 81), (2, 38)],\n",
       " 'вид': [(1, 38), (2, 3), (5, 36)],\n",
       " 'винт': [(1, 253), (2, 264), (3, 17), (4, 9), (5, 17)],\n",
       " 'горн': [(1, 20), (2, 1), (3, 30)],\n",
       " 'жаба': [(1, 79), (2, 6), (3, 9), (4, 27)],\n",
       " 'клетка': [(1, 38), (2, 1), (3, 7), (4, 96), (5, 4), (6, 4)],\n",
       " 'крыло': [(1, 51), (2, 19), (3, 1), (4, 4), (5, 1), (6, 3), (7, 5), (8, 7)],\n",
       " 'курица': [(1, 62), (2, 31)],\n",
       " 'лавка': [(1, 92), (2, 147)],\n",
       " 'лайка': [(1, 81), (2, 18)],\n",
       " 'лира': [(1, 33), (2, 16)],\n",
       " 'мина': [(1, 51), (2, 12), (3, 2)],\n",
       " 'мишень': [(1, 88), (2, 33)],\n",
       " 'обед': [(1, 62), (2, 17), (3, 19), (4, 2)],\n",
       " 'пост': [(1, 32), (2, 98), (3, 10), (4, 2), (5, 2)],\n",
       " 'проказа': [(1, 95), (2, 51)],\n",
       " 'пропасть': [(1, 92), (2, 25), (3, 7), (4, 3)],\n",
       " 'пытка': [(1, 116), (2, 27)],\n",
       " 'рысь': [(1, 82), (2, 38)],\n",
       " 'среда': [(1, 13), (2, 32), (3, 47), (4, 52)],\n",
       " 'хвост': [(1, 100), (3, 8), (4, 12), (7, 1)],\n",
       " 'штамп': [(1, 45), (2, 1), (3, 3), (4, 47)],\n",
       " 'замок': [(1, 146), (2, 83)],\n",
       " 'лук': [(1, 65), (2, 45)],\n",
       " 'суда': [(1, 100), (2, 35)],\n",
       " 'бор': [(1, 14), (2, 42)],\n",
       " 'дисциплина': [(1, 30), (2, 64), (3, 4)],\n",
       " 'корона': [(1, 48), (2, 23), (3, 7)],\n",
       " 'кран': [(1, 33), (2, 61)],\n",
       " 'летопись': [(1, 70), (2, 25)],\n",
       " 'мат': [(1, 6), (2, 11), (4, 50)],\n",
       " 'отклонение': [(1, 66), (2, 11), (3, 17)],\n",
       " 'тост': [(1, 73), (2, 18)],\n",
       " 'билет': [(1, 200), (2, 30), (3, 17), (4, 12)],\n",
       " 'вешалка': [(1, 325), (2, 36), (3, 112), (4, 10), (5, 1)],\n",
       " 'вилка': [(1, 311), (2, 25), (3, 2), (4, 1), (5, 57)],\n",
       " 'галерея': [(1, 16), (2, 12), (3, 7), (4, 8), (5, 4), (6, 67), (7, 9)],\n",
       " 'горбуша': [(1, 94), (2, 73)],\n",
       " 'горшок': [(1, 131), (2, 267), (3, 100)],\n",
       " 'гроза': [(1, 158), (2, 8), (3, 11), (4, 16)]}"
      ]
     },
     "execution_count": 45,
     "metadata": {},
     "output_type": "execute_result"
    }
   ],
   "source": [
    "all_senses_2_info = analyze_data(all_senses_2)\n",
    "print(len(all_senses_2_info.keys()))\n",
    "all_senses_2_info"
   ]
  },
  {
   "cell_type": "markdown",
   "metadata": {},
   "source": [
    "#### Разметка значений "
   ]
  },
  {
   "cell_type": "markdown",
   "metadata": {},
   "source": [
    "Мы будем работать с толковым словарём Ефремовой, поэтому сейчас нужно соотнести значения слов из нашего датасета со значениями из словаря. Я это сделала, и по результатам датасет, с которым мы будем работать, нужно ещё немного изменить.\n",
    "\n",
    "+ вешалка1, вешалка3 - у Ефремовой одно значение\n",
    "+ вилка2 - у Ефремовой нет этого значения (\"вилка цен\")\n",
    "+ корона2 - совмещённые разные значения (в ефремовой несколько и разных, тут одно)\n",
    "+ летопись1, летопись2 - ни в RUSSE, ни у Ефремовой разделение на значение не очень понятное\n",
    "+ лира1 - совмещённые разные значения\n",
    "+ обед1 - совмещённые разные значения\n",
    "+ пропасть1, пропасть2 - у Ефремовой одно значение\n",
    "\n",
    "Тогда что мы делаем:\n",
    "1. Убираем из датасета all_senses_2 целиком некоторые слова (летопись, лира, обед, пропасть, сук)\n",
    "2. Потом, из датасета на основе all_senses_2, который будет включать только значения с контекстами >20, убираем определённые значения (вилка2, корона2) - не будем пытаться их атрибутировать."
   ]
  },
  {
   "cell_type": "code",
   "execution_count": 46,
   "metadata": {},
   "outputs": [],
   "source": [
    "all_senses_3 = all_senses_2\n",
    "all_senses_3 = all_senses_3.drop(all_senses_3[all_senses_3.word == \"летопись\"].index)\n",
    "all_senses_3 = all_senses_3.drop(all_senses_3[all_senses_3.word == \"лира\"].index)\n",
    "all_senses_3 = all_senses_3.drop(all_senses_3[all_senses_3.word == \"обед\"].index)\n",
    "all_senses_3 = all_senses_3.drop(all_senses_3[all_senses_3.word == \"пропасть\"].index)"
   ]
  },
  {
   "cell_type": "code",
   "execution_count": 47,
   "metadata": {},
   "outputs": [],
   "source": [
    "all_senses_3.to_csv(path + \"preprocessed\\\\all_senses_3.csv\", \"\\t\", encoding=\"utf-8\", index=False)\n",
    "all_senses_3 = pandas.read_csv(path + \"preprocessed\\\\all_senses_3.csv\", \"\\t\", encoding=\"utf-8\")"
   ]
  },
  {
   "cell_type": "code",
   "execution_count": 48,
   "metadata": {
    "scrolled": true
   },
   "outputs": [
    {
     "name": "stderr",
     "output_type": "stream",
     "text": [
      "C:\\Users\\boss\\Anaconda3\\lib\\site-packages\\ipykernel_launcher.py:20: UserWarning: Boolean Series key will be reindexed to match DataFrame index.\n"
     ]
    },
    {
     "name": "stdout",
     "output_type": "stream",
     "text": [
      "36\n"
     ]
    },
    {
     "data": {
      "text/plain": [
       "{'балка': [(1, 81), (2, 38)],\n",
       " 'вид': [(1, 38), (2, 3), (5, 36)],\n",
       " 'винт': [(1, 253), (2, 264), (3, 17), (4, 9), (5, 17)],\n",
       " 'горн': [(1, 20), (2, 1), (3, 30)],\n",
       " 'жаба': [(1, 79), (2, 6), (3, 9), (4, 27)],\n",
       " 'клетка': [(1, 38), (2, 1), (3, 7), (4, 96), (5, 4), (6, 4)],\n",
       " 'крыло': [(1, 51), (2, 19), (3, 1), (4, 4), (5, 1), (6, 3), (7, 5), (8, 7)],\n",
       " 'курица': [(1, 62), (2, 31)],\n",
       " 'лавка': [(1, 92), (2, 147)],\n",
       " 'лайка': [(1, 81), (2, 18)],\n",
       " 'мина': [(1, 51), (2, 12), (3, 2)],\n",
       " 'мишень': [(1, 88), (2, 33)],\n",
       " 'пост': [(1, 32), (2, 98), (3, 10), (4, 2), (5, 2)],\n",
       " 'проказа': [(1, 95), (2, 51)],\n",
       " 'пытка': [(1, 116), (2, 27)],\n",
       " 'рысь': [(1, 82), (2, 38)],\n",
       " 'среда': [(1, 13), (2, 32), (3, 47), (4, 52)],\n",
       " 'хвост': [(1, 100), (3, 8), (4, 12), (7, 1)],\n",
       " 'штамп': [(1, 45), (2, 1), (3, 3), (4, 47)],\n",
       " 'замок': [(1, 146), (2, 83)],\n",
       " 'лук': [(1, 65), (2, 45)],\n",
       " 'суда': [(1, 100), (2, 35)],\n",
       " 'бор': [(1, 14), (2, 42)],\n",
       " 'дисциплина': [(1, 30), (2, 64), (3, 4)],\n",
       " 'корона': [(1, 48), (2, 23), (3, 7)],\n",
       " 'кран': [(1, 33), (2, 61)],\n",
       " 'мат': [(1, 6), (2, 11), (4, 50)],\n",
       " 'отклонение': [(1, 66), (2, 11), (3, 17)],\n",
       " 'тост': [(1, 73), (2, 18)],\n",
       " 'билет': [(1, 200), (2, 30), (3, 17), (4, 12)],\n",
       " 'вешалка': [(1, 325), (2, 36), (3, 112), (4, 10), (5, 1)],\n",
       " 'вилка': [(1, 311), (2, 25), (3, 2), (4, 1), (5, 57)],\n",
       " 'галерея': [(1, 16), (2, 12), (3, 7), (4, 8), (5, 4), (6, 67), (7, 9)],\n",
       " 'горбуша': [(1, 94), (2, 73)],\n",
       " 'горшок': [(1, 131), (2, 267), (3, 100)],\n",
       " 'гроза': [(1, 158), (2, 8), (3, 11), (4, 16)]}"
      ]
     },
     "execution_count": 48,
     "metadata": {},
     "output_type": "execute_result"
    }
   ],
   "source": [
    "all_senses_3_info = analyze_data(all_senses_3)\n",
    "print(len(all_senses_3_info.keys()))\n",
    "all_senses_3_info"
   ]
  },
  {
   "cell_type": "markdown",
   "metadata": {},
   "source": [
    "#### Составим датасет(ы), с которым будем работать "
   ]
  },
  {
   "cell_type": "markdown",
   "metadata": {},
   "source": [
    "Оставим только значения, для которых есть больше 20 контекстов"
   ]
  },
  {
   "cell_type": "code",
   "execution_count": 49,
   "metadata": {},
   "outputs": [
    {
     "name": "stderr",
     "output_type": "stream",
     "text": [
      "C:\\Users\\boss\\Anaconda3\\lib\\site-packages\\ipykernel_launcher.py:6: UserWarning: Boolean Series key will be reindexed to match DataFrame index.\n",
      "  \n"
     ]
    },
    {
     "data": {
      "text/plain": [
       "(5448, 7)"
      ]
     },
     "execution_count": 49,
     "metadata": {},
     "output_type": "execute_result"
    }
   ],
   "source": [
    "df_to_work_with = all_senses_3\n",
    "for word in all_senses_3_info:\n",
    "    for pair in all_senses_3_info[word]:\n",
    "        if pair[1] < 20:\n",
    "            df_to_work_with = df_to_work_with.drop(df_to_work_with[df_to_work_with.word == word]\n",
    "                                                   [df_to_work_with.gold_sense_id == pair[0]].index)\n",
    "df_to_work_with.shape"
   ]
  },
  {
   "cell_type": "markdown",
   "metadata": {},
   "source": [
    "И уберём те, которые решили убрать после разметки значений по Ефремовой: вилка#2 и корона#2."
   ]
  },
  {
   "cell_type": "code",
   "execution_count": 50,
   "metadata": {},
   "outputs": [
    {
     "name": "stderr",
     "output_type": "stream",
     "text": [
      "C:\\Users\\boss\\Anaconda3\\lib\\site-packages\\ipykernel_launcher.py:2: UserWarning: Boolean Series key will be reindexed to match DataFrame index.\n",
      "  \n",
      "C:\\Users\\boss\\Anaconda3\\lib\\site-packages\\ipykernel_launcher.py:4: UserWarning: Boolean Series key will be reindexed to match DataFrame index.\n",
      "  after removing the cwd from sys.path.\n"
     ]
    },
    {
     "data": {
      "text/plain": [
       "(5400, 7)"
      ]
     },
     "execution_count": 50,
     "metadata": {},
     "output_type": "execute_result"
    }
   ],
   "source": [
    "df_to_work_with = df_to_work_with.drop(df_to_work_with[df_to_work_with.word == \"вилка\"]\n",
    "                                       [df_to_work_with.gold_sense_id == 2].index)\n",
    "df_to_work_with = df_to_work_with.drop(df_to_work_with[df_to_work_with.word == \"корона\"]\n",
    "                                       [df_to_work_with.gold_sense_id == 2].index)\n",
    "df_to_work_with.shape"
   ]
  },
  {
   "cell_type": "code",
   "execution_count": 51,
   "metadata": {
    "scrolled": true
   },
   "outputs": [
    {
     "name": "stderr",
     "output_type": "stream",
     "text": [
      "C:\\Users\\boss\\Anaconda3\\lib\\site-packages\\ipykernel_launcher.py:20: UserWarning: Boolean Series key will be reindexed to match DataFrame index.\n"
     ]
    },
    {
     "name": "stdout",
     "output_type": "stream",
     "text": [
      "36\n"
     ]
    },
    {
     "data": {
      "text/plain": [
       "{'балка': [(1, 81), (2, 38)],\n",
       " 'вид': [(1, 38), (5, 36)],\n",
       " 'винт': [(1, 253), (2, 264)],\n",
       " 'горн': [(1, 20), (3, 30)],\n",
       " 'жаба': [(1, 79), (4, 27)],\n",
       " 'клетка': [(1, 38), (4, 96)],\n",
       " 'крыло': [(1, 51)],\n",
       " 'курица': [(1, 62), (2, 31)],\n",
       " 'лавка': [(1, 92), (2, 147)],\n",
       " 'лайка': [(1, 81)],\n",
       " 'мина': [(1, 51)],\n",
       " 'мишень': [(1, 88), (2, 33)],\n",
       " 'пост': [(1, 32), (2, 98)],\n",
       " 'проказа': [(1, 95), (2, 51)],\n",
       " 'пытка': [(1, 116), (2, 27)],\n",
       " 'рысь': [(1, 82), (2, 38)],\n",
       " 'среда': [(2, 32), (3, 47), (4, 52)],\n",
       " 'хвост': [(1, 100)],\n",
       " 'штамп': [(1, 45), (4, 47)],\n",
       " 'замок': [(1, 146), (2, 83)],\n",
       " 'лук': [(1, 65), (2, 45)],\n",
       " 'суда': [(1, 100), (2, 35)],\n",
       " 'бор': [(2, 42)],\n",
       " 'дисциплина': [(1, 30), (2, 64)],\n",
       " 'корона': [(1, 48)],\n",
       " 'кран': [(1, 33), (2, 61)],\n",
       " 'мат': [(4, 50)],\n",
       " 'отклонение': [(1, 66)],\n",
       " 'тост': [(1, 73)],\n",
       " 'билет': [(1, 200), (2, 30)],\n",
       " 'вешалка': [(1, 325), (2, 36), (3, 112)],\n",
       " 'вилка': [(1, 311), (5, 57)],\n",
       " 'галерея': [(6, 67)],\n",
       " 'горбуша': [(1, 94), (2, 73)],\n",
       " 'горшок': [(1, 131), (2, 267), (3, 100)],\n",
       " 'гроза': [(1, 158)]}"
      ]
     },
     "execution_count": 51,
     "metadata": {},
     "output_type": "execute_result"
    }
   ],
   "source": [
    "df_to_work_with_info = analyze_data(df_to_work_with)\n",
    "print(len(df_to_work_with_info.keys()))\n",
    "df_to_work_with_info"
   ]
  },
  {
   "cell_type": "code",
   "execution_count": 52,
   "metadata": {},
   "outputs": [],
   "source": [
    "df_to_work_with.to_csv(path + \"preprocessed\\\\df_to_work_with.csv\", \"\\t\", encoding=\"utf-8\", index=False)\n",
    "df_to_work_with = pandas.read_csv(path + \"preprocessed\\\\df_to_work_with.csv\", \"\\t\", encoding=\"utf-8\")"
   ]
  },
  {
   "cell_type": "code",
   "execution_count": 53,
   "metadata": {},
   "outputs": [],
   "source": [
    "df_to_work_with.to_excel(path + \"preprocessed\\\\df_to_work_with.xlsx\", index=False)"
   ]
  },
  {
   "cell_type": "markdown",
   "metadata": {},
   "source": [
    "А теперь создадим датасет, в котором оставим только слова, для которых сохранилось больше одного значения"
   ]
  },
  {
   "cell_type": "code",
   "execution_count": 54,
   "metadata": {},
   "outputs": [
    {
     "data": {
      "text/plain": [
       "(4613, 7)"
      ]
     },
     "execution_count": 54,
     "metadata": {},
     "output_type": "execute_result"
    }
   ],
   "source": [
    "df_with_2_or_more_senses = df_to_work_with\n",
    "for word in df_to_work_with_info:\n",
    "    if len(df_to_work_with_info[word]) < 2:\n",
    "        df_with_2_or_more_senses = df_with_2_or_more_senses.drop(df_with_2_or_more_senses\n",
    "                                                                 [df_with_2_or_more_senses.word == word].index)\n",
    "df_with_2_or_more_senses.shape"
   ]
  },
  {
   "cell_type": "code",
   "execution_count": 55,
   "metadata": {
    "scrolled": true
   },
   "outputs": [
    {
     "name": "stdout",
     "output_type": "stream",
     "text": [
      "25\n"
     ]
    },
    {
     "name": "stderr",
     "output_type": "stream",
     "text": [
      "C:\\Users\\boss\\Anaconda3\\lib\\site-packages\\ipykernel_launcher.py:20: UserWarning: Boolean Series key will be reindexed to match DataFrame index.\n"
     ]
    },
    {
     "data": {
      "text/plain": [
       "{'балка': [(1, 81), (2, 38)],\n",
       " 'вид': [(1, 38), (5, 36)],\n",
       " 'винт': [(1, 253), (2, 264)],\n",
       " 'горн': [(1, 20), (3, 30)],\n",
       " 'жаба': [(1, 79), (4, 27)],\n",
       " 'клетка': [(1, 38), (4, 96)],\n",
       " 'курица': [(1, 62), (2, 31)],\n",
       " 'лавка': [(1, 92), (2, 147)],\n",
       " 'мишень': [(1, 88), (2, 33)],\n",
       " 'пост': [(1, 32), (2, 98)],\n",
       " 'проказа': [(1, 95), (2, 51)],\n",
       " 'пытка': [(1, 116), (2, 27)],\n",
       " 'рысь': [(1, 82), (2, 38)],\n",
       " 'среда': [(2, 32), (3, 47), (4, 52)],\n",
       " 'штамп': [(1, 45), (4, 47)],\n",
       " 'замок': [(1, 146), (2, 83)],\n",
       " 'лук': [(1, 65), (2, 45)],\n",
       " 'суда': [(1, 100), (2, 35)],\n",
       " 'дисциплина': [(1, 30), (2, 64)],\n",
       " 'кран': [(1, 33), (2, 61)],\n",
       " 'билет': [(1, 200), (2, 30)],\n",
       " 'вешалка': [(1, 325), (2, 36), (3, 112)],\n",
       " 'вилка': [(1, 311), (5, 57)],\n",
       " 'горбуша': [(1, 94), (2, 73)],\n",
       " 'горшок': [(1, 131), (2, 267), (3, 100)]}"
      ]
     },
     "execution_count": 55,
     "metadata": {},
     "output_type": "execute_result"
    }
   ],
   "source": [
    "df_with_2_or_more_senses_info = analyze_data(df_with_2_or_more_senses)\n",
    "print(len(df_with_2_or_more_senses_info.keys()))\n",
    "df_with_2_or_more_senses_info"
   ]
  },
  {
   "cell_type": "code",
   "execution_count": 56,
   "metadata": {},
   "outputs": [],
   "source": [
    "df_with_2_or_more_senses.to_csv(path + \"preprocessed\\\\df_with_2_or_more_senses.csv\", \"\\t\", encoding=\"utf-8\", index=False)\n",
    "df_with_2_or_more_senses = pandas.read_csv(path + \"preprocessed\\\\df_with_2_or_more_senses.csv\", \"\\t\", encoding=\"utf-8\")"
   ]
  },
  {
   "cell_type": "code",
   "execution_count": 57,
   "metadata": {},
   "outputs": [],
   "source": [
    "df_with_2_or_more_senses.to_excel(path + \"preprocessed\\\\df_with_2_or_more_senses.xlsx\", index=False)"
   ]
  },
  {
   "cell_type": "code",
   "execution_count": null,
   "metadata": {},
   "outputs": [],
   "source": []
  }
 ],
 "metadata": {
  "kernelspec": {
   "display_name": "Python 3",
   "language": "python",
   "name": "python3"
  },
  "language_info": {
   "codemirror_mode": {
    "name": "ipython",
    "version": 3
   },
   "file_extension": ".py",
   "mimetype": "text/x-python",
   "name": "python",
   "nbconvert_exporter": "python",
   "pygments_lexer": "ipython3",
   "version": "3.7.1"
  }
 },
 "nbformat": 4,
 "nbformat_minor": 2
}
