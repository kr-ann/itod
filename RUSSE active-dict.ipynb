{
 "cells": [
  {
   "cell_type": "code",
   "execution_count": 24,
   "metadata": {},
   "outputs": [],
   "source": [
    "import numpy as np"
   ]
  },
  {
   "cell_type": "code",
   "execution_count": 2,
   "metadata": {},
   "outputs": [],
   "source": [
    "import pandas"
   ]
  },
  {
   "cell_type": "code",
   "execution_count": 4,
   "metadata": {},
   "outputs": [],
   "source": [
    "path=\"C:\\\\Users\\\\boss\\\\Documents\\\\Diploma\\\\russe-wsi-kit\\\\data\\\\\""
   ]
  },
  {
   "cell_type": "code",
   "execution_count": 11,
   "metadata": {},
   "outputs": [],
   "source": [
    "active_dict = pandas.read_csv(path+\"main\\\\active-dict\\\\train.csv\", \"\\t\")"
   ]
  },
  {
   "cell_type": "code",
   "execution_count": 12,
   "metadata": {},
   "outputs": [
    {
     "data": {
      "text/html": [
       "<div>\n",
       "<style scoped>\n",
       "    .dataframe tbody tr th:only-of-type {\n",
       "        vertical-align: middle;\n",
       "    }\n",
       "\n",
       "    .dataframe tbody tr th {\n",
       "        vertical-align: top;\n",
       "    }\n",
       "\n",
       "    .dataframe thead th {\n",
       "        text-align: right;\n",
       "    }\n",
       "</style>\n",
       "<table border=\"1\" class=\"dataframe\">\n",
       "  <thead>\n",
       "    <tr style=\"text-align: right;\">\n",
       "      <th></th>\n",
       "      <th>context_id</th>\n",
       "      <th>word</th>\n",
       "      <th>gold_sense_id</th>\n",
       "      <th>predict_sense_id</th>\n",
       "      <th>positions</th>\n",
       "      <th>context</th>\n",
       "    </tr>\n",
       "  </thead>\n",
       "  <tbody>\n",
       "    <tr>\n",
       "      <th>0</th>\n",
       "      <td>1</td>\n",
       "      <td>дар</td>\n",
       "      <td>1</td>\n",
       "      <td>NaN</td>\n",
       "      <td>18-22</td>\n",
       "      <td>Отвергнуть щедрый дар</td>\n",
       "    </tr>\n",
       "    <tr>\n",
       "      <th>1</th>\n",
       "      <td>2</td>\n",
       "      <td>дар</td>\n",
       "      <td>1</td>\n",
       "      <td>NaN</td>\n",
       "      <td>21-28</td>\n",
       "      <td>покупать преданность дарами и наградами</td>\n",
       "    </tr>\n",
       "    <tr>\n",
       "      <th>2</th>\n",
       "      <td>3</td>\n",
       "      <td>дар</td>\n",
       "      <td>1</td>\n",
       "      <td>NaN</td>\n",
       "      <td>19-23</td>\n",
       "      <td>Вот яд – последний дар моей Изоры</td>\n",
       "    </tr>\n",
       "    <tr>\n",
       "      <th>3</th>\n",
       "      <td>4</td>\n",
       "      <td>дар</td>\n",
       "      <td>1</td>\n",
       "      <td>NaN</td>\n",
       "      <td>81-87</td>\n",
       "      <td>Основная функция корильных песен – повеселить ...</td>\n",
       "    </tr>\n",
       "    <tr>\n",
       "      <th>4</th>\n",
       "      <td>5</td>\n",
       "      <td>дар</td>\n",
       "      <td>1</td>\n",
       "      <td>NaN</td>\n",
       "      <td>151-157</td>\n",
       "      <td>Но недели две спустя (Алевтина его когда-то об...</td>\n",
       "    </tr>\n",
       "  </tbody>\n",
       "</table>\n",
       "</div>"
      ],
      "text/plain": [
       "   context_id word gold_sense_id  predict_sense_id positions  \\\n",
       "0           1  дар             1               NaN     18-22   \n",
       "1           2  дар             1               NaN     21-28   \n",
       "2           3  дар             1               NaN     19-23   \n",
       "3           4  дар             1               NaN     81-87   \n",
       "4           5  дар             1               NaN   151-157   \n",
       "\n",
       "                                             context  \n",
       "0                              Отвергнуть щедрый дар  \n",
       "1            покупать преданность дарами и наградами  \n",
       "2                  Вот яд – последний дар моей Изоры  \n",
       "3  Основная функция корильных песен – повеселить ...  \n",
       "4  Но недели две спустя (Алевтина его когда-то об...  "
      ]
     },
     "execution_count": 12,
     "metadata": {},
     "output_type": "execute_result"
    }
   ],
   "source": [
    "active_dict.head()"
   ]
  },
  {
   "cell_type": "code",
   "execution_count": null,
   "metadata": {},
   "outputs": [],
   "source": []
  },
  {
   "cell_type": "raw",
   "metadata": {},
   "source": [
    "В выложенных тестах всё равно нет меток, поэтому эти датасеты не используем.\n",
    "Но это не очень хорошо, потому что тестовые наборы больше тренировочных..."
   ]
  },
  {
   "cell_type": "code",
   "execution_count": 9,
   "metadata": {},
   "outputs": [],
   "source": [
    "active_dict_test = pandas.read_csv(path+\"main\\\\active-dict\\\\test.csv\", \"\\t\")"
   ]
  },
  {
   "cell_type": "code",
   "execution_count": 10,
   "metadata": {},
   "outputs": [
    {
     "data": {
      "text/html": [
       "<div>\n",
       "<style scoped>\n",
       "    .dataframe tbody tr th:only-of-type {\n",
       "        vertical-align: middle;\n",
       "    }\n",
       "\n",
       "    .dataframe tbody tr th {\n",
       "        vertical-align: top;\n",
       "    }\n",
       "\n",
       "    .dataframe thead th {\n",
       "        text-align: right;\n",
       "    }\n",
       "</style>\n",
       "<table border=\"1\" class=\"dataframe\">\n",
       "  <thead>\n",
       "    <tr style=\"text-align: right;\">\n",
       "      <th></th>\n",
       "      <th>context_id</th>\n",
       "      <th>word</th>\n",
       "      <th>gold_sense_id</th>\n",
       "      <th>predict_sense_id</th>\n",
       "      <th>positions</th>\n",
       "      <th>context</th>\n",
       "    </tr>\n",
       "  </thead>\n",
       "  <tbody>\n",
       "    <tr>\n",
       "      <th>0</th>\n",
       "      <td>2074</td>\n",
       "      <td>давление</td>\n",
       "      <td>NaN</td>\n",
       "      <td>NaN</td>\n",
       "      <td>0-9</td>\n",
       "      <td>Давление пара создается движением поршня в цил...</td>\n",
       "    </tr>\n",
       "    <tr>\n",
       "      <th>1</th>\n",
       "      <td>2075</td>\n",
       "      <td>давление</td>\n",
       "      <td>NaN</td>\n",
       "      <td>NaN</td>\n",
       "      <td>13-22</td>\n",
       "      <td>«У тебя что, давление поднялось?» Я сказал, чт...</td>\n",
       "    </tr>\n",
       "    <tr>\n",
       "      <th>2</th>\n",
       "      <td>2076</td>\n",
       "      <td>давление</td>\n",
       "      <td>NaN</td>\n",
       "      <td>NaN</td>\n",
       "      <td>56-65</td>\n",
       "      <td>Я жалуюсь Никоновичу наконец на головокружение...</td>\n",
       "    </tr>\n",
       "    <tr>\n",
       "      <th>3</th>\n",
       "      <td>2077</td>\n",
       "      <td>давление</td>\n",
       "      <td>NaN</td>\n",
       "      <td>NaN</td>\n",
       "      <td>0-9</td>\n",
       "      <td>Давление в котле не менялось</td>\n",
       "    </tr>\n",
       "    <tr>\n",
       "      <th>4</th>\n",
       "      <td>2078</td>\n",
       "      <td>давление</td>\n",
       "      <td>NaN</td>\n",
       "      <td>NaN</td>\n",
       "      <td>25-34</td>\n",
       "      <td>Он каждые два часа мерил давление и сахар в крови</td>\n",
       "    </tr>\n",
       "  </tbody>\n",
       "</table>\n",
       "</div>"
      ],
      "text/plain": [
       "   context_id      word  gold_sense_id  predict_sense_id positions  \\\n",
       "0        2074  давление            NaN               NaN       0-9   \n",
       "1        2075  давление            NaN               NaN     13-22   \n",
       "2        2076  давление            NaN               NaN     56-65   \n",
       "3        2077  давление            NaN               NaN       0-9   \n",
       "4        2078  давление            NaN               NaN     25-34   \n",
       "\n",
       "                                             context  \n",
       "0  Давление пара создается движением поршня в цил...  \n",
       "1  «У тебя что, давление поднялось?» Я сказал, чт...  \n",
       "2  Я жалуюсь Никоновичу наконец на головокружение...  \n",
       "3                       Давление в котле не менялось  \n",
       "4  Он каждые два часа мерил давление и сахар в крови  "
      ]
     },
     "execution_count": 10,
     "metadata": {},
     "output_type": "execute_result"
    }
   ],
   "source": [
    "active_dict_test.head()"
   ]
  },
  {
   "cell_type": "code",
   "execution_count": null,
   "metadata": {},
   "outputs": [],
   "source": []
  },
  {
   "cell_type": "code",
   "execution_count": 13,
   "metadata": {},
   "outputs": [
    {
     "data": {
      "text/html": [
       "<div>\n",
       "<style scoped>\n",
       "    .dataframe tbody tr th:only-of-type {\n",
       "        vertical-align: middle;\n",
       "    }\n",
       "\n",
       "    .dataframe tbody tr th {\n",
       "        vertical-align: top;\n",
       "    }\n",
       "\n",
       "    .dataframe thead th {\n",
       "        text-align: right;\n",
       "    }\n",
       "</style>\n",
       "<table border=\"1\" class=\"dataframe\">\n",
       "  <thead>\n",
       "    <tr style=\"text-align: right;\">\n",
       "      <th></th>\n",
       "      <th>context_id</th>\n",
       "      <th>word</th>\n",
       "      <th>gold_sense_id</th>\n",
       "      <th>predict_sense_id</th>\n",
       "      <th>positions</th>\n",
       "      <th>context</th>\n",
       "    </tr>\n",
       "  </thead>\n",
       "  <tbody>\n",
       "    <tr>\n",
       "      <th>100</th>\n",
       "      <td>101</td>\n",
       "      <td>девятка</td>\n",
       "      <td>2</td>\n",
       "      <td>NaN</td>\n",
       "      <td>0-8</td>\n",
       "      <td>Девятка сильнейших игроков</td>\n",
       "    </tr>\n",
       "    <tr>\n",
       "      <th>101</th>\n",
       "      <td>102</td>\n",
       "      <td>девятка</td>\n",
       "      <td>2</td>\n",
       "      <td>NaN</td>\n",
       "      <td>11-19</td>\n",
       "      <td>Он вошел в девятку высших руководителей Китая</td>\n",
       "    </tr>\n",
       "    <tr>\n",
       "      <th>102</th>\n",
       "      <td>103</td>\n",
       "      <td>девятка</td>\n",
       "      <td>2</td>\n",
       "      <td>NaN</td>\n",
       "      <td>94-102</td>\n",
       "      <td>А на опушке леса стояли на привязи девять жерт...</td>\n",
       "    </tr>\n",
       "    <tr>\n",
       "      <th>103</th>\n",
       "      <td>104</td>\n",
       "      <td>девятка</td>\n",
       "      <td>2</td>\n",
       "      <td>NaN</td>\n",
       "      <td>0-8</td>\n",
       "      <td>Девятка реактивных истребителей – три звена в ...</td>\n",
       "    </tr>\n",
       "    <tr>\n",
       "      <th>104</th>\n",
       "      <td>105</td>\n",
       "      <td>девятка</td>\n",
       "      <td>2</td>\n",
       "      <td>NaN</td>\n",
       "      <td>48-56</td>\n",
       "      <td>Да и женский турнир […] вошел в «супердевять» ...</td>\n",
       "    </tr>\n",
       "    <tr>\n",
       "      <th>105</th>\n",
       "      <td>106</td>\n",
       "      <td>девятка</td>\n",
       "      <td>2</td>\n",
       "      <td>NaN</td>\n",
       "      <td>135-143</td>\n",
       "      <td>Развивая свою концепцию мироустройства, Европа...</td>\n",
       "    </tr>\n",
       "    <tr>\n",
       "      <th>106</th>\n",
       "      <td>107</td>\n",
       "      <td>девятка</td>\n",
       "      <td>2</td>\n",
       "      <td>NaN</td>\n",
       "      <td>63-71</td>\n",
       "      <td>А этот потенциал был, как известно, сосредоточ...</td>\n",
       "    </tr>\n",
       "    <tr>\n",
       "      <th>107</th>\n",
       "      <td>108</td>\n",
       "      <td>девятка</td>\n",
       "      <td>3.1</td>\n",
       "      <td>NaN</td>\n",
       "      <td>33-41</td>\n",
       "      <td>У меня остались валет, десятка и девятка</td>\n",
       "    </tr>\n",
       "    <tr>\n",
       "      <th>108</th>\n",
       "      <td>109</td>\n",
       "      <td>девятка</td>\n",
       "      <td>3.1</td>\n",
       "      <td>NaN</td>\n",
       "      <td>28-36</td>\n",
       "      <td>В этой игре старшая карта – девятка</td>\n",
       "    </tr>\n",
       "    <tr>\n",
       "      <th>109</th>\n",
       "      <td>110</td>\n",
       "      <td>девятка</td>\n",
       "      <td>3.1</td>\n",
       "      <td>NaN</td>\n",
       "      <td>30-38</td>\n",
       "      <td>Он стал метать. Направо легла девятка, налево ...</td>\n",
       "    </tr>\n",
       "  </tbody>\n",
       "</table>\n",
       "</div>"
      ],
      "text/plain": [
       "     context_id     word gold_sense_id  predict_sense_id positions  \\\n",
       "100         101  девятка             2               NaN       0-8   \n",
       "101         102  девятка             2               NaN     11-19   \n",
       "102         103  девятка             2               NaN    94-102   \n",
       "103         104  девятка             2               NaN       0-8   \n",
       "104         105  девятка             2               NaN     48-56   \n",
       "105         106  девятка             2               NaN   135-143   \n",
       "106         107  девятка             2               NaN     63-71   \n",
       "107         108  девятка           3.1               NaN     33-41   \n",
       "108         109  девятка           3.1               NaN     28-36   \n",
       "109         110  девятка           3.1               NaN     30-38   \n",
       "\n",
       "                                               context  \n",
       "100                         Девятка сильнейших игроков  \n",
       "101      Он вошел в девятку высших руководителей Китая  \n",
       "102  А на опушке леса стояли на привязи девять жерт...  \n",
       "103  Девятка реактивных истребителей – три звена в ...  \n",
       "104  Да и женский турнир […] вошел в «супердевять» ...  \n",
       "105  Развивая свою концепцию мироустройства, Европа...  \n",
       "106  А этот потенциал был, как известно, сосредоточ...  \n",
       "107           У меня остались валет, десятка и девятка  \n",
       "108                В этой игре старшая карта – девятка  \n",
       "109  Он стал метать. Направо легла девятка, налево ...  "
      ]
     },
     "execution_count": 13,
     "metadata": {},
     "output_type": "execute_result"
    }
   ],
   "source": [
    "active_dict[100:110]"
   ]
  },
  {
   "cell_type": "code",
   "execution_count": null,
   "metadata": {},
   "outputs": [],
   "source": []
  },
  {
   "cell_type": "raw",
   "metadata": {},
   "source": [
    "Посмотрим на слова и на их набор значений"
   ]
  },
  {
   "cell_type": "code",
   "execution_count": 19,
   "metadata": {},
   "outputs": [],
   "source": [
    "words_dict = dict()\n",
    "\n",
    "for word in active_dict[\"word\"]:\n",
    "    if word not in words_dict:\n",
    "        words_dict.setdefault(word, set())\n",
    "\n",
    "for target_word in words_dict:\n",
    "    for sense_id in active_dict[active_dict.word == target_word][\"gold_sense_id\"]:\n",
    "        words_dict[target_word].add(sense_id)"
   ]
  },
  {
   "cell_type": "code",
   "execution_count": 20,
   "metadata": {},
   "outputs": [
    {
     "name": "stdout",
     "output_type": "stream",
     "text": [
      "{'дар': {'1', '2.1', '2.3'}, 'двигатель': {'2', '1'}, 'двойник': {'1.1', '1.2', '3', '2'}, 'дворец': {'2', '1'}, 'девятка': {'1.1', '4.1', '4.2', '3.1', '1.2', '3.3', '2', '4.3', '3.2'}, 'дедушка': {'2', '1'}, 'дежурная': {'2', '1'}, 'дежурный': {'2', '1'}, 'декабрист': {'2', '1'}, 'декрет': {'2', '1'}, 'дело': {'1.1', '6.2', '7.1', '7.2', '2.1', '4.1', '4.2', '3.1', '2.2', '5.1', '6.1', '6.3', '5.2', '1.2', '4.3', '3.2', '2.3'}, 'демобилизация': {'2', '1'}, 'демократ': {'3', '1', '2.1'}, 'демонстрация': {'3.1', '1', '3.3', '2', '3.2'}, 'дерево': {'3', '2', '1'}, 'держава': {'2', '1'}, 'дерзость': {'1.1', '2.1', '1.3', '3.1', '2.2', '1.2', '4'}, 'десятка': {'5.1', '3.1', '1', '5.2', '2', '4', '3.2'}, 'десяток': {'1.1', '1.2'}, 'деятель': {'2', '1'}, 'диалог': {'2', '1'}, 'диаметр': {'2.2', '1', '2.1'}, 'диплом': {'3', '2.2', '1', '2.1'}, 'директор': {'2', '1'}, 'диск': {'1.1', '2.1', '1.3', '7', '2.2', '6', '1.2', '5', '4', '3'}, 'дичь': {'3', '2', '1'}, 'длина': {'1.1', '1.2', '2'}, 'доброволец': {'2', '1'}, 'добыча': {'1.1', '2.1', '1.3', '2.2', '1.2', '3'}, 'доказательство': {'1.1', '1.2', '2'}, 'доктор': {'2', '1'}, 'долгота': {'2', '1'}, 'доля': {'1.1', '2.1', '2.2', '1.2', '5', '4', '3'}, 'дом': {'2.1', '4.1', '4.2', '2.2', '1', '5', '3', '2.3'}, 'дорога': {'1.1', '1.3', '3.1', '1.4', '1.2', '2', '3.2'}, 'достижение': {'1.1', '1.2', '2.2', '2.1'}, 'древесина': {'2', '1'}, 'дупло': {'2', '1'}, 'дура': {'3', '2', '1'}, 'дух': {'1.1', '2.1', '4.1', '4.2', '3.1', '2.2', '3.4', '1.2', '3.3', '4.3', '3.2'}, 'дым': {'1.1', '1.2', '2'}, 'дымка': {'2', '1'}, 'дыхание': {'1.1', '4.2', '4.1', '3.1', '1.2', '2', '3.2'}, 'дьявол': {'3', '2.2', '1', '2.1'}, 'евро': {'2', '1'}, 'езда': {'2', '1'}, 'жаворонок': {'2', '1'}, 'жало': {'2', '1'}, 'жертва': {'1.1', '3.1', '1.2', '2', '3.2'}, 'жестокость': {'2', '1'}, 'жидкость': {'2', '1'}, 'жила': {'3', '2', '1'}, 'жилец': {'2', '1'}, 'жир': {'2', '1'}, 'жребий': {'2', '1'}, 'заведение': {'3', '2', '1'}, 'завещание': {'2', '1'}, 'зависимость': {'3', '2', '1'}, 'заголовок': {'2', '3.1', '1', '3.2'}, 'заготовка': {'3', '2', '1', '4'}, 'задание': {'1', '5', '4', '2', '3'}, 'задача': {'1.1', '2.1', '2.2', '1.2', '3'}, 'задержка': {'1.1', '2.1', '4.1', '4.2', '2.2', '6', '1.2', '5', '3'}, 'зажигалка': {'2', '1'}, 'закон': {'1.1', '1.3', '1.4', '1.2', '4', '2', '3'}, 'закрытие': {'7', '3.1', '1', '6', '5', '2', '4', '3.2'}, 'заложник': {'2', '1'}, 'замена': {'2', '1'}, 'западня': {'2', '1'}, 'запятая': {'2', '1'}, 'застой': {'2', '1'}, 'затея': {'2', '1'}, 'затишье': {'3', '2', '1'}, 'затмение': {'2', '1'}, 'затруднение': {'2', '1'}, 'захоронение': {'1.1', '1.2', '2.2', '2.1'}, 'звезда': {'4', '2.2', '1', '2.1'}, 'звон': {'2', '1'}, 'зеркало': {'1.1', '1.2', '2'}, 'зло': {'homonym1-3', 'homonym1-2', 'homonym1-1'}, 'злоупотребление': {'2', '1'}, 'знак': {'2.1', '2.2', '1', '5', '4', '3', '2.3'}, 'знамя': {'2', '1'}, 'значение': {'1.1', '1.3', '1.2', '2'}, 'зонт': {'2', '1'}}\n"
     ]
    }
   ],
   "source": [
    "print(words_dict)"
   ]
  },
  {
   "cell_type": "code",
   "execution_count": 21,
   "metadata": {},
   "outputs": [
    {
     "data": {
      "text/plain": [
       "85"
      ]
     },
     "execution_count": 21,
     "metadata": {},
     "output_type": "execute_result"
    }
   ],
   "source": [
    "len(words_dict)"
   ]
  },
  {
   "cell_type": "code",
   "execution_count": 46,
   "metadata": {},
   "outputs": [],
   "source": [
    "# преобразуем set'ы в листы, чтобы был определнённый порядок, и сортируем по возрастанию\n",
    "for word in words_dict:\n",
    "    words_dict[word] = sorted(list(words_dict[word]))"
   ]
  },
  {
   "cell_type": "code",
   "execution_count": 47,
   "metadata": {
    "collapsed": true
   },
   "outputs": [
    {
     "name": "stdout",
     "output_type": "stream",
     "text": [
      "['1', '2.1', '2.3']\n",
      "['1', '2']\n",
      "['1.1', '1.2', '2', '3']\n",
      "['1', '2']\n",
      "['1.1', '1.2', '2', '3.1', '3.2', '3.3', '4.1', '4.2', '4.3']\n",
      "['1', '2']\n",
      "['1', '2']\n",
      "['1', '2']\n",
      "['1', '2']\n",
      "['1', '2']\n",
      "['1.1', '1.2', '2.1', '2.2', '2.3', '3.1', '3.2', '4.1', '4.2', '4.3', '5.1', '5.2', '6.1', '6.2', '6.3', '7.1', '7.2']\n",
      "['1', '2']\n",
      "['1', '2.1', '3']\n",
      "['1', '2', '3.1', '3.2', '3.3']\n",
      "['1', '2', '3']\n",
      "['1', '2']\n",
      "['1.1', '1.2', '1.3', '2.1', '2.2', '3.1', '4']\n",
      "['1', '2', '3.1', '3.2', '4', '5.1', '5.2']\n",
      "['1.1', '1.2']\n",
      "['1', '2']\n",
      "['1', '2']\n",
      "['1', '2.1', '2.2']\n",
      "['1', '2.1', '2.2', '3']\n",
      "['1', '2']\n",
      "['1.1', '1.2', '1.3', '2.1', '2.2', '3', '4', '5', '6', '7']\n",
      "['1', '2', '3']\n",
      "['1.1', '1.2', '2']\n",
      "['1', '2']\n",
      "['1.1', '1.2', '1.3', '2.1', '2.2', '3']\n",
      "['1.1', '1.2', '2']\n",
      "['1', '2']\n",
      "['1', '2']\n",
      "['1.1', '1.2', '2.1', '2.2', '3', '4', '5']\n",
      "['1', '2.1', '2.2', '2.3', '3', '4.1', '4.2', '5']\n",
      "['1.1', '1.2', '1.3', '1.4', '2', '3.1', '3.2']\n",
      "['1.1', '1.2', '2.1', '2.2']\n",
      "['1', '2']\n",
      "['1', '2']\n",
      "['1', '2', '3']\n",
      "['1.1', '1.2', '2.1', '2.2', '3.1', '3.2', '3.3', '3.4', '4.1', '4.2', '4.3']\n",
      "['1.1', '1.2', '2']\n",
      "['1', '2']\n",
      "['1.1', '1.2', '2', '3.1', '3.2', '4.1', '4.2']\n",
      "['1', '2.1', '2.2', '3']\n",
      "['1', '2']\n",
      "['1', '2']\n",
      "['1', '2']\n",
      "['1', '2']\n",
      "['1.1', '1.2', '2', '3.1', '3.2']\n",
      "['1', '2']\n",
      "['1', '2']\n",
      "['1', '2', '3']\n",
      "['1', '2']\n",
      "['1', '2']\n",
      "['1', '2']\n",
      "['1', '2', '3']\n",
      "['1', '2']\n",
      "['1', '2', '3']\n",
      "['1', '2', '3.1', '3.2']\n",
      "['1', '2', '3', '4']\n",
      "['1', '2', '3', '4', '5']\n",
      "['1.1', '1.2', '2.1', '2.2', '3']\n",
      "['1.1', '1.2', '2.1', '2.2', '3', '4.1', '4.2', '5', '6']\n",
      "['1', '2']\n",
      "['1.1', '1.2', '1.3', '1.4', '2', '3', '4']\n",
      "['1', '2', '3.1', '3.2', '4', '5', '6', '7']\n",
      "['1', '2']\n",
      "['1', '2']\n",
      "['1', '2']\n",
      "['1', '2']\n",
      "['1', '2']\n",
      "['1', '2']\n",
      "['1', '2', '3']\n",
      "['1', '2']\n",
      "['1', '2']\n",
      "['1.1', '1.2', '2.1', '2.2']\n",
      "['1', '2.1', '2.2', '4']\n",
      "['1', '2']\n",
      "['1.1', '1.2', '2']\n",
      "['homonym1-1', 'homonym1-2', 'homonym1-3']\n",
      "['1', '2']\n",
      "['1', '2.1', '2.2', '2.3', '3', '4', '5']\n",
      "['1', '2']\n",
      "['1.1', '1.2', '1.3', '2']\n",
      "['1', '2']\n"
     ]
    }
   ],
   "source": [
    "for word in words_dict:\n",
    "    print(words_dict[word])"
   ]
  },
  {
   "cell_type": "code",
   "execution_count": null,
   "metadata": {},
   "outputs": [],
   "source": []
  },
  {
   "cell_type": "code",
   "execution_count": null,
   "metadata": {},
   "outputs": [],
   "source": [
    "Теперь нужно токенизировать и лемматизировать контексты - для выдедения важных слов."
   ]
  },
  {
   "cell_type": "code",
   "execution_count": 22,
   "metadata": {},
   "outputs": [],
   "source": [
    "import pymorphy2"
   ]
  },
  {
   "cell_type": "code",
   "execution_count": 29,
   "metadata": {},
   "outputs": [],
   "source": [
    "from pymorphy2.tokenizers import simple_word_tokenize"
   ]
  },
  {
   "cell_type": "code",
   "execution_count": 30,
   "metadata": {},
   "outputs": [],
   "source": [
    "morph = pymorphy2.MorphAnalyzer()"
   ]
  },
  {
   "cell_type": "code",
   "execution_count": 26,
   "metadata": {},
   "outputs": [],
   "source": [
    "active_dict[\"lem_context\"] = np.nan  # добавили пустой стоблец для лемматизированных контекстов"
   ]
  },
  {
   "cell_type": "code",
   "execution_count": 28,
   "metadata": {},
   "outputs": [
    {
     "data": {
      "text/plain": [
       "(2073, 7)"
      ]
     },
     "execution_count": 28,
     "metadata": {},
     "output_type": "execute_result"
    }
   ],
   "source": [
    "active_dict.shape"
   ]
  },
  {
   "cell_type": "code",
   "execution_count": 27,
   "metadata": {},
   "outputs": [
    {
     "data": {
      "text/plain": [
       "'Отвергнуть щедрый дар'"
      ]
     },
     "execution_count": 27,
     "metadata": {},
     "output_type": "execute_result"
    }
   ],
   "source": [
    "active_dict['context'][0]"
   ]
  },
  {
   "cell_type": "code",
   "execution_count": 31,
   "metadata": {},
   "outputs": [
    {
     "name": "stderr",
     "output_type": "stream",
     "text": [
      "C:\\Users\\boss\\Anaconda3\\lib\\site-packages\\ipykernel_launcher.py:5: SettingWithCopyWarning: \n",
      "A value is trying to be set on a copy of a slice from a DataFrame\n",
      "\n",
      "See the caveats in the documentation: http://pandas.pydata.org/pandas-docs/stable/indexing.html#indexing-view-versus-copy\n",
      "  \"\"\"\n",
      "C:\\Users\\boss\\Anaconda3\\lib\\site-packages\\pandas\\core\\indexing.py:189: SettingWithCopyWarning: \n",
      "A value is trying to be set on a copy of a slice from a DataFrame\n",
      "\n",
      "See the caveats in the documentation: http://pandas.pydata.org/pandas-docs/stable/indexing.html#indexing-view-versus-copy\n",
      "  self._setitem_with_indexer(indexer, value)\n"
     ]
    }
   ],
   "source": [
    "for i in range(active_dict.shape[0]): # будем перебирать контексты\n",
    "    lemmatized_list = []\n",
    "    for token in simple_word_tokenize(active_dict['context'][i]):\n",
    "        lemmatized_list.append(morph.parse(token)[0].normal_form)\n",
    "    active_dict[\"lem_context\"][i] = \" \".join(lemmatized_list)"
   ]
  },
  {
   "cell_type": "code",
   "execution_count": 33,
   "metadata": {},
   "outputs": [
    {
     "data": {
      "text/html": [
       "<div>\n",
       "<style scoped>\n",
       "    .dataframe tbody tr th:only-of-type {\n",
       "        vertical-align: middle;\n",
       "    }\n",
       "\n",
       "    .dataframe tbody tr th {\n",
       "        vertical-align: top;\n",
       "    }\n",
       "\n",
       "    .dataframe thead th {\n",
       "        text-align: right;\n",
       "    }\n",
       "</style>\n",
       "<table border=\"1\" class=\"dataframe\">\n",
       "  <thead>\n",
       "    <tr style=\"text-align: right;\">\n",
       "      <th></th>\n",
       "      <th>context_id</th>\n",
       "      <th>word</th>\n",
       "      <th>gold_sense_id</th>\n",
       "      <th>predict_sense_id</th>\n",
       "      <th>positions</th>\n",
       "      <th>context</th>\n",
       "      <th>lem_context</th>\n",
       "    </tr>\n",
       "  </thead>\n",
       "  <tbody>\n",
       "    <tr>\n",
       "      <th>100</th>\n",
       "      <td>101</td>\n",
       "      <td>девятка</td>\n",
       "      <td>2</td>\n",
       "      <td>NaN</td>\n",
       "      <td>0-8</td>\n",
       "      <td>Девятка сильнейших игроков</td>\n",
       "      <td>девятка сильнейший игрок</td>\n",
       "    </tr>\n",
       "    <tr>\n",
       "      <th>101</th>\n",
       "      <td>102</td>\n",
       "      <td>девятка</td>\n",
       "      <td>2</td>\n",
       "      <td>NaN</td>\n",
       "      <td>11-19</td>\n",
       "      <td>Он вошел в девятку высших руководителей Китая</td>\n",
       "      <td>он войти в девятка высокий руководитель китай</td>\n",
       "    </tr>\n",
       "    <tr>\n",
       "      <th>102</th>\n",
       "      <td>103</td>\n",
       "      <td>девятка</td>\n",
       "      <td>2</td>\n",
       "      <td>NaN</td>\n",
       "      <td>94-102</td>\n",
       "      <td>А на опушке леса стояли на привязи девять жерт...</td>\n",
       "      <td>а на опушка леса стоять на привязь девять жерт...</td>\n",
       "    </tr>\n",
       "    <tr>\n",
       "      <th>103</th>\n",
       "      <td>104</td>\n",
       "      <td>девятка</td>\n",
       "      <td>2</td>\n",
       "      <td>NaN</td>\n",
       "      <td>0-8</td>\n",
       "      <td>Девятка реактивных истребителей – три звена в ...</td>\n",
       "      <td>девятка реактивный истребитель – три звено в с...</td>\n",
       "    </tr>\n",
       "    <tr>\n",
       "      <th>104</th>\n",
       "      <td>105</td>\n",
       "      <td>девятка</td>\n",
       "      <td>2</td>\n",
       "      <td>NaN</td>\n",
       "      <td>48-56</td>\n",
       "      <td>Да и женский турнир […] вошел в «супердевять» ...</td>\n",
       "      <td>да и женский турнир [ … ] войти в « супердевят...</td>\n",
       "    </tr>\n",
       "    <tr>\n",
       "      <th>105</th>\n",
       "      <td>106</td>\n",
       "      <td>девятка</td>\n",
       "      <td>2</td>\n",
       "      <td>NaN</td>\n",
       "      <td>135-143</td>\n",
       "      <td>Развивая свою концепцию мироустройства, Европа...</td>\n",
       "      <td>развивать свой концепция мироустройство , евро...</td>\n",
       "    </tr>\n",
       "    <tr>\n",
       "      <th>106</th>\n",
       "      <td>107</td>\n",
       "      <td>девятка</td>\n",
       "      <td>2</td>\n",
       "      <td>NaN</td>\n",
       "      <td>63-71</td>\n",
       "      <td>А этот потенциал был, как известно, сосредоточ...</td>\n",
       "      <td>а этот потенциал быть , как известно , сосредо...</td>\n",
       "    </tr>\n",
       "    <tr>\n",
       "      <th>107</th>\n",
       "      <td>108</td>\n",
       "      <td>девятка</td>\n",
       "      <td>3.1</td>\n",
       "      <td>NaN</td>\n",
       "      <td>33-41</td>\n",
       "      <td>У меня остались валет, десятка и девятка</td>\n",
       "      <td>у я остаться валет , десятка и девятка</td>\n",
       "    </tr>\n",
       "    <tr>\n",
       "      <th>108</th>\n",
       "      <td>109</td>\n",
       "      <td>девятка</td>\n",
       "      <td>3.1</td>\n",
       "      <td>NaN</td>\n",
       "      <td>28-36</td>\n",
       "      <td>В этой игре старшая карта – девятка</td>\n",
       "      <td>в этот игра старший карта – девятка</td>\n",
       "    </tr>\n",
       "    <tr>\n",
       "      <th>109</th>\n",
       "      <td>110</td>\n",
       "      <td>девятка</td>\n",
       "      <td>3.1</td>\n",
       "      <td>NaN</td>\n",
       "      <td>30-38</td>\n",
       "      <td>Он стал метать. Направо легла девятка, налево ...</td>\n",
       "      <td>он стать метать . направо лечь девятка , налев...</td>\n",
       "    </tr>\n",
       "  </tbody>\n",
       "</table>\n",
       "</div>"
      ],
      "text/plain": [
       "     context_id     word gold_sense_id  predict_sense_id positions  \\\n",
       "100         101  девятка             2               NaN       0-8   \n",
       "101         102  девятка             2               NaN     11-19   \n",
       "102         103  девятка             2               NaN    94-102   \n",
       "103         104  девятка             2               NaN       0-8   \n",
       "104         105  девятка             2               NaN     48-56   \n",
       "105         106  девятка             2               NaN   135-143   \n",
       "106         107  девятка             2               NaN     63-71   \n",
       "107         108  девятка           3.1               NaN     33-41   \n",
       "108         109  девятка           3.1               NaN     28-36   \n",
       "109         110  девятка           3.1               NaN     30-38   \n",
       "\n",
       "                                               context  \\\n",
       "100                         Девятка сильнейших игроков   \n",
       "101      Он вошел в девятку высших руководителей Китая   \n",
       "102  А на опушке леса стояли на привязи девять жерт...   \n",
       "103  Девятка реактивных истребителей – три звена в ...   \n",
       "104  Да и женский турнир […] вошел в «супердевять» ...   \n",
       "105  Развивая свою концепцию мироустройства, Европа...   \n",
       "106  А этот потенциал был, как известно, сосредоточ...   \n",
       "107           У меня остались валет, десятка и девятка   \n",
       "108                В этой игре старшая карта – девятка   \n",
       "109  Он стал метать. Направо легла девятка, налево ...   \n",
       "\n",
       "                                           lem_context  \n",
       "100                           девятка сильнейший игрок  \n",
       "101      он войти в девятка высокий руководитель китай  \n",
       "102  а на опушка леса стоять на привязь девять жерт...  \n",
       "103  девятка реактивный истребитель – три звено в с...  \n",
       "104  да и женский турнир [ … ] войти в « супердевят...  \n",
       "105  развивать свой концепция мироустройство , евро...  \n",
       "106  а этот потенциал быть , как известно , сосредо...  \n",
       "107             у я остаться валет , десятка и девятка  \n",
       "108                в этот игра старший карта – девятка  \n",
       "109  он стать метать . направо лечь девятка , налев...  "
      ]
     },
     "execution_count": 33,
     "metadata": {},
     "output_type": "execute_result"
    }
   ],
   "source": [
    "active_dict[100:110]"
   ]
  },
  {
   "cell_type": "code",
   "execution_count": 48,
   "metadata": {
    "collapsed": true
   },
   "outputs": [
    {
     "name": "stderr",
     "output_type": "stream",
     "text": [
      "C:\\Users\\boss\\Anaconda3\\lib\\site-packages\\ipykernel_launcher.py:2: UserWarning: Boolean Series key will be reindexed to match DataFrame index.\n",
      "  \n"
     ]
    },
    {
     "name": "stdout",
     "output_type": "stream",
     "text": [
      "[8, 15, 13]\n",
      "[6, 9]\n",
      "[7, 7, 6, 5]\n",
      "[7, 6]\n",
      "[5, 6, 7, 5, 5, 4, 6, 4, 5]\n",
      "[5, 4]\n",
      "[6, 6]\n",
      "[6, 7]\n",
      "[7, 4]\n",
      "[6, 6]\n",
      "[7, 9, 9, 6, 5, 7, 7, 9, 8, 8, 11, 5, 10, 6, 8, 7, 8]\n",
      "[8, 6]\n",
      "[7, 6, 5]\n",
      "[7, 8, 9, 7, 7]\n",
      "[8, 9, 4]\n",
      "[8, 7]\n",
      "[7, 5, 6, 6, 4, 5, 4]\n",
      "[3, 7, 6, 4, 5, 7, 4]\n",
      "[8, 13]\n",
      "[7, 7]\n",
      "[7, 7]\n",
      "[5, 7, 6]\n",
      "[8, 7, 4, 6]\n",
      "[7, 4]\n",
      "[9, 6, 4, 8, 5, 7, 6, 6, 7, 5]\n",
      "[6, 6, 6]\n",
      "[11, 5, 5]\n",
      "[7, 5]\n",
      "[7, 5, 3, 5, 7, 8]\n",
      "[9, 6, 9]\n",
      "[9, 8]\n",
      "[7, 6]\n",
      "[8, 4, 7, 5, 6, 8, 7]\n",
      "[6, 6, 6, 5, 4, 4, 4, 3]\n",
      "[10, 4, 8, 6, 9, 5, 5]\n",
      "[5, 3, 7, 7]\n",
      "[9, 7]\n",
      "[9, 6]\n",
      "[8, 1, 3]\n",
      "[9, 9, 7, 9, 7, 5, 6, 6, 11, 4, 4]\n",
      "[10, 9, 9]\n",
      "[9, 9]\n",
      "[8, 9, 5, 11, 7, 8, 8]\n",
      "[8, 5, 3, 6]\n",
      "[7, 1]\n",
      "[9, 5]\n",
      "[6, 5]\n",
      "[5, 6]\n",
      "[8, 4, 8, 10, 7]\n",
      "[8, 6]\n",
      "[6, 6]\n",
      "[7, 7, 3]\n",
      "[9, 7]\n",
      "[8, 7]\n",
      "[7, 8]\n",
      "[4, 9, 1]\n",
      "[10, 6]\n",
      "[8, 7, 6]\n",
      "[7, 4, 6, 5]\n",
      "[8, 5, 6, 7]\n",
      "[7, 8, 9, 5, 4]\n",
      "[8, 10, 7, 6, 5]\n",
      "[5, 6, 4, 5, 10, 5, 9, 6, 10]\n",
      "[7, 6]\n",
      "[9, 7, 9, 7, 9, 7, 8]\n",
      "[5, 4, 7, 5, 6, 2, 5, 4]\n",
      "[7, 6]\n",
      "[8, 10]\n",
      "[7, 4]\n",
      "[9, 5]\n",
      "[7, 6]\n",
      "[9, 3]\n",
      "[5, 6, 5]\n",
      "[5, 7]\n",
      "[9, 6]\n",
      "[8, 8, 4, 2]\n",
      "[11, 6, 15, 8]\n",
      "[9, 5]\n",
      "[10, 6, 5]\n",
      "[8, 9, 6]\n",
      "[7, 5]\n",
      "[8, 8, 8, 7, 10, 9, 5]\n",
      "[9, 5]\n",
      "[6, 8, 6, 10]\n",
      "[5, 4]\n"
     ]
    }
   ],
   "source": [
    "for word in words_dict:\n",
    "    print([len(active_dict[active_dict.word == word][active_dict.gold_sense_id == gold]) for gold in words_dict[word]])"
   ]
  },
  {
   "cell_type": "code",
   "execution_count": 55,
   "metadata": {},
   "outputs": [],
   "source": [
    "active_dict.to_csv(\"C:\\\\Users\\\\boss\\\\Documents\\\\Diploma\\\\russe-wsi-kit\\\\preprocessed\\\\active_dict.csv\", \"\\t\", encoding=\"utf-8\", index=False)"
   ]
  },
  {
   "cell_type": "code",
   "execution_count": null,
   "metadata": {},
   "outputs": [],
   "source": []
  }
 ],
 "metadata": {
  "kernelspec": {
   "display_name": "Python 3",
   "language": "python",
   "name": "python3"
  },
  "language_info": {
   "codemirror_mode": {
    "name": "ipython",
    "version": 3
   },
   "file_extension": ".py",
   "mimetype": "text/x-python",
   "name": "python",
   "nbconvert_exporter": "python",
   "pygments_lexer": "ipython3",
   "version": "3.7.1"
  }
 },
 "nbformat": 4,
 "nbformat_minor": 2
}
