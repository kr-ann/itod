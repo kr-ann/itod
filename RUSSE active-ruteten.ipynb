{
 "cells": [
  {
   "cell_type": "code",
   "execution_count": 1,
   "metadata": {},
   "outputs": [],
   "source": [
    "import numpy as np\n",
    "import pandas"
   ]
  },
  {
   "cell_type": "code",
   "execution_count": 2,
   "metadata": {},
   "outputs": [],
   "source": [
    "path=\"C:\\\\Users\\\\boss\\\\Documents\\\\Diploma\\\\russe-wsi-kit\\\\data\\\\\""
   ]
  },
  {
   "cell_type": "code",
   "execution_count": 3,
   "metadata": {},
   "outputs": [],
   "source": [
    "active_rutenten = pandas.read_csv(path+\"additional\\\\active-rutenten\\\\train.csv\", \"\\t\")"
   ]
  },
  {
   "cell_type": "code",
   "execution_count": 4,
   "metadata": {},
   "outputs": [
    {
     "name": "stdout",
     "output_type": "stream",
     "text": [
      "20\n",
      "{'альбом': {1, 2, 3}, 'анатомия': {1, 2, 3}, 'базар': {1, 2, 3}, 'балет': {1, 2, 3, 4}, 'беда': {1, 2}, 'бездна': {1, 2, 3, 4}, 'билет': {1, 2, 3, 4}, 'блок': {1, 2, 3, 4, 5, 6, 7, 9}, 'блоха': {1, 2}, 'брак': {1, 2}, 'бритва': {1, 2}, 'будущее': {1, 2}, 'вешалка': {1, 2, 3, 4, 5}, 'вилка': {1, 2, 3, 4, 5}, 'винт': {1, 2, 3, 4, 5}, 'галерея': {3, 6, 7}, 'горбуша': {1, 2}, 'горшок': {1, 2, 3}, 'гроза': {1, 2, 3, 4}, 'группа': {1, 2, 3, 4, 5}}\n"
     ]
    }
   ],
   "source": [
    "# посмотрим на слова и на их набор значений\n",
    "words_dict = dict()\n",
    "\n",
    "for word in active_rutenten[\"word\"]:\n",
    "    if word not in words_dict:\n",
    "        words_dict.setdefault(word, set())\n",
    "\n",
    "for target_word in words_dict:\n",
    "    for sense_id in active_rutenten[active_rutenten.word == target_word][\"gold_sense_id\"]:\n",
    "        words_dict[target_word].add(sense_id)\n",
    "\n",
    "print(len(words_dict))\n",
    "print(words_dict)"
   ]
  },
  {
   "cell_type": "code",
   "execution_count": 5,
   "metadata": {
    "collapsed": true
   },
   "outputs": [
    {
     "name": "stdout",
     "output_type": "stream",
     "text": [
      "альбом\n",
      "анатомия\n",
      "базар\n",
      "балет\n",
      "беда\n",
      "бездна\n",
      "билет\n",
      "блок\n",
      "блоха\n",
      "брак\n",
      "бритва\n",
      "будущее\n",
      "вешалка\n",
      "вилка\n",
      "винт\n",
      "галерея\n",
      "горбуша\n",
      "горшок\n",
      "гроза\n",
      "группа\n"
     ]
    }
   ],
   "source": [
    "for word in words_dict:\n",
    "    print(word)"
   ]
  },
  {
   "cell_type": "code",
   "execution_count": 6,
   "metadata": {
    "collapsed": true
   },
   "outputs": [
    {
     "name": "stdout",
     "output_type": "stream",
     "text": [
      "[1, 2, 3]\n",
      "[1, 2, 3]\n",
      "[1, 2, 3]\n",
      "[1, 2, 3, 4]\n",
      "[1, 2]\n",
      "[1, 2, 3, 4]\n",
      "[1, 2, 3, 4]\n",
      "[1, 2, 3, 4, 5, 6, 7, 9]\n",
      "[1, 2]\n",
      "[1, 2]\n",
      "[1, 2]\n",
      "[1, 2]\n",
      "[1, 2, 3, 4, 5]\n",
      "[1, 2, 3, 4, 5]\n",
      "[1, 2, 3, 4, 5]\n",
      "[3, 6, 7]\n",
      "[1, 2]\n",
      "[1, 2, 3]\n",
      "[1, 2, 3, 4]\n",
      "[1, 2, 3, 4, 5]\n"
     ]
    }
   ],
   "source": [
    "# преобразуем set'ы в листы, чтобы был определнённый порядок, и сортируем по возрастанию\n",
    "for word in words_dict:\n",
    "    words_dict[word] = sorted(list(words_dict[word]))\n",
    "    \n",
    "for word in words_dict:\n",
    "    print(words_dict[word])"
   ]
  },
  {
   "cell_type": "code",
   "execution_count": 7,
   "metadata": {
    "collapsed": true
   },
   "outputs": [
    {
     "name": "stdout",
     "output_type": "stream",
     "text": [
      "450\n",
      "95\n",
      "90\n",
      "94\n",
      "93\n",
      "87\n",
      "447\n",
      "206\n",
      "86\n",
      "96\n",
      "85\n",
      "83\n",
      "390\n",
      "302\n",
      "358\n",
      "24\n",
      "93\n",
      "406\n",
      "95\n",
      "91\n"
     ]
    }
   ],
   "source": [
    "for word in words_dict:\n",
    "    print(len(active_rutenten[active_rutenten.word == word]))"
   ]
  },
  {
   "cell_type": "code",
   "execution_count": 8,
   "metadata": {
    "collapsed": true
   },
   "outputs": [
    {
     "name": "stdout",
     "output_type": "stream",
     "text": [
      "[6, 81, 363]\n",
      "[50, 36, 9]\n",
      "[75, 6, 9]\n",
      "[53, 13, 26, 2]\n",
      "[33, 60]\n",
      "[30, 28, 5, 24]\n",
      "[405, 24, 11, 7]\n",
      "[3, 53, 7, 14, 60, 35, 9, 25]\n",
      "[84, 2]\n",
      "[83, 13]\n",
      "[81, 4]\n",
      "[54, 29]\n",
      "[248, 32, 100, 9, 1]\n",
      "[220, 23, 1, 1, 57]\n",
      "[193, 146, 10, 8, 1]\n",
      "[1, 17, 6]\n",
      "[51, 42]\n",
      "[83, 232, 91]\n",
      "[76, 4, 3, 12]\n",
      "[5, 11, 17, 42, 16]\n"
     ]
    },
    {
     "name": "stderr",
     "output_type": "stream",
     "text": [
      "C:\\Users\\boss\\Anaconda3\\lib\\site-packages\\ipykernel_launcher.py:2: UserWarning: Boolean Series key will be reindexed to match DataFrame index.\n",
      "  \n"
     ]
    }
   ],
   "source": [
    "for word in words_dict:\n",
    "    print([len(active_rutenten[active_rutenten.word == word][active_rutenten.gold_sense_id == gold]) for gold in words_dict[word]])"
   ]
  },
  {
   "cell_type": "code",
   "execution_count": null,
   "metadata": {},
   "outputs": [],
   "source": []
  },
  {
   "cell_type": "code",
   "execution_count": 9,
   "metadata": {},
   "outputs": [],
   "source": [
    "import pymorphy2\n",
    "from pymorphy2.tokenizers import simple_word_tokenize\n",
    "morph = pymorphy2.MorphAnalyzer()"
   ]
  },
  {
   "cell_type": "code",
   "execution_count": 10,
   "metadata": {},
   "outputs": [],
   "source": [
    "active_rutenten[\"lem_context\"] = np.nan  # добавили пустой стоблец для лемматизированных контекстов"
   ]
  },
  {
   "cell_type": "code",
   "execution_count": 11,
   "metadata": {},
   "outputs": [
    {
     "name": "stderr",
     "output_type": "stream",
     "text": [
      "C:\\Users\\boss\\Anaconda3\\lib\\site-packages\\ipykernel_launcher.py:5: SettingWithCopyWarning: \n",
      "A value is trying to be set on a copy of a slice from a DataFrame\n",
      "\n",
      "See the caveats in the documentation: http://pandas.pydata.org/pandas-docs/stable/indexing.html#indexing-view-versus-copy\n",
      "  \"\"\"\n",
      "C:\\Users\\boss\\Anaconda3\\lib\\site-packages\\pandas\\core\\indexing.py:189: SettingWithCopyWarning: \n",
      "A value is trying to be set on a copy of a slice from a DataFrame\n",
      "\n",
      "See the caveats in the documentation: http://pandas.pydata.org/pandas-docs/stable/indexing.html#indexing-view-versus-copy\n",
      "  self._setitem_with_indexer(indexer, value)\n"
     ]
    }
   ],
   "source": [
    "for i in range(active_rutenten.shape[0]): # будем перебирать контексты\n",
    "    lemmatized_list = []\n",
    "    for token in simple_word_tokenize(active_rutenten['context'][i]):\n",
    "        lemmatized_list.append(morph.parse(token)[0].normal_form)\n",
    "    active_rutenten[\"lem_context\"][i] = \" \".join(lemmatized_list)"
   ]
  },
  {
   "cell_type": "code",
   "execution_count": 12,
   "metadata": {},
   "outputs": [],
   "source": [
    "active_rutenten.to_csv(\"C:\\\\Users\\\\boss\\\\Documents\\\\Diploma\\\\russe-wsi-kit\\\\preprocessed\\\\active_rutenten.csv\", \"\\t\", encoding=\"utf-8\", index=False)"
   ]
  },
  {
   "cell_type": "code",
   "execution_count": null,
   "metadata": {},
   "outputs": [],
   "source": []
  }
 ],
 "metadata": {
  "kernelspec": {
   "display_name": "Python 3",
   "language": "python",
   "name": "python3"
  },
  "language_info": {
   "codemirror_mode": {
    "name": "ipython",
    "version": 3
   },
   "file_extension": ".py",
   "mimetype": "text/x-python",
   "name": "python",
   "nbconvert_exporter": "python",
   "pygments_lexer": "ipython3",
   "version": "3.7.1"
  }
 },
 "nbformat": 4,
 "nbformat_minor": 2
}
