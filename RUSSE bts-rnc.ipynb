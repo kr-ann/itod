{
 "cells": [
  {
   "cell_type": "code",
   "execution_count": 1,
   "metadata": {},
   "outputs": [],
   "source": [
    "import numpy as np\n",
    "import pandas"
   ]
  },
  {
   "cell_type": "code",
   "execution_count": 2,
   "metadata": {},
   "outputs": [],
   "source": [
    "path=\"C:\\\\Users\\\\boss\\\\Documents\\\\Diploma\\\\russe-wsi-kit\\\\data\\\\\""
   ]
  },
  {
   "cell_type": "code",
   "execution_count": 3,
   "metadata": {},
   "outputs": [],
   "source": [
    "bts_rnc = pandas.read_csv(path+\"main\\\\bts-rnc\\\\train.csv\", \"\\t\")"
   ]
  },
  {
   "cell_type": "code",
   "execution_count": 4,
   "metadata": {},
   "outputs": [
    {
     "name": "stdout",
     "output_type": "stream",
     "text": [
      "30\n",
      "{'балка': {1, 2}, 'вид': {1, 2, 5}, 'винт': {1, 2, 3, 5}, 'горн': {1, 2, 3}, 'губа': {1, 3, 4}, 'жаба': {1, 2, 3, 4}, 'клетка': {1, 2, 3, 4, 5, 6}, 'крыло': {1, 2, 3, 4, 5, 6, 7, 8}, 'купюра': {1, 2}, 'курица': {1, 2}, 'лавка': {1, 2}, 'лайка': {1, 2}, 'лев': {1, 2, 3, 4}, 'лира': {1, 2}, 'мина': {1, 2, 3}, 'мишень': {1, 2}, 'обед': {1, 2, 3, 4}, 'оклад': {1, 2, 3}, 'опушка': {1, 2}, 'полис': {1, 2}, 'пост': {1, 2, 3, 4, 5}, 'поток': {1, 2}, 'проказа': {1, 2}, 'пропасть': {1, 2, 3, 4}, 'проспект': {1, 2, 3, 4}, 'пытка': {1, 2}, 'рысь': {1, 2}, 'среда': {1, 2, 3, 4}, 'хвост': {1, 3, 4, 7}, 'штамп': {1, 2, 3, 4}}\n"
     ]
    }
   ],
   "source": [
    "# посмотрим на слова и на их набор значений\n",
    "words_dict = dict()\n",
    "\n",
    "for word in bts_rnc[\"word\"]:\n",
    "    if word not in words_dict:\n",
    "        words_dict.setdefault(word, set())\n",
    "\n",
    "for target_word in words_dict:\n",
    "    for sense_id in bts_rnc[bts_rnc.word == target_word][\"gold_sense_id\"]:\n",
    "        words_dict[target_word].add(sense_id)\n",
    "\n",
    "print(len(words_dict))\n",
    "print(words_dict)"
   ]
  },
  {
   "cell_type": "code",
   "execution_count": 6,
   "metadata": {
    "collapsed": true
   },
   "outputs": [
    {
     "name": "stdout",
     "output_type": "stream",
     "text": [
      "балка\n",
      "вид\n",
      "винт\n",
      "горн\n",
      "губа\n",
      "жаба\n",
      "клетка\n",
      "крыло\n",
      "купюра\n",
      "курица\n",
      "лавка\n",
      "лайка\n",
      "лев\n",
      "лира\n",
      "мина\n",
      "мишень\n",
      "обед\n",
      "оклад\n",
      "опушка\n",
      "полис\n",
      "пост\n",
      "поток\n",
      "проказа\n",
      "пропасть\n",
      "проспект\n",
      "пытка\n",
      "рысь\n",
      "среда\n",
      "хвост\n",
      "штамп\n"
     ]
    }
   ],
   "source": [
    "for word in words_dict:\n",
    "    print(word)"
   ]
  },
  {
   "cell_type": "code",
   "execution_count": 5,
   "metadata": {
    "collapsed": true
   },
   "outputs": [
    {
     "name": "stdout",
     "output_type": "stream",
     "text": [
      "[1, 2]\n",
      "[1, 2, 5]\n",
      "[1, 2, 3, 5]\n",
      "[1, 2, 3]\n",
      "[1, 3, 4]\n",
      "[1, 2, 3, 4]\n",
      "[1, 2, 3, 4, 5, 6]\n",
      "[1, 2, 3, 4, 5, 6, 7, 8]\n",
      "[1, 2]\n",
      "[1, 2]\n",
      "[1, 2]\n",
      "[1, 2]\n",
      "[1, 2, 3, 4]\n",
      "[1, 2]\n",
      "[1, 2, 3]\n",
      "[1, 2]\n",
      "[1, 2, 3, 4]\n",
      "[1, 2, 3]\n",
      "[1, 2]\n",
      "[1, 2]\n",
      "[1, 2, 3, 4, 5]\n",
      "[1, 2]\n",
      "[1, 2]\n",
      "[1, 2, 3, 4]\n",
      "[1, 2, 3, 4]\n",
      "[1, 2]\n",
      "[1, 2]\n",
      "[1, 2, 3, 4]\n",
      "[1, 3, 4, 7]\n",
      "[1, 2, 3, 4]\n"
     ]
    }
   ],
   "source": [
    "# преобразуем set'ы в листы, чтобы был определнённый порядок, и сортируем по возрастанию\n",
    "for word in words_dict:\n",
    "    words_dict[word] = sorted(list(words_dict[word]))\n",
    "    \n",
    "for word in words_dict:\n",
    "    print(words_dict[word])"
   ]
  },
  {
   "cell_type": "code",
   "execution_count": 12,
   "metadata": {
    "collapsed": true
   },
   "outputs": [
    {
     "name": "stdout",
     "output_type": "stream",
     "text": [
      "119\n",
      "77\n",
      "123\n",
      "51\n",
      "137\n",
      "121\n",
      "150\n",
      "91\n",
      "150\n",
      "93\n",
      "149\n",
      "99\n",
      "44\n",
      "49\n",
      "65\n",
      "121\n",
      "100\n",
      "146\n",
      "148\n",
      "142\n",
      "144\n",
      "136\n",
      "146\n",
      "127\n",
      "139\n",
      "143\n",
      "120\n",
      "144\n",
      "121\n",
      "96\n"
     ]
    }
   ],
   "source": [
    "for word in words_dict:\n",
    "    print(len(bts_rnc[bts_rnc.word == word]))"
   ]
  },
  {
   "cell_type": "code",
   "execution_count": 13,
   "metadata": {
    "collapsed": true
   },
   "outputs": [
    {
     "name": "stdout",
     "output_type": "stream",
     "text": [
      "[81, 38]\n",
      "[38, 3, 36]\n",
      "[39, 67, 1, 16]\n",
      "[20, 1, 30]\n",
      "[132, 3, 2]\n",
      "[79, 6, 9, 27]\n",
      "[38, 1, 7, 96, 4, 4]\n",
      "[51, 19, 1, 4, 1, 3, 5, 7]\n",
      "[12, 138]\n",
      "[62, 31]\n",
      "[67, 82]\n",
      "[81, 18]\n",
      "[36, 2, 2, 4]\n",
      "[33, 16]\n",
      "[51, 12, 2]\n",
      "[88, 33]\n",
      "[62, 17, 19, 2]\n",
      "[137, 5, 4]\n",
      "[142, 6]\n",
      "[3, 139]\n",
      "[32, 98, 10, 2, 2]\n",
      "[12, 124]\n",
      "[95, 51]\n",
      "[92, 25, 7, 3]\n",
      "[117, 6, 4, 12]\n",
      "[116, 27]\n",
      "[82, 38]\n",
      "[13, 32, 47, 52]\n",
      "[100, 8, 12, 1]\n",
      "[45, 1, 3, 47]\n"
     ]
    },
    {
     "name": "stderr",
     "output_type": "stream",
     "text": [
      "C:\\Users\\boss\\Anaconda3\\lib\\site-packages\\ipykernel_launcher.py:2: UserWarning: Boolean Series key will be reindexed to match DataFrame index.\n",
      "  \n"
     ]
    }
   ],
   "source": [
    "for word in words_dict:\n",
    "    print([len(bts_rnc[bts_rnc.word == word][bts_rnc.gold_sense_id == gold]) for gold in words_dict[word]])"
   ]
  },
  {
   "cell_type": "code",
   "execution_count": null,
   "metadata": {},
   "outputs": [],
   "source": []
  },
  {
   "cell_type": "code",
   "execution_count": 7,
   "metadata": {},
   "outputs": [],
   "source": [
    "import pymorphy2\n",
    "from pymorphy2.tokenizers import simple_word_tokenize\n",
    "morph = pymorphy2.MorphAnalyzer()"
   ]
  },
  {
   "cell_type": "code",
   "execution_count": 9,
   "metadata": {},
   "outputs": [],
   "source": [
    "bts_rnc[\"lem_context\"] = np.nan  # добавили пустой стоблец для лемматизированных контекстов"
   ]
  },
  {
   "cell_type": "code",
   "execution_count": 10,
   "metadata": {},
   "outputs": [
    {
     "name": "stderr",
     "output_type": "stream",
     "text": [
      "C:\\Users\\boss\\Anaconda3\\lib\\site-packages\\ipykernel_launcher.py:5: SettingWithCopyWarning: \n",
      "A value is trying to be set on a copy of a slice from a DataFrame\n",
      "\n",
      "See the caveats in the documentation: http://pandas.pydata.org/pandas-docs/stable/indexing.html#indexing-view-versus-copy\n",
      "  \"\"\"\n",
      "C:\\Users\\boss\\Anaconda3\\lib\\site-packages\\pandas\\core\\indexing.py:189: SettingWithCopyWarning: \n",
      "A value is trying to be set on a copy of a slice from a DataFrame\n",
      "\n",
      "See the caveats in the documentation: http://pandas.pydata.org/pandas-docs/stable/indexing.html#indexing-view-versus-copy\n",
      "  self._setitem_with_indexer(indexer, value)\n"
     ]
    }
   ],
   "source": [
    "for i in range(bts_rnc.shape[0]): # будем перебирать контексты\n",
    "    lemmatized_list = []\n",
    "    for token in simple_word_tokenize(bts_rnc['context'][i]):\n",
    "        lemmatized_list.append(morph.parse(token)[0].normal_form)\n",
    "    bts_rnc[\"lem_context\"][i] = \" \".join(lemmatized_list)"
   ]
  },
  {
   "cell_type": "code",
   "execution_count": 14,
   "metadata": {},
   "outputs": [],
   "source": [
    "bts_rnc.to_csv(\"C:\\\\Users\\\\boss\\\\Documents\\\\Diploma\\\\russe-wsi-kit\\\\preprocessed\\\\bts_rnc.csv\", \"\\t\", encoding=\"utf-8\", index=False)"
   ]
  },
  {
   "cell_type": "code",
   "execution_count": null,
   "metadata": {},
   "outputs": [],
   "source": []
  }
 ],
 "metadata": {
  "kernelspec": {
   "display_name": "Python 3",
   "language": "python",
   "name": "python3"
  },
  "language_info": {
   "codemirror_mode": {
    "name": "ipython",
    "version": 3
   },
   "file_extension": ".py",
   "mimetype": "text/x-python",
   "name": "python",
   "nbconvert_exporter": "python",
   "pygments_lexer": "ipython3",
   "version": "3.7.1"
  }
 },
 "nbformat": 4,
 "nbformat_minor": 2
}
