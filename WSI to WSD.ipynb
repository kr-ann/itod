{
 "cells": [
  {
   "cell_type": "markdown",
   "metadata": {},
   "source": [
    "# WSI to WSD: соотнесение выделенных кластеров со словарными определениями "
   ]
  },
  {
   "cell_type": "markdown",
   "metadata": {},
   "source": [
    "## 1. Часть датасета RUSSE "
   ]
  },
  {
   "cell_type": "code",
   "execution_count": 1,
   "metadata": {},
   "outputs": [],
   "source": [
    "import pandas"
   ]
  },
  {
   "cell_type": "code",
   "execution_count": null,
   "metadata": {},
   "outputs": [],
   "source": [
    "# перенести сюда часть с формированием этого датасета (из RUSSE_ALL)"
   ]
  },
  {
   "cell_type": "code",
   "execution_count": 2,
   "metadata": {},
   "outputs": [],
   "source": [
    "merged = pandas.read_csv(\"C:\\\\Users\\\\boss\\\\Documents\\\\Diploma\\\\russe-wsi-kit\\\\preprocessed\\\\merged_df.csv\", \n",
    "                         \"\\t\", encoding=\"utf-8\")"
   ]
  },
  {
   "cell_type": "code",
   "execution_count": 3,
   "metadata": {},
   "outputs": [
    {
     "data": {
      "text/plain": [
       "(3160, 8)"
      ]
     },
     "execution_count": 3,
     "metadata": {},
     "output_type": "execute_result"
    }
   ],
   "source": [
    "merged.shape"
   ]
  },
  {
   "cell_type": "code",
   "execution_count": 4,
   "metadata": {},
   "outputs": [
    {
     "data": {
      "text/html": [
       "<div>\n",
       "<style scoped>\n",
       "    .dataframe tbody tr th:only-of-type {\n",
       "        vertical-align: middle;\n",
       "    }\n",
       "\n",
       "    .dataframe tbody tr th {\n",
       "        vertical-align: top;\n",
       "    }\n",
       "\n",
       "    .dataframe thead th {\n",
       "        text-align: right;\n",
       "    }\n",
       "</style>\n",
       "<table border=\"1\" class=\"dataframe\">\n",
       "  <thead>\n",
       "    <tr style=\"text-align: right;\">\n",
       "      <th></th>\n",
       "      <th>context_id</th>\n",
       "      <th>word</th>\n",
       "      <th>gold_sense_id</th>\n",
       "      <th>predict_sense_id</th>\n",
       "      <th>positions</th>\n",
       "      <th>context</th>\n",
       "      <th>lem_context</th>\n",
       "      <th>source</th>\n",
       "    </tr>\n",
       "  </thead>\n",
       "  <tbody>\n",
       "    <tr>\n",
       "      <th>0</th>\n",
       "      <td>1113</td>\n",
       "      <td>лавка</td>\n",
       "      <td>1</td>\n",
       "      <td>NaN</td>\n",
       "      <td>71-75</td>\n",
       "      <td>забегал перед ней, засуетился, потом упал на к...</td>\n",
       "      <td>забегать перед она , засуетиться , потом упаст...</td>\n",
       "      <td>bts_rnc</td>\n",
       "    </tr>\n",
       "    <tr>\n",
       "      <th>1</th>\n",
       "      <td>1114</td>\n",
       "      <td>лавка</td>\n",
       "      <td>1</td>\n",
       "      <td>NaN</td>\n",
       "      <td>72-76</td>\n",
       "      <td>весь матч Знарок стоит на скамейке запасных пе...</td>\n",
       "      <td>весь матч знарка стоить на скамейка запасный п...</td>\n",
       "      <td>bts_rnc</td>\n",
       "    </tr>\n",
       "    <tr>\n",
       "      <th>2</th>\n",
       "      <td>1115</td>\n",
       "      <td>лавка</td>\n",
       "      <td>1</td>\n",
       "      <td>NaN</td>\n",
       "      <td>68-73</td>\n",
       "      <td>просто не умеют разыгрывать лишнего. Они же в ...</td>\n",
       "      <td>просто не уметь разыгрывать лишний . они же в ...</td>\n",
       "      <td>bts_rnc</td>\n",
       "    </tr>\n",
       "    <tr>\n",
       "      <th>3</th>\n",
       "      <td>1116</td>\n",
       "      <td>лавка</td>\n",
       "      <td>1</td>\n",
       "      <td>NaN</td>\n",
       "      <td>68-72</td>\n",
       "      <td>те сдохнуть! Ин подь сюда! Вывел её на улицу, ...</td>\n",
       "      <td>тот сдохнуть ! ин подь сюда ! вывести её на ул...</td>\n",
       "      <td>bts_rnc</td>\n",
       "    </tr>\n",
       "    <tr>\n",
       "      <th>4</th>\n",
       "      <td>1117</td>\n",
       "      <td>лавка</td>\n",
       "      <td>1</td>\n",
       "      <td>NaN</td>\n",
       "      <td>85-89</td>\n",
       "      <td>жилищ соответствовала и вся прочая обстановка:...</td>\n",
       "      <td>жилища соответствовать и весь прочий обстановк...</td>\n",
       "      <td>bts_rnc</td>\n",
       "    </tr>\n",
       "  </tbody>\n",
       "</table>\n",
       "</div>"
      ],
      "text/plain": [
       "   context_id   word  gold_sense_id  predict_sense_id positions  \\\n",
       "0        1113  лавка              1               NaN     71-75   \n",
       "1        1114  лавка              1               NaN     72-76   \n",
       "2        1115  лавка              1               NaN     68-73   \n",
       "3        1116  лавка              1               NaN     68-72   \n",
       "4        1117  лавка              1               NaN     85-89   \n",
       "\n",
       "                                             context  \\\n",
       "0  забегал перед ней, засуетился, потом упал на к...   \n",
       "1  весь матч Знарок стоит на скамейке запасных пе...   \n",
       "2  просто не умеют разыгрывать лишнего. Они же в ...   \n",
       "3  те сдохнуть! Ин подь сюда! Вывел её на улицу, ...   \n",
       "4  жилищ соответствовала и вся прочая обстановка:...   \n",
       "\n",
       "                                         lem_context   source  \n",
       "0  забегать перед она , засуетиться , потом упаст...  bts_rnc  \n",
       "1  весь матч знарка стоить на скамейка запасный п...  bts_rnc  \n",
       "2  просто не уметь разыгрывать лишний . они же в ...  bts_rnc  \n",
       "3  тот сдохнуть ! ин подь сюда ! вывести её на ул...  bts_rnc  \n",
       "4  жилища соответствовать и весь прочий обстановк...  bts_rnc  "
      ]
     },
     "execution_count": 4,
     "metadata": {},
     "output_type": "execute_result"
    }
   ],
   "source": [
    "# это датафрейм, в котором находятся слова и контексты, с которыми мы работаем\n",
    "merged.head()"
   ]
  },
  {
   "cell_type": "code",
   "execution_count": 5,
   "metadata": {},
   "outputs": [],
   "source": [
    "words_dict = dict()\n",
    "\n",
    "for word in merged[\"word\"]:\n",
    "    if word not in words_dict:\n",
    "        words_dict.setdefault(word, set())\n",
    "\n",
    "for target_word in words_dict:\n",
    "    for sense_id in merged[merged.word == target_word][\"gold_sense_id\"]:\n",
    "        words_dict[target_word].add(sense_id)"
   ]
  },
  {
   "cell_type": "code",
   "execution_count": 6,
   "metadata": {},
   "outputs": [],
   "source": [
    "# преобразуем set'ы в листы, чтобы был определнённый порядок, и сортируем по возрастанию\n",
    "for word in words_dict:\n",
    "    words_dict[word] = sorted(list(words_dict[word]))"
   ]
  },
  {
   "cell_type": "code",
   "execution_count": 7,
   "metadata": {},
   "outputs": [
    {
     "data": {
      "text/plain": [
       "{'лавка': [1, 2],\n",
       " 'замок': [1, 2],\n",
       " 'винт': [1, 2],\n",
       " 'лук': [1, 2],\n",
       " 'суда': [1, 2],\n",
       " 'дисциплина': [1, 2],\n",
       " 'корона': [1, 2],\n",
       " 'кран': [1, 2],\n",
       " 'летопись': [1, 2],\n",
       " 'балка': [1, 2],\n",
       " 'вид': [1, 5],\n",
       " 'горн': [1, 3],\n",
       " 'жаба': [1, 4],\n",
       " 'клетка': [1, 4],\n",
       " 'курица': [1, 2],\n",
       " 'мишень': [1, 2],\n",
       " 'пост': [1, 2],\n",
       " 'проказа': [1, 2],\n",
       " 'пропасть': [1, 2],\n",
       " 'пытка': [1, 2],\n",
       " 'рысь': [1, 2],\n",
       " 'среда': [2, 3, 4],\n",
       " 'штамп': [1, 4]}"
      ]
     },
     "execution_count": 7,
     "metadata": {},
     "output_type": "execute_result"
    }
   ],
   "source": [
    "# какие значения у каждого слова\n",
    "words_dict"
   ]
  },
  {
   "cell_type": "code",
   "execution_count": 8,
   "metadata": {
    "scrolled": true
   },
   "outputs": [
    {
     "name": "stdout",
     "output_type": "stream",
     "text": [
      "лавка [92, 147]\n",
      "замок [146, 83]\n",
      "винт [253, 264]\n",
      "лук [65, 45]\n",
      "суда [100, 35]\n",
      "дисциплина [30, 64]\n",
      "корона [48, 23]\n",
      "кран [33, 61]\n",
      "летопись [70, 25]\n",
      "балка [81, 38]\n",
      "вид [38, 36]\n",
      "горн [20, 30]\n",
      "жаба [79, 27]\n",
      "клетка [38, 96]\n",
      "курица [62, 31]\n",
      "мишень [88, 33]\n",
      "пост [32, 98]\n",
      "проказа [95, 51]\n",
      "пропасть [92, 25]\n",
      "пытка [116, 27]\n",
      "рысь [82, 38]\n",
      "среда [32, 47, 52]\n",
      "штамп [45, 47]\n"
     ]
    },
    {
     "name": "stderr",
     "output_type": "stream",
     "text": [
      "C:\\Users\\boss\\Anaconda3\\lib\\site-packages\\ipykernel_launcher.py:3: UserWarning: Boolean Series key will be reindexed to match DataFrame index.\n",
      "  This is separate from the ipykernel package so we can avoid doing imports until\n"
     ]
    }
   ],
   "source": [
    "# посмотрим, сколько контекстов на каждое значение\n",
    "for word in words_dict:\n",
    "    print(word, [len(merged[merged.word == word][merged.gold_sense_id == gold]) for gold in words_dict[word]])"
   ]
  },
  {
   "cell_type": "markdown",
   "metadata": {},
   "source": [
    "## 2. Датасеты с некоторым количеством ошибок "
   ]
  },
  {
   "cell_type": "code",
   "execution_count": 13,
   "metadata": {},
   "outputs": [],
   "source": [
    "import numpy as np"
   ]
  },
  {
   "cell_type": "code",
   "execution_count": 14,
   "metadata": {},
   "outputs": [],
   "source": [
    "def create_errors_df(df, percent):\n",
    "    \"\"\"\n",
    "    Возвращает датафрейм, в конец которого для каждого значения добавлены неправильные контексты - \n",
    "    контексты из других значений этого слова, у которых gold_sense_id заменено.\n",
    "    Добавляем столько, чтобы в получившемся датафрейме содержался заданный процент ошибок.\n",
    "    \"\"\"\n",
    "    \n",
    "    df_to_return = df\n",
    "    for word in words_dict:\n",
    "        \n",
    "        # количество контекстов для каждого из значений, напр [92, 25]\n",
    "        list_with_num_of_contexts = [len(df[df.word == word][df.gold_sense_id == gold]) for gold in words_dict[word]] \n",
    "        \n",
    "        # сколько неправильных контекстов (из других значений) нам нужно добавить, чтобы был необходимый процент ошибки\n",
    "        list_with_num_of_contexts_from_other = []\n",
    "        for num in list_with_num_of_contexts:\n",
    "            list_with_num_of_contexts_from_other.append(round( (num/(1-percent)) - num ))\n",
    "        \n",
    "        # теперь в конец df_to_return будем для каждого из значений добавлять опр количество \n",
    "        # рандомных строк из других значений, заменяя там gold_sense_id\n",
    "        for i, sense in enumerate(words_dict[word]):\n",
    "            num_of_new = list_with_num_of_contexts_from_other[i]\n",
    "            \n",
    "            # если нужно добавить больше контекстов, чем есть в другом (других) значениях\n",
    "            if num_of_new > sum(list_with_num_of_contexts) - list_with_num_of_contexts[i]:\n",
    "                # тогда сначала смотрим, насколько больше (в разы)\n",
    "                how_many_times = num_of_new // ( sum(list_with_num_of_contexts) - list_with_num_of_contexts[i] )\n",
    "                # выведем слова, для которых разница слишком большая\n",
    "                if how_many_times >= 2:\n",
    "                    print(word)\n",
    "                \n",
    "                # датафрейм с контекстами всех остальных значений\n",
    "                other_contexts = df[df.word == word].drop(df[df.word == word][df.gold_sense_id == sense].index) \n",
    "                other_contexts[\"gold_sense_id\"] = np.array(sense)\n",
    "                \n",
    "                # теперь добавим other_contexts в конец нашего датафрейма how_many_times раз\n",
    "                for k in range(how_many_times):\n",
    "                    df_to_return = pandas.concat((df_to_return, other_contexts))\n",
    "                \n",
    "                # сколько ещё осталось добавить\n",
    "                num_of_new = num_of_new - other_contexts.shape[0] * how_many_times\n",
    "\n",
    "                # вот теперь берём рандомные\n",
    "                random = other_contexts.sample(num_of_new)\n",
    "                df_to_return = pandas.concat((df_to_return, random))\n",
    "                \n",
    "            else:\n",
    "                other_contexts = df[df.word == word].drop(df[df.word == word][df.gold_sense_id == sense].index)\n",
    "                # теперь отсюда нужно выбрать num_of_new рандомных строк, заменить в них gold_sense_id на sesne\n",
    "                # и добавить полученный датафрейм в конец df\n",
    "                random = other_contexts.sample(num_of_new)\n",
    "                random[\"gold_sense_id\"] = np.array(sense)\n",
    "                df_to_return = pandas.concat((df_to_return, random))\n",
    "        \n",
    "    return df_to_return"
   ]
  },
  {
   "cell_type": "code",
   "execution_count": 15,
   "metadata": {},
   "outputs": [
    {
     "name": "stderr",
     "output_type": "stream",
     "text": [
      "C:\\Users\\boss\\Anaconda3\\lib\\site-packages\\ipykernel_launcher.py:12: UserWarning: Boolean Series key will be reindexed to match DataFrame index.\n",
      "  if sys.path[0] == '':\n",
      "C:\\Users\\boss\\Anaconda3\\lib\\site-packages\\ipykernel_launcher.py:48: UserWarning: Boolean Series key will be reindexed to match DataFrame index.\n"
     ]
    },
    {
     "data": {
      "text/plain": [
       "(3511, 8)"
      ]
     },
     "execution_count": 15,
     "metadata": {},
     "output_type": "execute_result"
    }
   ],
   "source": [
    "df_with_10_errors = create_errors_df(merged, 0.1)\n",
    "df_with_10_errors.shape"
   ]
  },
  {
   "cell_type": "code",
   "execution_count": 16,
   "metadata": {},
   "outputs": [
    {
     "name": "stderr",
     "output_type": "stream",
     "text": [
      "C:\\Users\\boss\\Anaconda3\\lib\\site-packages\\ipykernel_launcher.py:12: UserWarning: Boolean Series key will be reindexed to match DataFrame index.\n",
      "  if sys.path[0] == '':\n",
      "C:\\Users\\boss\\Anaconda3\\lib\\site-packages\\ipykernel_launcher.py:48: UserWarning: Boolean Series key will be reindexed to match DataFrame index.\n",
      "C:\\Users\\boss\\Anaconda3\\lib\\site-packages\\ipykernel_launcher.py:33: UserWarning: Boolean Series key will be reindexed to match DataFrame index.\n"
     ]
    },
    {
     "name": "stdout",
     "output_type": "stream",
     "text": [
      "пост\n",
      "пропасть\n",
      "пытка\n"
     ]
    },
    {
     "data": {
      "text/plain": [
       "(5264, 8)"
      ]
     },
     "execution_count": 16,
     "metadata": {},
     "output_type": "execute_result"
    }
   ],
   "source": [
    "df_with_20_errors = create_errors_df(merged, 0.2)\n",
    "df_with_30_errors = create_errors_df(merged, 0.3)\n",
    "df_with_40_errors = create_errors_df(merged, 0.4)\n",
    "df_with_40_errors.shape # на 40% проверяли, правильно работает - йеп\n",
    "# выводятся слова, для которых разница между количеством контекстов в значениях слишком большая (больше, чем в два раза)"
   ]
  },
  {
   "cell_type": "code",
   "execution_count": 17,
   "metadata": {},
   "outputs": [],
   "source": [
    "path_to_write = \"C:\\\\Users\\\\boss\\\\Documents\\\\Diploma\\\\russe-wsi-kit\\\\preprocessed\\\\\""
   ]
  },
  {
   "cell_type": "code",
   "execution_count": null,
   "metadata": {},
   "outputs": [],
   "source": [
    "# в новых датафреймах индексы идут не подряд, а некотрые повторяются. Чтобы от этого избавиться, запишем в csv и считаем заново\n",
    "df_with_10_errors.to_csv(path_to_write + \"10_errors.csv\", \"\\t\", encoding=\"utf-8\", index=False)\n",
    "df_with_20_errors.to_csv(path_to_write + \"20_errors.csv\", \"\\t\", encoding=\"utf-8\", index=False)\n",
    "df_with_30_errors.to_csv(path_to_write + \"30_errors.csv\", \"\\t\", encoding=\"utf-8\", index=False)\n",
    "df_with_40_errors.to_csv(path_to_write + \"40_errors.csv\", \"\\t\", encoding=\"utf-8\", index=False)"
   ]
  },
  {
   "cell_type": "code",
   "execution_count": 18,
   "metadata": {},
   "outputs": [],
   "source": [
    "df_with_10_errors = pandas.read_csv(path_to_write + \"10_errors.csv\", \"\\t\", encoding=\"utf-8\")\n",
    "df_with_20_errors = pandas.read_csv(path_to_write + \"20_errors.csv\", \"\\t\", encoding=\"utf-8\")\n",
    "df_with_30_errors = pandas.read_csv(path_to_write + \"30_errors.csv\", \"\\t\", encoding=\"utf-8\")\n",
    "df_with_40_errors = pandas.read_csv(path_to_write + \"40_errors.csv\", \"\\t\", encoding=\"utf-8\")"
   ]
  },
  {
   "cell_type": "markdown",
   "metadata": {},
   "source": [
    "## 3. В датасетах - идеальном и четырёх с ошибкой - для каждого значения выделяем ключевые слова"
   ]
  },
  {
   "cell_type": "code",
   "execution_count": 19,
   "metadata": {},
   "outputs": [],
   "source": [
    "from nltk.probability import FreqDist\n",
    "import collections\n",
    "import codecs"
   ]
  },
  {
   "cell_type": "code",
   "execution_count": 20,
   "metadata": {},
   "outputs": [],
   "source": [
    "def get_words_contexts_dict(df): # {\"target_word\":{1:\"все лем контексты\", 2:\"все лем контексты\"}, \"target_word2\": ...}\n",
    "    dict_to_return = dict()\n",
    "    for word in words_dict:\n",
    "        senses = words_dict[word]\n",
    "        dict_to_return[word] = dict()\n",
    "        for sense in senses:\n",
    "            dict_to_return[word][sense] = \"\\n\".join(list(df[df.word == word][df.gold_sense_id == sense][\"lem_context\"]))\n",
    "    return dict_to_return"
   ]
  },
  {
   "cell_type": "code",
   "execution_count": 21,
   "metadata": {},
   "outputs": [
    {
     "name": "stderr",
     "output_type": "stream",
     "text": [
      "C:\\Users\\boss\\Anaconda3\\lib\\site-packages\\ipykernel_launcher.py:7: UserWarning: Boolean Series key will be reindexed to match DataFrame index.\n",
      "  import sys\n"
     ]
    }
   ],
   "source": [
    "perfect_df = get_words_contexts_dict(merged)\n",
    "errors_10 = get_words_contexts_dict(df_with_10_errors)\n",
    "errors_20 = get_words_contexts_dict(df_with_20_errors)\n",
    "errors_30 = get_words_contexts_dict(df_with_30_errors)\n",
    "errors_40 = get_words_contexts_dict(df_with_40_errors)"
   ]
  },
  {
   "cell_type": "code",
   "execution_count": 22,
   "metadata": {},
   "outputs": [],
   "source": [
    "def get_freq_dist(words_contexts_dict): # {\"target_word\":{1:распределение частот слов, 2:распределение}, \"target_word2\": ...}\n",
    "    dist_to_return = dict()\n",
    "    for word in words_contexts_dict:\n",
    "        dist_to_return[word] = dict()\n",
    "        for sense in words_contexts_dict[word]:\n",
    "            dist_to_return[word][sense] = FreqDist(words_contexts_dict[word][sense].split())\n",
    "    return dist_to_return"
   ]
  },
  {
   "cell_type": "code",
   "execution_count": 23,
   "metadata": {},
   "outputs": [],
   "source": [
    "fdist_perf = get_freq_dist(perfect_df)\n",
    "fdist_10 = get_freq_dist(errors_10)\n",
    "fdist_20 = get_freq_dist(errors_20)\n",
    "fdist_30 = get_freq_dist(errors_30)\n",
    "fdist_40 = get_freq_dist(errors_40)"
   ]
  },
  {
   "cell_type": "code",
   "execution_count": 24,
   "metadata": {},
   "outputs": [],
   "source": [
    "stw_file = \"C:\\\\Users\\\\boss\\\\Documents\\\\Diploma\\\\my_stopwords.txt\"\n",
    "with codecs.open(stw_file, encoding = 'utf-8') as f:\n",
    "    stw_set = set(f.read().split())"
   ]
  },
  {
   "cell_type": "code",
   "execution_count": 25,
   "metadata": {},
   "outputs": [],
   "source": [
    "def get_dist_wo_stopwords(fdist_dict): # создадим словарь с распределением частот слов, но без стоп-слов\n",
    "    dist_to_return = dict()\n",
    "    for target_word in fdist_dict:\n",
    "        dist_to_return[target_word] = dict()\n",
    "        for sense in fdist_dict[target_word]:\n",
    "            dist_to_return[target_word][sense] = dict()\n",
    "            fdist_for_sense = fdist_dict[target_word][sense]\n",
    "            for word in fdist_for_sense:\n",
    "                if word in stw_set: # если слово в списке стоп слов\n",
    "                    pass\n",
    "                elif True in set(char in set(list(\"1234567890\")) for char in word): # если в слове содержится цифра\n",
    "                    pass\n",
    "                elif True in set(char in set(list(\"abcdefghijklmnopqrstuvwxyz\")) for char in word): # если латинские буквы\n",
    "                    pass\n",
    "                else:\n",
    "                    dist_to_return[target_word][sense][word] = fdist_for_sense[word]\n",
    "    return dist_to_return"
   ]
  },
  {
   "cell_type": "code",
   "execution_count": 26,
   "metadata": {},
   "outputs": [],
   "source": [
    "fdist_perf_wo_stopwords = get_dist_wo_stopwords(fdist_perf)\n",
    "fdist_10_wo_stopwords = get_dist_wo_stopwords(fdist_10)\n",
    "fdist_20_wo_stopwords = get_dist_wo_stopwords(fdist_20)\n",
    "fdist_30_wo_stopwords = get_dist_wo_stopwords(fdist_30)\n",
    "fdist_40_wo_stopwords = get_dist_wo_stopwords(fdist_40)"
   ]
  },
  {
   "cell_type": "code",
   "execution_count": 255,
   "metadata": {},
   "outputs": [],
   "source": [
    "def get_most_frequent_words_per_sense(dist_wo_stopwords, n=20): # словарь, в котором для каждого значения n самых частотных слов\n",
    "    dict_to_return = dict()\n",
    "\n",
    "    for target_word in dist_wo_stopwords:\n",
    "        dict_to_return[target_word] = dict()\n",
    "        for sense in dist_wo_stopwords[target_word]: \n",
    "            dict_per_sense = dist_wo_stopwords[target_word][sense]\n",
    "            sorted_dict_per_sense = collections.OrderedDict(sorted(dict_per_sense.items(), key=lambda kv: kv[1], \n",
    "                                                                   reverse=True)[:n])\n",
    "            dict_to_return[target_word][sense] = sorted_dict_per_sense\n",
    "    return dict_to_return"
   ]
  },
  {
   "cell_type": "code",
   "execution_count": 28,
   "metadata": {},
   "outputs": [],
   "source": [
    "most_frequent_perfect = get_most_frequent_words_per_sense(fdist_perf_wo_stopwords)\n",
    "most_frequent_10_errors = get_most_frequent_words_per_sense(fdist_10_wo_stopwords)\n",
    "most_frequent_20_errors = get_most_frequent_words_per_sense(fdist_20_wo_stopwords)\n",
    "most_frequent_30_errors = get_most_frequent_words_per_sense(fdist_30_wo_stopwords)\n",
    "most_frequent_40_errors = get_most_frequent_words_per_sense(fdist_40_wo_stopwords)"
   ]
  },
  {
   "cell_type": "code",
   "execution_count": 238,
   "metadata": {
    "collapsed": true
   },
   "outputs": [
    {
     "data": {
      "text/plain": [
       "{1: OrderedDict([('дисциплина', 33),\n",
       "              ('процесс', 5),\n",
       "              ('необходимый', 5),\n",
       "              ('год', 5),\n",
       "              ('волос', 5),\n",
       "              ('жизнь', 4),\n",
       "              ('должный', 4),\n",
       "              ('учебный', 3),\n",
       "              ('правонарушение', 3),\n",
       "              ('работа', 3),\n",
       "              ('служебный', 3),\n",
       "              ('строгий', 3),\n",
       "              ('человек', 3),\n",
       "              ('труд', 3),\n",
       "              ('трудовой', 3),\n",
       "              ('инструкция', 3),\n",
       "              ('нарушение', 2),\n",
       "              ('особенность', 2),\n",
       "              ('экономика', 2),\n",
       "              ('уровень', 2)]),\n",
       " 2: OrderedDict([('дисциплина', 77),\n",
       "              ('учебный', 9),\n",
       "              ('работа', 8),\n",
       "              ('изучение', 7),\n",
       "              ('математика', 7),\n",
       "              ('год', 7),\n",
       "              ('специальность', 6),\n",
       "              ('программа', 6),\n",
       "              ('преподаватель', 6),\n",
       "              ('наука', 6),\n",
       "              ('научный', 6),\n",
       "              ('кафедра', 5),\n",
       "              ('методический', 5),\n",
       "              ('теория', 5),\n",
       "              ('основа', 5),\n",
       "              ('ребёнок', 4),\n",
       "              ('теоретический', 4),\n",
       "              ('обучение', 4),\n",
       "              ('студент', 4),\n",
       "              ('рамка', 4)])}"
      ]
     },
     "execution_count": 238,
     "metadata": {},
     "output_type": "execute_result"
    }
   ],
   "source": [
    "most_frequent_10_errors[\"дисциплина\"]"
   ]
  },
  {
   "cell_type": "code",
   "execution_count": 256,
   "metadata": {},
   "outputs": [],
   "source": [
    "ten_most_frequent_perfect = get_most_frequent_words_per_sense(fdist_perf_wo_stopwords, n=10)\n",
    "ten_most_frequent_10_errors = get_most_frequent_words_per_sense(fdist_10_wo_stopwords, n=10)\n",
    "ten_most_frequent_20_errors = get_most_frequent_words_per_sense(fdist_20_wo_stopwords, n=10)\n",
    "ten_most_frequent_30_errors = get_most_frequent_words_per_sense(fdist_30_wo_stopwords, n=10)\n",
    "ten_most_frequent_40_errors = get_most_frequent_words_per_sense(fdist_40_wo_stopwords, n=10)"
   ]
  },
  {
   "cell_type": "code",
   "execution_count": 257,
   "metadata": {
    "collapsed": true
   },
   "outputs": [
    {
     "data": {
      "text/plain": [
       "{1: OrderedDict([('дисциплина', 33),\n",
       "              ('процесс', 5),\n",
       "              ('необходимый', 5),\n",
       "              ('год', 5),\n",
       "              ('волос', 5),\n",
       "              ('жизнь', 4),\n",
       "              ('должный', 4),\n",
       "              ('учебный', 3),\n",
       "              ('правонарушение', 3),\n",
       "              ('работа', 3)]),\n",
       " 2: OrderedDict([('дисциплина', 77),\n",
       "              ('учебный', 9),\n",
       "              ('работа', 8),\n",
       "              ('изучение', 7),\n",
       "              ('математика', 7),\n",
       "              ('год', 7),\n",
       "              ('специальность', 6),\n",
       "              ('программа', 6),\n",
       "              ('преподаватель', 6),\n",
       "              ('наука', 6)])}"
      ]
     },
     "execution_count": 257,
     "metadata": {},
     "output_type": "execute_result"
    }
   ],
   "source": [
    "ten_most_frequent_10_errors[\"дисциплина\"]"
   ]
  },
  {
   "cell_type": "code",
   "execution_count": 267,
   "metadata": {},
   "outputs": [],
   "source": [
    "thirty_most_frequent_perfect = get_most_frequent_words_per_sense(fdist_perf_wo_stopwords, n=30)\n",
    "thirty_most_frequent_10_errors = get_most_frequent_words_per_sense(fdist_10_wo_stopwords, n=30)\n",
    "thirty_most_frequent_20_errors = get_most_frequent_words_per_sense(fdist_20_wo_stopwords, n=30)\n",
    "thirty_most_frequent_30_errors = get_most_frequent_words_per_sense(fdist_30_wo_stopwords, n=30)\n",
    "thirty_most_frequent_40_errors = get_most_frequent_words_per_sense(fdist_40_wo_stopwords, n=30)"
   ]
  },
  {
   "cell_type": "markdown",
   "metadata": {},
   "source": [
    "## 4. Из ключевых слов оставляем только хорошие по косинусу "
   ]
  },
  {
   "cell_type": "code",
   "execution_count": 30,
   "metadata": {},
   "outputs": [
    {
     "name": "stderr",
     "output_type": "stream",
     "text": [
      "C:\\Users\\boss\\Anaconda3\\lib\\site-packages\\smart_open\\ssh.py:34: UserWarning: paramiko missing, opening SSH/SCP/SFTP paths will be disabled.  `pip install paramiko` to suppress\n",
      "  warnings.warn('paramiko missing, opening SSH/SCP/SFTP paths will be disabled.  `pip install paramiko` to suppress')\n"
     ]
    }
   ],
   "source": [
    "import zipfile\n",
    "import gensim\n",
    "from sklearn.metrics.pairwise import cosine_similarity as cos\n",
    "import pymorphy2\n",
    "import copy\n",
    "morph = pymorphy2.MorphAnalyzer()"
   ]
  },
  {
   "cell_type": "code",
   "execution_count": 31,
   "metadata": {},
   "outputs": [],
   "source": [
    "model_file = \"C:\\\\Users\\\\boss\\\\Documents\\\\Diploma\\\\182.zip\"\n",
    "with zipfile.ZipFile(model_file, 'r') as archive:\n",
    "    stream = archive.open('model.bin')\n",
    "    model_skipgram = gensim.models.KeyedVectors.load_word2vec_format(stream, binary=True)"
   ]
  },
  {
   "cell_type": "code",
   "execution_count": 32,
   "metadata": {},
   "outputs": [],
   "source": [
    "def get_dict_with_words_per_sense(dict_with_word_frequencies):\n",
    "    dict_to_return = dict()\n",
    "    for target_word in dict_with_word_frequencies:\n",
    "        dict_to_return[target_word] = dict()\n",
    "        for sense in dict_with_word_frequencies[target_word]:\n",
    "            ordered_dict = dict_with_word_frequencies[target_word][sense]\n",
    "            dict_to_return[target_word][sense] = [word for word in ordered_dict]\n",
    "    \n",
    "    return dict_to_return"
   ]
  },
  {
   "cell_type": "code",
   "execution_count": 33,
   "metadata": {},
   "outputs": [],
   "source": [
    "dict_with_words_per_sense_perfect = get_dict_with_words_per_sense(most_frequent_perfect)\n",
    "dict_with_words_per_sense_10_errors = get_dict_with_words_per_sense(most_frequent_10_errors)\n",
    "dict_with_words_per_sense_20_errors = get_dict_with_words_per_sense(most_frequent_20_errors)\n",
    "dict_with_words_per_sense_30_errors = get_dict_with_words_per_sense(most_frequent_30_errors)\n",
    "dict_with_words_per_sense_40_errors = get_dict_with_words_per_sense(most_frequent_40_errors)"
   ]
  },
  {
   "cell_type": "code",
   "execution_count": 258,
   "metadata": {},
   "outputs": [],
   "source": [
    "dict_with_ten_words_per_sense_perfect = get_dict_with_words_per_sense(ten_most_frequent_perfect)\n",
    "dict_with_ten_words_per_sense_10_errors = get_dict_with_words_per_sense(ten_most_frequent_10_errors)\n",
    "dict_with_ten_words_per_sense_20_errors = get_dict_with_words_per_sense(ten_most_frequent_20_errors)\n",
    "dict_with_ten_words_per_sense_30_errors = get_dict_with_words_per_sense(ten_most_frequent_30_errors)\n",
    "dict_with_ten_words_per_sense_40_errors = get_dict_with_words_per_sense(ten_most_frequent_40_errors)"
   ]
  },
  {
   "cell_type": "code",
   "execution_count": 268,
   "metadata": {},
   "outputs": [],
   "source": [
    "dict_with_thirty_words_per_sense_perfect = get_dict_with_words_per_sense(thirty_most_frequent_perfect)\n",
    "dict_with_thirty_words_per_sense_10_errors = get_dict_with_words_per_sense(thirty_most_frequent_10_errors)\n",
    "dict_with_thirty_words_per_sense_20_errors = get_dict_with_words_per_sense(thirty_most_frequent_20_errors)\n",
    "dict_with_thirty_words_per_sense_30_errors = get_dict_with_words_per_sense(thirty_most_frequent_30_errors)\n",
    "dict_with_thirty_words_per_sense_40_errors = get_dict_with_words_per_sense(thirty_most_frequent_40_errors)"
   ]
  },
  {
   "cell_type": "code",
   "execution_count": 34,
   "metadata": {},
   "outputs": [],
   "source": [
    "def return_pymorphy_pos(word):\n",
    "    p = morph.parse(word)[0]\n",
    "    if \"INFN\" in p.tag:\n",
    "        pos = \"VERB\"\n",
    "    elif \"ADJF\" in p.tag:\n",
    "        pos = \"ADJ\"\n",
    "    elif \"ADVB\" in p.tag:\n",
    "        pos = \"ADV\"\n",
    "    else:\n",
    "        pos = str(p.tag.POS)\n",
    "    return word + \"_\" + pos # ! не p.normal_form, потому что это уже нормализованные тексты"
   ]
  },
  {
   "cell_type": "code",
   "execution_count": 35,
   "metadata": {},
   "outputs": [],
   "source": [
    "def get_dict_with_enhanced_pymorphy_pos(dict_with_words_per_sense):\n",
    "    dict_to_retrun = dict()\n",
    "\n",
    "    for target_word in dict_with_words_per_sense:\n",
    "        dict_to_retrun[target_word+\"_NOUN\"] = dict()\n",
    "        for sense in dict_with_words_per_sense[target_word]:\n",
    "            list_with_pos = []\n",
    "            list_of_words_without_target = dict_with_words_per_sense[target_word][sense][1:] # потому что первое слово - целевое\n",
    "            for word in list_of_words_without_target:\n",
    "                list_with_pos.append(return_pymorphy_pos(word))\n",
    "            dict_to_retrun[target_word+\"_NOUN\"][sense] = list_with_pos\n",
    "    return dict_to_retrun"
   ]
  },
  {
   "cell_type": "code",
   "execution_count": 38,
   "metadata": {},
   "outputs": [],
   "source": [
    "pos_dict_perfect = get_dict_with_enhanced_pymorphy_pos(dict_with_words_per_sense_perfect)\n",
    "pos_dict_10_errors = get_dict_with_enhanced_pymorphy_pos(dict_with_words_per_sense_10_errors)\n",
    "pos_dict_20_errors = get_dict_with_enhanced_pymorphy_pos(dict_with_words_per_sense_20_errors)\n",
    "pos_dict_30_errors = get_dict_with_enhanced_pymorphy_pos(dict_with_words_per_sense_30_errors)\n",
    "pos_dict_40_errors = get_dict_with_enhanced_pymorphy_pos(dict_with_words_per_sense_40_errors)"
   ]
  },
  {
   "cell_type": "code",
   "execution_count": 259,
   "metadata": {},
   "outputs": [],
   "source": [
    "pos_dict_ten_perfect = get_dict_with_enhanced_pymorphy_pos(dict_with_ten_words_per_sense_perfect)\n",
    "pos_dict_ten_10_errors = get_dict_with_enhanced_pymorphy_pos(dict_with_ten_words_per_sense_10_errors)\n",
    "pos_dict_ten_20_errors = get_dict_with_enhanced_pymorphy_pos(dict_with_ten_words_per_sense_20_errors)\n",
    "pos_dict_ten_30_errors = get_dict_with_enhanced_pymorphy_pos(dict_with_ten_words_per_sense_30_errors)\n",
    "pos_dict_ten_40_errors = get_dict_with_enhanced_pymorphy_pos(dict_with_ten_words_per_sense_40_errors)"
   ]
  },
  {
   "cell_type": "code",
   "execution_count": 269,
   "metadata": {},
   "outputs": [],
   "source": [
    "pos_dict_thirty_perfect = get_dict_with_enhanced_pymorphy_pos(dict_with_thirty_words_per_sense_perfect)\n",
    "pos_dict_thirty_10_errors = get_dict_with_enhanced_pymorphy_pos(dict_with_thirty_words_per_sense_10_errors)\n",
    "pos_dict_thirty_20_errors = get_dict_with_enhanced_pymorphy_pos(dict_with_thirty_words_per_sense_20_errors)\n",
    "pos_dict_thirty_30_errors = get_dict_with_enhanced_pymorphy_pos(dict_with_thirty_words_per_sense_30_errors)\n",
    "pos_dict_thirty_40_errors = get_dict_with_enhanced_pymorphy_pos(dict_with_thirty_words_per_sense_40_errors)"
   ]
  },
  {
   "cell_type": "code",
   "execution_count": 96,
   "metadata": {},
   "outputs": [],
   "source": [
    "class GoodWord(object):\n",
    "    \"\"\"\n",
    "    Класс для набора хороших ключевых слов для определённого значения.\n",
    "    Хорошие - у которых косинус с целевым словом (self.cosine) больше определённого порога. Также тут хранится \n",
    "    найденный для  них w2v вектор, который потом будет нужен для вычисления среднего вектора хороших слов.\n",
    "    \"\"\"\n",
    "    def __init__(self, lemma, pos_word, vec, cosine):\n",
    "        self.lemma = lemma\n",
    "        self.pos_word = pos_word\n",
    "        self.vec = vec\n",
    "        self.cosine = cosine\n",
    "    \n",
    "    def __repr__(self):\n",
    "        return self.lemma"
   ]
  },
  {
   "cell_type": "code",
   "execution_count": 97,
   "metadata": {},
   "outputs": [],
   "source": [
    "def get_dict_with_good_words(dict_with_enhanced_pymorphy_pos, threshold=0.3):\n",
    "\n",
    "    # важно, что в UDPipe и основанной на ней модели W2V вроде бы нет слов с \"ё\", а в ESA они с \"ё\", поэтому здесь\n",
    "    # для получения векторов делаем replace, но сами слова оставляем на будущее с \"ё\"\n",
    "    dict_to_return = dict()\n",
    "\n",
    "    for target_word in dict_with_enhanced_pymorphy_pos:\n",
    "        dict_to_return[target_word] = dict()\n",
    "        try:\n",
    "            target_vector = model_skipgram[target_word].reshape(1,300)\n",
    "        except KeyError: # такого слова нет в словаре. Так как мы просто добавляли к target_word тег NOUN, теперь можем \n",
    "            # попробовать нормализовать слово\n",
    "            normalized = morph.parse(target_word[:target_word.index(\"_\")])[0].normal_form\n",
    "            target_vector = model_skipgram[normalized.replace(\"ё\", \"е\") + \"_NOUN\"].reshape(1,300)\n",
    "            \n",
    "        for sense in dict_with_enhanced_pymorphy_pos[target_word]:\n",
    "            good_list = []\n",
    "            for word in dict_with_enhanced_pymorphy_pos[target_word][sense]:\n",
    "                try:\n",
    "                    word_vector = model_skipgram[word.replace(\"ё\", \"е\")].reshape(1,300)\n",
    "                    c = cos(target_vector,word_vector).tolist()[0][0]\n",
    "                except KeyError:\n",
    "                    c = 0\n",
    "                    # print(word) - выводить те, которых не оказалось в модели W2V\n",
    "                if c >= threshold:\n",
    "                    good_list.append(GoodWord(lemma=word[:word.index(\"_\")], pos_word=word, \n",
    "                                              vec=word_vector, cosine=round(c, 3)))\n",
    "                    \n",
    "            dict_to_return[target_word][sense] = good_list\n",
    "    return dict_to_return"
   ]
  },
  {
   "cell_type": "code",
   "execution_count": 98,
   "metadata": {},
   "outputs": [],
   "source": [
    "good_words_from_perfect = get_dict_with_good_words(pos_dict_perfect) # выводятся те, которых нет в модели W2V\n",
    "good_words_from_10_errors = get_dict_with_good_words(pos_dict_ten_10_errors) \n",
    "good_words_from_20_errors = get_dict_with_good_words(pos_dict_ten_20_errors) \n",
    "good_words_from_30_errors = get_dict_with_good_words(pos_dict_ten_30_errors) \n",
    "good_words_from_40_errors = get_dict_with_good_words(pos_dict_ten_40_errors) "
   ]
  },
  {
   "cell_type": "code",
   "execution_count": 260,
   "metadata": {},
   "outputs": [],
   "source": [
    "ten_good_words_from_perfect = get_dict_with_good_words(pos_dict_ten_perfect) \n",
    "ten_good_words_from_10_errors = get_dict_with_good_words(pos_dict_ten_10_errors) \n",
    "ten_good_words_from_20_errors = get_dict_with_good_words(pos_dict_ten_20_errors) \n",
    "ten_good_words_from_30_errors = get_dict_with_good_words(pos_dict_ten_30_errors) \n",
    "ten_good_words_from_40_errors = get_dict_with_good_words(pos_dict_ten_40_errors) "
   ]
  },
  {
   "cell_type": "code",
   "execution_count": 270,
   "metadata": {},
   "outputs": [],
   "source": [
    "thirty_good_words_from_perfect = get_dict_with_good_words(pos_dict_thirty_perfect) \n",
    "thirty_good_words_from_10_errors = get_dict_with_good_words(pos_dict_thirty_10_errors) \n",
    "thirty_good_words_from_20_errors = get_dict_with_good_words(pos_dict_thirty_20_errors) \n",
    "thirty_good_words_from_30_errors = get_dict_with_good_words(pos_dict_thirty_30_errors) \n",
    "thirty_good_words_from_40_errors = get_dict_with_good_words(pos_dict_thirty_40_errors) "
   ]
  },
  {
   "cell_type": "code",
   "execution_count": 104,
   "metadata": {},
   "outputs": [],
   "source": [
    "def sort_dict_with_good_words(dict_with_good_words): # сортируем попавшие в него хорошие слова по убыванию косинуса\n",
    "    dict_to_return = copy.deepcopy(dict_with_good_words) # нужна глубокая копия, иначе dict_with_good_words сам изменяется\n",
    "    for target_word in dict_to_return:\n",
    "        for sense in dict_to_return[target_word]:\n",
    "            list_for_sense = dict_to_return[target_word][sense]\n",
    "            sorted_list_for_sense = sorted(list_for_sense, key=lambda element: element.cosine, reverse = True)\n",
    "            dict_to_return[target_word][sense] = sorted_list_for_sense\n",
    "    return dict_to_return"
   ]
  },
  {
   "cell_type": "code",
   "execution_count": 178,
   "metadata": {},
   "outputs": [],
   "source": [
    "sorted_good_words_from_perfect = sort_dict_with_good_words(good_words_from_perfect)\n",
    "sorted_good_words_from_10_errors = sort_dict_with_good_words(good_words_from_10_errors)\n",
    "sorted_good_words_from_20_errors = sort_dict_with_good_words(good_words_from_20_errors)\n",
    "sorted_good_words_from_30_errors = sort_dict_with_good_words(good_words_from_30_errors)\n",
    "sorted_good_words_from_40_errors = sort_dict_with_good_words(good_words_from_40_errors)"
   ]
  },
  {
   "cell_type": "code",
   "execution_count": 261,
   "metadata": {},
   "outputs": [],
   "source": [
    "sorted_ten_good_words_from_perfect = sort_dict_with_good_words(ten_good_words_from_perfect)\n",
    "sorted_ten_good_words_from_10_errors = sort_dict_with_good_words(ten_good_words_from_10_errors)\n",
    "sorted_ten_good_words_from_20_errors = sort_dict_with_good_words(ten_good_words_from_20_errors)\n",
    "sorted_ten_good_words_from_30_errors = sort_dict_with_good_words(ten_good_words_from_30_errors)\n",
    "sorted_ten_good_words_from_40_errors = sort_dict_with_good_words(ten_good_words_from_40_errors)"
   ]
  },
  {
   "cell_type": "code",
   "execution_count": 262,
   "metadata": {
    "collapsed": true
   },
   "outputs": [
    {
     "data": {
      "text/plain": [
       "{'лавка_NOUN': {1: [стол, дверь, стена, деревянный, сидеть],\n",
       "  2: [магазин, торговать, дом, улица, книжный, сувенирный]},\n",
       " 'замок_NOUN': {1: [замковый, башня, стена], 2: [замковый, ключ]},\n",
       " 'винт_NOUN': {1: [болт,\n",
       "   гайка,\n",
       "   крепление,\n",
       "   отверстие,\n",
       "   крышка,\n",
       "   головка,\n",
       "   диаметр],\n",
       "  2: [лопасть, двигатель, несущий, гребной, самолёт, вертолёт, машина]},\n",
       " 'лук_NOUN': {1: [стрела, тетива, стрельба, лучник, оружие],\n",
       "  2: [чеснок, луковица, растение, ветвистый]},\n",
       " 'суда_NOUN': {1: [арбитражный, судья, верховный], 2: [судно, корабль, флот]},\n",
       " 'дисциплина_NOUN': {1: [], 2: [наука, учебный, преподаватель, специальность]},\n",
       " 'корона_NOUN': {1: [щит, герб, королевский, золотой, драгоценный],\n",
       "  2: [король]},\n",
       " 'кран_NOUN': {1: [крановый, водопроводный, вода, двигатель, вод, починить],\n",
       "  2: [подъёмный, крановый, башенный, стрела, мостовый]},\n",
       " 'летопись_NOUN': {1: [история, новгородский], 2: [история]},\n",
       " 'балка_NOUN': {1: [крыша, потолочный, деревянный, стена, потолок],\n",
       "  2: [степь, спускаться, леса]},\n",
       " 'вид_NOUN': {1: [глаз], 5: [человек, большой, дух]},\n",
       " 'горн_NOUN': {1: [кузнечный, уголь, огонь, печь, цементация],\n",
       "  3: [барабан, звук]},\n",
       " 'жаба_NOUN': {1: [болото, похожий], 4: [грудной, болезнь]},\n",
       " 'клетка_NOUN': {1: [зверь, человек, живой],\n",
       "  4: [организм, ткань, стволовой, вирус, нервный, днк]},\n",
       " 'курица_NOUN': {1: [гусь, кура, птица, яйцо, баба, женщина, двор],\n",
       "  2: [кура, жареный, мясо, рыба, сыр]},\n",
       " 'мишень_NOUN': {1: [стрельба, стрелять, выстрел], 2: []},\n",
       " 'пост_NOUN': {1: [начальник], 2: [должность, председатель, министр]},\n",
       " 'проказа_NOUN': {1: [весёлый], 2: [болезнь, больной, заболевание]},\n",
       " 'пропасть_NOUN': {1: [вниз, край], 2: [непроходимый, вера]},\n",
       " 'пытка_NOUN': {1: [казнь, жестокий, тюрьма, заключённый], 2: []},\n",
       " 'рысь_NOUN': {1: [рысь, лошадь, конь, всадник, дорога],\n",
       "  2: [волк, куница, лисица, медведь, кабарга, хорёк]},\n",
       " 'среда_NOUN': {2: [организм, природопользование, сфера], 3: [], 4: [четверг]},\n",
       " 'штамп_NOUN': {1: [паспорт, печать, документ], 4: [привычный]}}"
      ]
     },
     "execution_count": 262,
     "metadata": {},
     "output_type": "execute_result"
    }
   ],
   "source": [
    "sorted_ten_good_words_from_perfect"
   ]
  },
  {
   "cell_type": "code",
   "execution_count": 271,
   "metadata": {},
   "outputs": [],
   "source": [
    "sorted_thirty_good_words_from_perfect = sort_dict_with_good_words(thirty_good_words_from_perfect)\n",
    "sorted_thirty_good_words_from_10_errors = sort_dict_with_good_words(thirty_good_words_from_10_errors)\n",
    "sorted_thirty_good_words_from_20_errors = sort_dict_with_good_words(thirty_good_words_from_20_errors)\n",
    "sorted_thirty_good_words_from_30_errors = sort_dict_with_good_words(thirty_good_words_from_30_errors)\n",
    "sorted_thirty_good_words_from_40_errors = sort_dict_with_good_words(thirty_good_words_from_40_errors)"
   ]
  },
  {
   "cell_type": "markdown",
   "metadata": {},
   "source": [
    "## 5. Создание словаря с определениями слов через подключение к онлайн-словарю"
   ]
  },
  {
   "cell_type": "code",
   "execution_count": 44,
   "metadata": {},
   "outputs": [],
   "source": [
    "from urllib.parse import quote\n",
    "import requests\n",
    "from bs4 import BeautifulSoup\n",
    "import time"
   ]
  },
  {
   "cell_type": "code",
   "execution_count": 43,
   "metadata": {},
   "outputs": [
    {
     "data": {
      "text/plain": [
       "['лавка',\n",
       " 'замок',\n",
       " 'винт',\n",
       " 'лук',\n",
       " 'суда',\n",
       " 'дисциплина',\n",
       " 'корона',\n",
       " 'кран',\n",
       " 'летопись',\n",
       " 'балка',\n",
       " 'вид',\n",
       " 'горн',\n",
       " 'жаба',\n",
       " 'клетка',\n",
       " 'курица',\n",
       " 'мишень',\n",
       " 'пост',\n",
       " 'проказа',\n",
       " 'пропасть',\n",
       " 'пытка',\n",
       " 'рысь',\n",
       " 'среда',\n",
       " 'штамп']"
      ]
     },
     "execution_count": 43,
     "metadata": {},
     "output_type": "execute_result"
    }
   ],
   "source": [
    "words = list(words_dict.keys())\n",
    "words"
   ]
  },
  {
   "cell_type": "code",
   "execution_count": null,
   "metadata": {},
   "outputs": [],
   "source": [
    "# senses = soup.find_all('sup') - для ожегова - количество значений\n",
    "# [<sup>1</sup>, <sup>2</sup>]"
   ]
  },
  {
   "cell_type": "code",
   "execution_count": 45,
   "metadata": {},
   "outputs": [],
   "source": [
    "dict_to_use = \"https://gufo.me/dict/efremova/\"  # \"https://gufo.me/dict/ozhegov/\"\n",
    "roman = {\"I\", \"V\", \"X\"} # с чего может начинаться обозначение значения\n",
    "\n",
    "def get_definitions(words, common_dict, look_at_lemmas_not_words=True):\n",
    "    \n",
    "    for word in words: # слова не обязательно лемматизированы - напр., \"суда\"\n",
    "        \n",
    "        if look_at_lemmas_not_words: # итерация по возможным леммам переданных слов, а не по самим словам!\n",
    "            variants = morph.parse(word)\n",
    "            set_of_lemmas = set([el.normal_form for el in variants]) # все возможные леммы для слова\n",
    "\n",
    "            for lemma in set_of_lemmas:\n",
    "                if lemma not in common_dict:\n",
    "                    dict_with_senses = dict()\n",
    "                    encoded_word = quote(lemma)\n",
    "                    content = requests.get(dict_to_use + encoded_word).text\n",
    "                    soup = BeautifulSoup(content, 'html.parser')\n",
    "                    text = [el.get_text() for el in soup.find_all('p')[:-1]]\n",
    "                    if text == ['Слово не найдено (в индексе и в фейловере).']:\n",
    "                        print(\"Лемма '%s' слова '%s' не найдена в словаре\" % (lemma, word))\n",
    "                        continue\n",
    "                    else:\n",
    "                        if text[0] == \"1.\": # это исключения - как с \"рысью\", когда есть ещё один, более внешний уровень \n",
    "                            # разделения значений - нас тогда здесь будет интересовать только первый кусочек, потому что \n",
    "                            # второй - это что-то специфическое\n",
    "                            print(\"Исключение с леммой '%s' слова '%s'\" % (lemma, word))\n",
    "                            text = text[1:text.index(\"2.\")]\n",
    "\n",
    "                        text_all = \" \".join(text)\n",
    "                        if (\"I\" in text_all) and (\"II\" in text_all): # если есть явно разграничиваемые значения\n",
    "                            for element in text[1:]: # первый элемент здесь - просто само слово\n",
    "                                el_is_key = False\n",
    "                                for digit in roman:\n",
    "                                    if digit == element[0]: # тогда этот элемент (строка) будет ключом словаря\n",
    "                                        el_is_key = True\n",
    "                                        key = element\n",
    "                                        dict_with_senses[key] = []\n",
    "                                        break\n",
    "                                if el_is_key:\n",
    "                                    continue\n",
    "                                else:\n",
    "                                    if not element.startswith(\"||\"): # это самостоятельное определение, добавляем его \n",
    "                                        dict_with_senses[key].append(element)\n",
    "                                    else: # это оттенок значения, мы добавляем эту строку в конец предыдущего определения\n",
    "                                        # continue - если вообще игнорируем оттенки значений\n",
    "                                        num_of_last_el = len(dict_with_senses[key]) - 1\n",
    "                                        dict_with_senses[key][num_of_last_el] = dict_with_senses[key][num_of_last_el] + \\\n",
    "                                                                                \" \" + element\n",
    "                        else:\n",
    "                            try:\n",
    "                                dict_with_senses[text[0]] = [] # ключом будет слово + род, типа \"путь м.\"\n",
    "                            except IndexError: # возникали какие-то ошибки, если запрашивать сразу много слов, без time.sleep()\n",
    "                                print(text)\n",
    "                                raise IndexError(\"Проблема с леммой '%s' слова '%s'\" % (lemma, word))\n",
    "                            for element in text[1:]:\n",
    "                                if not element.startswith(\"||\"):\n",
    "                                    dict_with_senses[text[0]].append(element)\n",
    "                                else:\n",
    "                                    num_of_last_el = len(dict_with_senses[text[0]]) - 1\n",
    "                                    dict_with_senses[text[0]][num_of_last_el] = dict_with_senses[text[0]][num_of_last_el] + \\\n",
    "                                                                                \" \" + element\n",
    "\n",
    "                    common_dict[lemma] = dict_with_senses\n",
    "                    time.sleep(0.5)  # без этого не сделать подряд все слова, возникает ошибка\n",
    "                    \n",
    "                    \n",
    "        else: # почти всё то же самое, но смотрим на сами слова\n",
    "            if word not in common_dict:\n",
    "                dict_with_senses = dict()\n",
    "                encoded_word = quote(word)\n",
    "                content = requests.get(dict_to_use + encoded_word).text\n",
    "                soup = BeautifulSoup(content, 'html.parser')\n",
    "                text = [el.get_text() for el in soup.find_all('p')[:-1]] # последний элемент - \"© 2019 Gufo.me\"\n",
    "\n",
    "                if text == ['Слово не найдено (в индексе и в фейловере).']:\n",
    "                    print(\"Слово '%s' не найдено в словаре\" % word)\n",
    "                    continue # просто переходим к следующему слову\n",
    "\n",
    "                if text[0] == \"1.\": # это исключения - как с \"рысью\", когда есть ещё один, более внешний уровень\n",
    "                    #  разделения значений - нас тогда здесь будет интересовать только первый кусочек\n",
    "                    print(\"Исключение со словом \" + word)\n",
    "                    text = text[1:text.index(\"2.\")]\n",
    "\n",
    "                text_all = \" \".join(text)\n",
    "                if (\"I\" in text_all) and (\"II\" in text_all): # если есть явно разграничиваемые значения\n",
    "                    for element in text[1:]: # первый элемент здесь - просто само слово\n",
    "                        el_is_key = False\n",
    "                        for digit in roman:\n",
    "                            if digit == element[0]: # тогда это будет ключом словаря\n",
    "                                el_is_key = True\n",
    "                                key = element\n",
    "                                dict_with_senses[key] = []\n",
    "                                break\n",
    "                        if el_is_key:\n",
    "                            continue\n",
    "                        else:\n",
    "                            if not element.startswith(\"||\"):\n",
    "                                dict_with_senses[key].append(element)\n",
    "                            else: # оттенки значений, идущие после ||, присоединяем к предыдущему определению\n",
    "                                num_of_last_el = len(dict_with_senses[key]) - 1\n",
    "                                dict_with_senses[key][num_of_last_el] = dict_with_senses[key][num_of_last_el] + \" \" + element\n",
    "                else:\n",
    "                    try:\n",
    "                        dict_with_senses[text[0]] = [] # ключом будет слово + род, типа \"путь м.\"\n",
    "                    except IndexError:\n",
    "                        print(text)\n",
    "                        raise IndexError(\"Проблема со словом \" + word)\n",
    "                    for element in text[1:]:\n",
    "                        if not element.startswith(\"||\"):\n",
    "                            dict_with_senses[text[0]].append(element)\n",
    "                        else:\n",
    "                            num_of_last_el = len(dict_with_senses[text[0]]) - 1\n",
    "                            dict_with_senses[text[0]][num_of_last_el] = dict_with_senses[text[0]][num_of_last_el] + \\\n",
    "                                                                        \" \" + element\n",
    "\n",
    "                common_dict[word] = dict_with_senses\n",
    "                time.sleep(0.5)  # без этого не сделать подряд все слова, нужно разбивать на две части\n",
    "            \n",
    "    return common_dict"
   ]
  },
  {
   "cell_type": "code",
   "execution_count": 46,
   "metadata": {
    "collapsed": true
   },
   "outputs": [
    {
     "name": "stdout",
     "output_type": "stream",
     "text": [
      "Исключение с леммой 'рысь' слова 'рысь'\n",
      "15.45388388633728\n"
     ]
    },
    {
     "data": {
      "text/plain": [
       "{'лавка': {'I ж.': ['1. Скамья в доме для сидения или лежания (обычно прикрепленная к стене).',\n",
       "   '2. Скамья в саду, на улице.'],\n",
       "  'II ж.': ['Небольшой магазин (обычно в сельской местности).']},\n",
       " 'замокнуть': {'замокнуть сов. неперех. разг.': ['см. замокать']},\n",
       " 'замок': {'I замок м.': ['1. Устройство для запирания дверей, чемоданов, ящиков мебели и т.п. ключом. || Приспособление для соединения концов ювелирных изделий (ожерелья, браслета, цепочки и т.п.).',\n",
       "   '2. Способ соединения бревен, брусьев, при котором они составляют одно целое.'],\n",
       "  'II замок м.': ['Клинчатый камень в вершине арки, свода (в архитектуре).'],\n",
       "  'III замок м.': ['Устройство в огнестрельном оружии, обеспечивающее досылание снаряда, патрона, запирание канала ствола, производство выстрела и выбрасывание гильзы; затвор I 4.'],\n",
       "  'IV замок м.': ['Укрепленное жилище — дворец и крепость — феодала.']},\n",
       " 'винт': {'I м.': ['1. Стержень со спиральной нарезкой, служащий для крепления или соединения деталей, частей чего-либо.',\n",
       "   '2. Приспособление в виде лопастей, предназначенное для приведения в движение морского, речного, воздушного судна.'],\n",
       "  'II м.': ['Карточная игра, представляющая собою соединение правил игры в вист и в преферанс.'],\n",
       "  'III м. разг.': ['Жёсткий магнитный диск как носитель данных запоминающего устройства; винчестер II (в информатике).']},\n",
       " 'лук': {'I м.': ['1. Огородное растение семейства лилейных.',\n",
       "   '2. Съедобные части такого огородного растения.'],\n",
       "  'II м.': ['Дикорастущее травянистое луковичное растение семейства лилейных.'],\n",
       "  'III м.': ['Ручное оружие для метания стрел в виде дуги, стянутой тетивой.']},\n",
       " 'лука': {'лука ж.': ['1. Дугообразный поворот реки. || разг. Изгиб чего-либо.',\n",
       "   '2. Изгиб переднего или заднего края седла.']},\n",
       " 'суд': {'суд м.': ['1. Государственный орган, ведающий разрешением гражданских споров и уголовных дел. || Помещение для судебных заседаний.',\n",
       "   '2. Общественный орган, избираемый из членов какого-либо коллектива для разбирательства дел, связанных с недостойным поведением кого-либо. || Разбирательство дел в таких органах.',\n",
       "   '3. Судебный процесс.',\n",
       "   '4. Судебное заседание.',\n",
       "   '5. Те, кто судит; судьи.',\n",
       "   '6. перен. разг. Мнение, суждение, заключение о ком-либо, чём-либо. || Наказание, возмездие.']},\n",
       " 'судно': {'I ср.': ['1. устар. Сосуд, посуда.',\n",
       "   '2. Сосуд для испражнений, мочи.'],\n",
       "  'II ср.': ['Сооружение, приспособленное для плавания и перевозки людей и грузов по воде.']},\n",
       " 'дисциплина': {'I ж.': ['1. Определенный порядок поведения людей, отвечающий сложившимся в обществе нормам права и морали, а также требованиям той или иной организации.',\n",
       "   '2. разг. Строгое следование своим собственным правилам; самодисциплина.'],\n",
       "  'II ж.': ['1. Самостоятельная область научных знаний.',\n",
       "   '2. Учебный предмет.']},\n",
       " 'корона': {'I ж.': ['1. Венец, являющийся символом власти монарха (обычно выполненный из благородного металла и украшенный драгоценными камнями).',\n",
       "   '2. Изображение такого венца на царских, княжеских, графских, дворянских и т.п. гербах как символа власти.',\n",
       "   '3. перен. Власть монарха.'],\n",
       "  'II ж.': ['Символ победы спортсмена в каком-либо виде спорта.'],\n",
       "  'III ж.': ['Светлый ореол вокруг солнца, видимый во время солнечного затмения.']},\n",
       " 'кран': {'I м.': ['Устройство для выпуска жидкости или газа из резервуара или трубопровода; трубопроводный вентиль.'],\n",
       "  'II м.': ['Устройство для управления тормозной системой подвижного железнодорожного состава.'],\n",
       "  'III м.': ['Сооружение, механизм для подъёма и перемещения грузов.']},\n",
       " 'летопись': {'летопись ж.': ['1. Запись по годам исторических событий, происходивших в стране, городе, местности, производимая современником (в Древней Руси).',\n",
       "   '2. Любая регулярная запись каких-либо событий; хроника, дневник.',\n",
       "   '3. Собрание записей, произведений, снимков и т.п., в которых нашли отражение какие-либо события истории.']},\n",
       " 'балка': {'I ж.': ['Брус, укрепленный горизонтально между двумя стенами или устоями и служащий опорой, поддержкой чего-либо (потолка, моста и т.п.).'],\n",
       "  'II ж.': ['Длинный и широкий овраг, лощина (обычно с пологими склонами, поросшими растительностью).']},\n",
       " 'вид': {'I м.': ['1. Внешний облик; внешность, наружность. || Внешний облик, производящий благоприятное впечатление.',\n",
       "   '2. То, что оказывается перед глазами, в поле зрения. || Открывающаяся взгляду картина окружающей природы, местности.',\n",
       "   '3. Изображение природы, города и т.п. в рисунке, живописи, графике; пейзаж.'],\n",
       "  'II м.': ['1. Понятие, обозначающее ряд предметов или явлений с одинаковыми признаками и входящее в более общее понятие рода.',\n",
       "   '2. Совокупность особей, объединенных по общности признаков, служащая — вместе с более общими понятиями рода (семейства, отряда, класса) — основой классификации животных и растений.',\n",
       "   '3. Разновидность, тип.'],\n",
       "  'III м.': ['Грамматическая категория глагола, обозначающая характер протекания действия в его отношении к результату, длительности, повторяемости и т.п. (в лингвистике).'],\n",
       "  'IV м. разг.': ['1. Документ, выдававшийся в предусмотренных законом случаях вместо паспорта; вид на жительство (в России до 1917 г.).',\n",
       "   '2. Документ, выдаваемый иностранным гражданам на право проживания в каком-либо государстве; вид на жительство.',\n",
       "   '3. Официальное разрешение, удостоверение личности, документ типа паспорта, свидетельства о рождении и т.п.; письменный вид.']},\n",
       " 'горн': {'I м.': ['1. Печь с открытой неглубокой шахтой, используемая для плавки металла и нагрева заготовок перед ковкой; простейшая металлургическая печь. || Печь для обжига керамических изделий.',\n",
       "   '2. Нижняя часть шахтной плавильной печи, где происходит горение топлива.'],\n",
       "  'II м.': ['Духовой медный музыкальный инструмент в виде прямой трубки с раструбом и обычно используемый для подачи звуковых сигналов.']},\n",
       " 'жаба': {'I ж.': ['Бесхвостое серо-коричневого или зеленоватого цвета земноводное животное с бородавчатой слизистой кожей, похожее на лягушку, но более крупное по размерам.'],\n",
       "  'II ж. устар.': ['Острое инфекционное заболевание, характеризующееся воспалением зева и нёбных миндалин; ангина.']},\n",
       " 'клетка': {'I ж.': ['1. Помещение для птиц и животных со стенками из железных или деревянных прутьев.',\n",
       "   '2. перен. разг. Маленькая комната, тесное помещение.'],\n",
       "  'II ж. разг.': ['Подъёмное устройство в шахте; клеть III'],\n",
       "  'III ж.': ['Способ укладки каких-либо материалов (бревен, дров, досок, кирпича и т.п.) в виде четырёхугольника параллельными пересекающимися рядами.'],\n",
       "  'IV ж.': ['1. Четырехугольник, изображенный на поверхности чего-либо.',\n",
       "   '2. Участок поля четырёхугольной формы.'],\n",
       "  'V ж.': ['Элементарная единица строения живого организма, основа жизнедеятельности всех животных и растительных организмов, состоящая из протоплазмы, ядра и оболочки (способная к самостоятельному существованию, самовоспроизведению и развитию).']},\n",
       " 'курица': {'курица ж.': ['1. Домашняя птица, несущая яйца; самка петуха.',\n",
       "   '2. разг. Мясо кур, употребляемое в пищу; курятина 1.',\n",
       "   '3. разг. Кушанье, приготовленное из такого мяса.']},\n",
       " 'мишень': {'мишень ж.': ['1. Предмет, служащий целью при учебной или тренировочной стрельбе. || Кто-либо или что-либо, являющиеся или могущие стать объектом стрельбы.',\n",
       "   '2. перен. Тот, кто является предметом насмешек, нападок, преследования.']},\n",
       " 'пост': {'I м.': ['1. Предписываемое церковью воздержание от принятия скоромной пищи. || Период, в который церковью предписывается такое воздержание.',\n",
       "   '2. разг. Любое воздержание.'],\n",
       "  'II м.': ['1. Место, откуда наблюдают за кем-либо, чем-либо; пункт, который охраняют. || Любое место, с которого наблюдают за чем-либо.',\n",
       "   '2. Постоянный пункт охраны (на границе, линии обороны и т.п.); застава, кордон.',\n",
       "   '3. устар. Населенный пункт, образовавшийся на месте пункта охранения.',\n",
       "   '4. Лицо или группа лиц, поставленных в определенном месте для охранения кого-либо, чего-либо, наблюдения за кем-либо, чем-либо.',\n",
       "   '5. перен. Ответственная должность.']},\n",
       " 'проказа': {'I ж.': ['Шалость, проделка.'],\n",
       "  'II ж.': ['1. Хроническое общее инфекционное заболевание человека, сопровождающееся поражением кожи, мышц, гортани, внутренних органов; лепра. || Язвы, струпья, пятна и т.п., покрывающие кожу при таком заболевании.',\n",
       "   '2. Эпидемия такой болезни.',\n",
       "   '3. перен. разг. То, что растлевает, губит; зло.']},\n",
       " 'пропасть': {'I пропасть ж.': ['1. Глубокая, отвесная впадина на земной поверхности, глубокий обрыв, бездна. || перен. Резко выраженное различие, глубокое расхождение, несогласие, разделяющее кого-либо, чего-либо. || перен. Грозящая кому-либо опасность, гибель.',\n",
       "   '2. устар. Подземная пещера.',\n",
       "   '3. разг. Употребляется при указании на неопределённо большое количество кого-либо, чего-либо.'],\n",
       "  'II пропасть сов. неперех.': ['см. пропадать I'],\n",
       "  'III пропасть нареч. разг.': ['Очень много, в большом количестве.'],\n",
       "  'IV пропасть межд. простореч.': ['Употребляется при выражении сильной досады, негодования.']},\n",
       " 'пытка': {'пытка ж.': ['1. Физическое насилие, истязание при допросе обвиняемого с целью вынудить у него показание. || перен. Сильные физические страдания, доставляемые кем-либо, чем-либо.',\n",
       "   '2. перен. Сильное нравственное страдание; мучение, терзание.']},\n",
       " 'рысь': {'I ж.': ['1. Быстрый аллюр (средний между галопом и шагом), при котором лошадь попеременно выносит и ставит на землю то правую переднюю и левую заднюю, то левую переднюю и правую заднюю ноги.',\n",
       "   '2. перен. разг. Живость, прыть.'],\n",
       "  'II ж.': ['1. Хищное млекопитающее семейства кошачьих с пушистым мехом, имеющее длинные кисточки на ушах и обладающее острым зрением.',\n",
       "   '2. Мех такого животного.',\n",
       "   '3. разг. Изделия из такого меха.']},\n",
       " 'среда': {'I ж.': ['1. Вещество, заполняющее какое-либо пространство и обладающее определенными свойствами.',\n",
       "   '2. Совокупность природных условий жизнедеятельности какого-либо организма.',\n",
       "   '3. Окружение, социально-бытовые условия, в которых протекает жизнь человека. || Совокупность людей, связанных общностью жизненных условий, занятий, интересов.'],\n",
       "  'II ж.': ['1. Название третьего дня недели, следующего за вторником.',\n",
       "   '2. перен. Приём, вечер и т.п., устраиваемый в такой день недели.']},\n",
       " 'штамп': {'I м.': ['1. Металлическая или иная форма для серийного изготовления путём штамповки каких-либо деталей или мелких предметов.',\n",
       "   '2. перен. Слово или словосочетание, которые осознаются говорящими как устойчивые и часто употребляемые формы.',\n",
       "   '3. перен. Общепринятый, избитый образец, которому слепо подражают; шаблон.'],\n",
       "  'II м.': ['Форма с углублением или рельефным изображением текста, рисунка или украшения, служащая для тиснения на переплетной крышке (в полиграфии).'],\n",
       "  'III м.': ['1. Вид печати — обычно прямоугольной — с выпуклым изображением названия учреждения, организации, адреса и т.п.',\n",
       "   '2. Оттиск на чём-либо, полученный при помощи такой печати.']}}"
      ]
     },
     "execution_count": 46,
     "metadata": {},
     "output_type": "execute_result"
    }
   ],
   "source": [
    "start = time.time()\n",
    "dict_with_lemmas = dict()\n",
    "dict_with_lemmas = get_definitions(words, dict_with_lemmas)\n",
    "print(time.time()-start)\n",
    "dict_with_lemmas"
   ]
  },
  {
   "cell_type": "code",
   "execution_count": 47,
   "metadata": {
    "collapsed": true
   },
   "outputs": [
    {
     "name": "stdout",
     "output_type": "stream",
     "text": [
      "Слово 'суда' не найдено в словаре\n",
      "Исключение со словом рысь\n",
      "13.07074761390686\n"
     ]
    },
    {
     "data": {
      "text/plain": [
       "{'лавка': {'I ж.': ['1. Скамья в доме для сидения или лежания (обычно прикрепленная к стене).',\n",
       "   '2. Скамья в саду, на улице.'],\n",
       "  'II ж.': ['Небольшой магазин (обычно в сельской местности).']},\n",
       " 'замок': {'I замок м.': ['1. Устройство для запирания дверей, чемоданов, ящиков мебели и т.п. ключом. || Приспособление для соединения концов ювелирных изделий (ожерелья, браслета, цепочки и т.п.).',\n",
       "   '2. Способ соединения бревен, брусьев, при котором они составляют одно целое.'],\n",
       "  'II замок м.': ['Клинчатый камень в вершине арки, свода (в архитектуре).'],\n",
       "  'III замок м.': ['Устройство в огнестрельном оружии, обеспечивающее досылание снаряда, патрона, запирание канала ствола, производство выстрела и выбрасывание гильзы; затвор I 4.'],\n",
       "  'IV замок м.': ['Укрепленное жилище — дворец и крепость — феодала.']},\n",
       " 'винт': {'I м.': ['1. Стержень со спиральной нарезкой, служащий для крепления или соединения деталей, частей чего-либо.',\n",
       "   '2. Приспособление в виде лопастей, предназначенное для приведения в движение морского, речного, воздушного судна.'],\n",
       "  'II м.': ['Карточная игра, представляющая собою соединение правил игры в вист и в преферанс.'],\n",
       "  'III м. разг.': ['Жёсткий магнитный диск как носитель данных запоминающего устройства; винчестер II (в информатике).']},\n",
       " 'лук': {'I м.': ['1. Огородное растение семейства лилейных.',\n",
       "   '2. Съедобные части такого огородного растения.'],\n",
       "  'II м.': ['Дикорастущее травянистое луковичное растение семейства лилейных.'],\n",
       "  'III м.': ['Ручное оружие для метания стрел в виде дуги, стянутой тетивой.']},\n",
       " 'дисциплина': {'I ж.': ['1. Определенный порядок поведения людей, отвечающий сложившимся в обществе нормам права и морали, а также требованиям той или иной организации.',\n",
       "   '2. разг. Строгое следование своим собственным правилам; самодисциплина.'],\n",
       "  'II ж.': ['1. Самостоятельная область научных знаний.',\n",
       "   '2. Учебный предмет.']},\n",
       " 'корона': {'I ж.': ['1. Венец, являющийся символом власти монарха (обычно выполненный из благородного металла и украшенный драгоценными камнями).',\n",
       "   '2. Изображение такого венца на царских, княжеских, графских, дворянских и т.п. гербах как символа власти.',\n",
       "   '3. перен. Власть монарха.'],\n",
       "  'II ж.': ['Символ победы спортсмена в каком-либо виде спорта.'],\n",
       "  'III ж.': ['Светлый ореол вокруг солнца, видимый во время солнечного затмения.']},\n",
       " 'кран': {'I м.': ['Устройство для выпуска жидкости или газа из резервуара или трубопровода; трубопроводный вентиль.'],\n",
       "  'II м.': ['Устройство для управления тормозной системой подвижного железнодорожного состава.'],\n",
       "  'III м.': ['Сооружение, механизм для подъёма и перемещения грузов.']},\n",
       " 'летопись': {'летопись ж.': ['1. Запись по годам исторических событий, происходивших в стране, городе, местности, производимая современником (в Древней Руси).',\n",
       "   '2. Любая регулярная запись каких-либо событий; хроника, дневник.',\n",
       "   '3. Собрание записей, произведений, снимков и т.п., в которых нашли отражение какие-либо события истории.']},\n",
       " 'балка': {'I ж.': ['Брус, укрепленный горизонтально между двумя стенами или устоями и служащий опорой, поддержкой чего-либо (потолка, моста и т.п.).'],\n",
       "  'II ж.': ['Длинный и широкий овраг, лощина (обычно с пологими склонами, поросшими растительностью).']},\n",
       " 'вид': {'I м.': ['1. Внешний облик; внешность, наружность. || Внешний облик, производящий благоприятное впечатление.',\n",
       "   '2. То, что оказывается перед глазами, в поле зрения. || Открывающаяся взгляду картина окружающей природы, местности.',\n",
       "   '3. Изображение природы, города и т.п. в рисунке, живописи, графике; пейзаж.'],\n",
       "  'II м.': ['1. Понятие, обозначающее ряд предметов или явлений с одинаковыми признаками и входящее в более общее понятие рода.',\n",
       "   '2. Совокупность особей, объединенных по общности признаков, служащая — вместе с более общими понятиями рода (семейства, отряда, класса) — основой классификации животных и растений.',\n",
       "   '3. Разновидность, тип.'],\n",
       "  'III м.': ['Грамматическая категория глагола, обозначающая характер протекания действия в его отношении к результату, длительности, повторяемости и т.п. (в лингвистике).'],\n",
       "  'IV м. разг.': ['1. Документ, выдававшийся в предусмотренных законом случаях вместо паспорта; вид на жительство (в России до 1917 г.).',\n",
       "   '2. Документ, выдаваемый иностранным гражданам на право проживания в каком-либо государстве; вид на жительство.',\n",
       "   '3. Официальное разрешение, удостоверение личности, документ типа паспорта, свидетельства о рождении и т.п.; письменный вид.']},\n",
       " 'горн': {'I м.': ['1. Печь с открытой неглубокой шахтой, используемая для плавки металла и нагрева заготовок перед ковкой; простейшая металлургическая печь. || Печь для обжига керамических изделий.',\n",
       "   '2. Нижняя часть шахтной плавильной печи, где происходит горение топлива.'],\n",
       "  'II м.': ['Духовой медный музыкальный инструмент в виде прямой трубки с раструбом и обычно используемый для подачи звуковых сигналов.']},\n",
       " 'жаба': {'I ж.': ['Бесхвостое серо-коричневого или зеленоватого цвета земноводное животное с бородавчатой слизистой кожей, похожее на лягушку, но более крупное по размерам.'],\n",
       "  'II ж. устар.': ['Острое инфекционное заболевание, характеризующееся воспалением зева и нёбных миндалин; ангина.']},\n",
       " 'клетка': {'I ж.': ['1. Помещение для птиц и животных со стенками из железных или деревянных прутьев.',\n",
       "   '2. перен. разг. Маленькая комната, тесное помещение.'],\n",
       "  'II ж. разг.': ['Подъёмное устройство в шахте; клеть III'],\n",
       "  'III ж.': ['Способ укладки каких-либо материалов (бревен, дров, досок, кирпича и т.п.) в виде четырёхугольника параллельными пересекающимися рядами.'],\n",
       "  'IV ж.': ['1. Четырехугольник, изображенный на поверхности чего-либо.',\n",
       "   '2. Участок поля четырёхугольной формы.'],\n",
       "  'V ж.': ['Элементарная единица строения живого организма, основа жизнедеятельности всех животных и растительных организмов, состоящая из протоплазмы, ядра и оболочки (способная к самостоятельному существованию, самовоспроизведению и развитию).']},\n",
       " 'курица': {'курица ж.': ['1. Домашняя птица, несущая яйца; самка петуха.',\n",
       "   '2. разг. Мясо кур, употребляемое в пищу; курятина 1.',\n",
       "   '3. разг. Кушанье, приготовленное из такого мяса.']},\n",
       " 'мишень': {'мишень ж.': ['1. Предмет, служащий целью при учебной или тренировочной стрельбе. || Кто-либо или что-либо, являющиеся или могущие стать объектом стрельбы.',\n",
       "   '2. перен. Тот, кто является предметом насмешек, нападок, преследования.']},\n",
       " 'пост': {'I м.': ['1. Предписываемое церковью воздержание от принятия скоромной пищи. || Период, в который церковью предписывается такое воздержание.',\n",
       "   '2. разг. Любое воздержание.'],\n",
       "  'II м.': ['1. Место, откуда наблюдают за кем-либо, чем-либо; пункт, который охраняют. || Любое место, с которого наблюдают за чем-либо.',\n",
       "   '2. Постоянный пункт охраны (на границе, линии обороны и т.п.); застава, кордон.',\n",
       "   '3. устар. Населенный пункт, образовавшийся на месте пункта охранения.',\n",
       "   '4. Лицо или группа лиц, поставленных в определенном месте для охранения кого-либо, чего-либо, наблюдения за кем-либо, чем-либо.',\n",
       "   '5. перен. Ответственная должность.']},\n",
       " 'проказа': {'I ж.': ['Шалость, проделка.'],\n",
       "  'II ж.': ['1. Хроническое общее инфекционное заболевание человека, сопровождающееся поражением кожи, мышц, гортани, внутренних органов; лепра. || Язвы, струпья, пятна и т.п., покрывающие кожу при таком заболевании.',\n",
       "   '2. Эпидемия такой болезни.',\n",
       "   '3. перен. разг. То, что растлевает, губит; зло.']},\n",
       " 'пропасть': {'I пропасть ж.': ['1. Глубокая, отвесная впадина на земной поверхности, глубокий обрыв, бездна. || перен. Резко выраженное различие, глубокое расхождение, несогласие, разделяющее кого-либо, чего-либо. || перен. Грозящая кому-либо опасность, гибель.',\n",
       "   '2. устар. Подземная пещера.',\n",
       "   '3. разг. Употребляется при указании на неопределённо большое количество кого-либо, чего-либо.'],\n",
       "  'II пропасть сов. неперех.': ['см. пропадать I'],\n",
       "  'III пропасть нареч. разг.': ['Очень много, в большом количестве.'],\n",
       "  'IV пропасть межд. простореч.': ['Употребляется при выражении сильной досады, негодования.']},\n",
       " 'пытка': {'пытка ж.': ['1. Физическое насилие, истязание при допросе обвиняемого с целью вынудить у него показание. || перен. Сильные физические страдания, доставляемые кем-либо, чем-либо.',\n",
       "   '2. перен. Сильное нравственное страдание; мучение, терзание.']},\n",
       " 'рысь': {'I ж.': ['1. Быстрый аллюр (средний между галопом и шагом), при котором лошадь попеременно выносит и ставит на землю то правую переднюю и левую заднюю, то левую переднюю и правую заднюю ноги.',\n",
       "   '2. перен. разг. Живость, прыть.'],\n",
       "  'II ж.': ['1. Хищное млекопитающее семейства кошачьих с пушистым мехом, имеющее длинные кисточки на ушах и обладающее острым зрением.',\n",
       "   '2. Мех такого животного.',\n",
       "   '3. разг. Изделия из такого меха.']},\n",
       " 'среда': {'I ж.': ['1. Вещество, заполняющее какое-либо пространство и обладающее определенными свойствами.',\n",
       "   '2. Совокупность природных условий жизнедеятельности какого-либо организма.',\n",
       "   '3. Окружение, социально-бытовые условия, в которых протекает жизнь человека. || Совокупность людей, связанных общностью жизненных условий, занятий, интересов.'],\n",
       "  'II ж.': ['1. Название третьего дня недели, следующего за вторником.',\n",
       "   '2. перен. Приём, вечер и т.п., устраиваемый в такой день недели.']},\n",
       " 'штамп': {'I м.': ['1. Металлическая или иная форма для серийного изготовления путём штамповки каких-либо деталей или мелких предметов.',\n",
       "   '2. перен. Слово или словосочетание, которые осознаются говорящими как устойчивые и часто употребляемые формы.',\n",
       "   '3. перен. Общепринятый, избитый образец, которому слепо подражают; шаблон.'],\n",
       "  'II м.': ['Форма с углублением или рельефным изображением текста, рисунка или украшения, служащая для тиснения на переплетной крышке (в полиграфии).'],\n",
       "  'III м.': ['1. Вид печати — обычно прямоугольной — с выпуклым изображением названия учреждения, организации, адреса и т.п.',\n",
       "   '2. Оттиск на чём-либо, полученный при помощи такой печати.']}}"
      ]
     },
     "execution_count": 47,
     "metadata": {},
     "output_type": "execute_result"
    }
   ],
   "source": [
    "start = time.time()\n",
    "dict_with_words = dict()\n",
    "dict_with_words = get_definitions(words, dict_with_words, look_at_lemmas_not_words=False)\n",
    "print(time.time()-start)\n",
    "dict_with_words"
   ]
  },
  {
   "cell_type": "code",
   "execution_count": 48,
   "metadata": {},
   "outputs": [
    {
     "data": {
      "text/plain": [
       "dict_keys(['лавка', 'замокнуть', 'замок', 'винт', 'лук', 'лука', 'суд', 'судно', 'дисциплина', 'корона', 'кран', 'летопись', 'балка', 'вид', 'горн', 'жаба', 'клетка', 'курица', 'мишень', 'пост', 'проказа', 'пропасть', 'пытка', 'рысь', 'среда', 'штамп'])"
      ]
     },
     "execution_count": 48,
     "metadata": {},
     "output_type": "execute_result"
    }
   ],
   "source": [
    "dict_with_lemmas.keys()"
   ]
  },
  {
   "cell_type": "code",
   "execution_count": 49,
   "metadata": {},
   "outputs": [
    {
     "data": {
      "text/plain": [
       "dict_keys(['лавка', 'замок', 'винт', 'лук', 'дисциплина', 'корона', 'кран', 'летопись', 'балка', 'вид', 'горн', 'жаба', 'клетка', 'курица', 'мишень', 'пост', 'проказа', 'пропасть', 'пытка', 'рысь', 'среда', 'штамп'])"
      ]
     },
     "execution_count": 49,
     "metadata": {},
     "output_type": "execute_result"
    }
   ],
   "source": [
    "dict_with_words.keys()"
   ]
  },
  {
   "cell_type": "markdown",
   "metadata": {},
   "source": [
    "## 6. Предобработка полученных определений "
   ]
  },
  {
   "cell_type": "code",
   "execution_count": 50,
   "metadata": {},
   "outputs": [],
   "source": [
    "from pymorphy2.tokenizers import simple_word_tokenize"
   ]
  },
  {
   "cell_type": "code",
   "execution_count": 51,
   "metadata": {},
   "outputs": [],
   "source": [
    "class SenseDefinition(object):\n",
    "    \"\"\"\n",
    "    Класс для определений из словаря и дальнейшей работы с ними. На вход передаём только raw строку с самим определением,\n",
    "    получаем обработанные строки (два варианта) и вектор w2v для этого определения.\n",
    "    \"\"\"\n",
    "    def __init__(self, raw_text):\n",
    "        self.raw_text = raw_text\n",
    "        self.normalized, self.normalized_with_pos = normalize_string(raw_text, stw_set)\n",
    "        self.vec = get_w2v_vec(self.normalized_with_pos)\n",
    "    \n",
    "    def __repr__(self):\n",
    "        return \"[%s,\\n%s\\n%s]\" % (self.raw_text, self.normalized, self.normalized_with_pos)"
   ]
  },
  {
   "cell_type": "raw",
   "metadata": {},
   "source": [
    "# уже брали раньше\n",
    "stw_file = \"C:\\\\Users\\\\boss\\\\Documents\\\\Diploma\\\\my_stopwords.txt\"\n",
    "with codecs.open(stw_file, encoding = 'utf-8') as f:\n",
    "    stw_set = set(f.read().split())"
   ]
  },
  {
   "cell_type": "raw",
   "metadata": {},
   "source": [
    "# уже брали раньше\n",
    "model_file = \"C:\\\\Users\\\\boss\\\\Documents\\\\Diploma\\\\182.zip\"\n",
    "with zipfile.ZipFile(model_file, 'r') as archive:\n",
    "    stream = archive.open('model.bin')\n",
    "    model_skipgram = gensim.models.KeyedVectors.load_word2vec_format(stream, binary=True)"
   ]
  },
  {
   "cell_type": "code",
   "execution_count": 74,
   "metadata": {},
   "outputs": [],
   "source": [
    "def get_w2v_vec(preprocessed_string):\n",
    "    list_with_vectors = []\n",
    "    for word in preprocessed_string.split():\n",
    "        try:\n",
    "            vec = model_skipgram[word.replace(\"ё\", \"е\")].reshape(1,300)\n",
    "            list_with_vectors.append(vec)\n",
    "        except KeyError: # ничего не делаем, и этот вектор не считается при вычислении среднего значения\n",
    "            # vec = np.zeros(300).reshape(1,300)\n",
    "            print(\"Слова '%s' нет в модели\" % word)\n",
    "            continue\n",
    "    if list_with_vectors != []:\n",
    "        mean_vec = np.mean(list_with_vectors, axis=0)\n",
    "    else:\n",
    "        print(\"У следующего определения будет нулевой вектор: \" + preprocessed_string) # у значения ['см. замокать']\n",
    "        mean_vec = np.zeros(300).reshape(1,300)\n",
    "    return mean_vec"
   ]
  },
  {
   "cell_type": "raw",
   "metadata": {},
   "source": [
    "# уже было выше, но здесь повторяем \n",
    "def return_pymorphy_pos(lemma):\n",
    "    p = morph.parse(lemma)[0]\n",
    "    if \"INFN\" in p.tag:\n",
    "        pos = \"VERB\"\n",
    "    elif \"ADJF\" in p.tag:\n",
    "        pos = \"ADJ\"\n",
    "    elif \"ADVB\" in p.tag:\n",
    "        pos = \"ADV\"\n",
    "    else:\n",
    "        pos = str(p.tag.POS)\n",
    "    return lemma + \"_\" + pos # не p.normal_form, потому что это уже нормализованные тексты"
   ]
  },
  {
   "cell_type": "code",
   "execution_count": 53,
   "metadata": {},
   "outputs": [],
   "source": [
    "def normalize_string(string_to_normalize, stw_set): \n",
    "    \"\"\" \n",
    "    Возвращает 1) лемматизированную строку без стоп-слов, 2) ту же строку, но с тегами ЧР как в W2V.\n",
    "    \n",
    "    string_to_normalize - строка raw текста\n",
    "    stw_set - множество стоп-слов\n",
    "    \"\"\"\n",
    "        \n",
    "    # именно для работы со словарём: вручную убираем пометы\n",
    "    string = string_to_normalize.replace(\" разг.\", \"\").replace(\" простореч.\", \"\").replace(\" перен.\", \"\").replace(\" устар.\", \"\")\n",
    "\n",
    "    lemmatized_list_for_string = [] # лемматизируем\n",
    "    for token in simple_word_tokenize(string):\n",
    "        if token == \"см\": # pymotphy заменяет его на \"сантиметр\", а так мы просто убираем\n",
    "            continue\n",
    "        lemmatized_list_for_string.append(morph.parse(token)[0].normal_form) \n",
    "\n",
    "    good_lemmatized_list_for_string = [] # убираем плохие токены    \n",
    "    for lemmatized_token in lemmatized_list_for_string:\n",
    "        if lemmatized_token in stw_set: # если слово в списке стоп слов\n",
    "            pass\n",
    "        elif True in set(char in set(list(\"1234567890\")) for char in lemmatized_token): # если в слове содержится цифра\n",
    "            pass\n",
    "        elif True in set(char in set(list(\"abcdefghijklmnopqrstuvwxyz\")) for char in lemmatized_token): # если латинские буквы\n",
    "            pass\n",
    "        else:\n",
    "            good_lemmatized_list_for_string.append(lemmatized_token)\n",
    "    \n",
    "    lemmas_with_pos = []\n",
    "    for lemma in good_lemmatized_list_for_string:\n",
    "        lemmas_with_pos.append(return_pymorphy_pos(lemma))\n",
    "    \n",
    "    return \" \".join(good_lemmatized_list_for_string), \" \".join(lemmas_with_pos)"
   ]
  },
  {
   "cell_type": "code",
   "execution_count": 75,
   "metadata": {},
   "outputs": [],
   "source": [
    "# нужна глубокая копия, иначе dict_with_lemmas сам будем тоже изменяться\n",
    "dict_with_definition_instances = copy.deepcopy(dict_with_lemmas)"
   ]
  },
  {
   "cell_type": "code",
   "execution_count": 76,
   "metadata": {
    "collapsed": true
   },
   "outputs": [
    {
     "name": "stdout",
     "output_type": "stream",
     "text": [
      "Слова 'замокать_VERB' нет в модели\n",
      "У следующего определения будет нулевой вектор: замокать_VERB\n",
      "Слова 'том_ADJ' нет в модели\n",
      "Слова 'том_ADJ' нет в модели\n",
      "Слова 'клинчатый_ADJ' нет в модели\n",
      "Слова 'досылание_NOUN' нет в модели\n",
      "Слова 'жилища_NOUN' нет в модели\n",
      "Слова 'том_ADJ' нет в модели\n",
      "Слова 'русь_NOUN' нет в модели\n",
      "Слова 'том_ADJ' нет в модели\n",
      "Слова 'том_ADJ' нет в модели\n",
      "Слова 'окружающий_ADJ' нет в модели\n",
      "Слова 'том_ADJ' нет в модели\n",
      "Слова 'входящий_ADJ' нет в модели\n",
      "Слова 'том_ADJ' нет в модели\n",
      "Слова 'предусмотренный_ADJ' нет в модели\n",
      "Слова 'том_ADJ' нет в модели\n",
      "Слова 'духов_NOUN' нет в модели\n",
      "Слова 'том_ADJ' нет в модели\n",
      "Слова 'том_ADJ' нет в модели\n",
      "Слова 'том_ADJ' нет в модели\n",
      "Слова 'галопом_ADV' нет в модели\n",
      "Слова 'шагом_ADV' нет в модели\n",
      "Слова 'социально-бытовой_ADJ' нет в модели\n",
      "Слова 'третье_NOUN' нет в модели\n",
      "Слова 'том_ADJ' нет в модели\n",
      "Слова 'путём_ADV' нет в модели\n",
      "Слова 'том_ADJ' нет в модели\n"
     ]
    }
   ],
   "source": [
    "for lemma in dict_with_definition_instances:\n",
    "    for sense in dict_with_definition_instances[lemma]:\n",
    "        list_of_strings_to_normalize = dict_with_definition_instances[lemma][sense]\n",
    "        dict_with_definition_instances[lemma][sense] = [SenseDefinition(string) for string in list_of_strings_to_normalize]"
   ]
  },
  {
   "cell_type": "code",
   "execution_count": 239,
   "metadata": {},
   "outputs": [
    {
     "data": {
      "text/plain": [
       "{'I ж.': [[1. Определенный порядок поведения людей, отвечающий сложившимся в обществе нормам права и морали, а также требованиям той или иной организации.,\n",
       "  определённый порядок поведение человек отвечать сложиться общество норма право мораль требование организация\n",
       "  определённый_ADJ порядок_NOUN поведение_NOUN человек_NOUN отвечать_VERB сложиться_VERB общество_NOUN норма_NOUN право_NOUN мораль_NOUN требование_NOUN организация_NOUN],\n",
       "  [2. разг. Строгое следование своим собственным правилам; самодисциплина.,\n",
       "  строгий следование собственный правило самодисциплина\n",
       "  строгий_ADJ следование_NOUN собственный_ADJ правило_NOUN самодисциплина_NOUN]],\n",
       " 'II ж.': [[1. Самостоятельная область научных знаний.,\n",
       "  самостоятельный область научный знание\n",
       "  самостоятельный_ADJ область_NOUN научный_ADJ знание_NOUN],\n",
       "  [2. Учебный предмет.,\n",
       "  учебный предмет\n",
       "  учебный_ADJ предмет_NOUN]]}"
      ]
     },
     "execution_count": 239,
     "metadata": {},
     "output_type": "execute_result"
    }
   ],
   "source": [
    "dict_with_definition_instances[\"дисциплина\"]"
   ]
  },
  {
   "cell_type": "code",
   "execution_count": null,
   "metadata": {},
   "outputs": [],
   "source": []
  },
  {
   "cell_type": "code",
   "execution_count": 57,
   "metadata": {},
   "outputs": [
    {
     "data": {
      "text/plain": [
       "[2. Скамья в саду, на улице.,\n",
       "скамья сад улица\n",
       "скамья_NOUN сад_NOUN улица_NOUN]"
      ]
     },
     "execution_count": 57,
     "metadata": {},
     "output_type": "execute_result"
    }
   ],
   "source": [
    "# небольшая проверка\n",
    "instance_to_check = dict_with_definition_instances['лавка']['I ж.'][1]\n",
    "instance_to_check"
   ]
  },
  {
   "cell_type": "code",
   "execution_count": 58,
   "metadata": {},
   "outputs": [
    {
     "name": "stdout",
     "output_type": "stream",
     "text": [
      "2. Скамья в саду, на улице.\n",
      "скамья сад улица\n",
      "скамья_NOUN сад_NOUN улица_NOUN\n"
     ]
    }
   ],
   "source": [
    "print(instance_to_check.raw_text)\n",
    "print(instance_to_check.normalized)\n",
    "print(instance_to_check.normalized_with_pos)"
   ]
  },
  {
   "cell_type": "code",
   "execution_count": 242,
   "metadata": {},
   "outputs": [
    {
     "data": {
      "text/plain": [
       "array([-0.48843542,  0.13313213,  0.3064579 , -0.34219706,  0.02405958,\n",
       "        0.0032426 , -0.149562  , -0.07421226, -0.10938195, -0.15912783],\n",
       "      dtype=float32)"
      ]
     },
     "execution_count": 242,
     "metadata": {},
     "output_type": "execute_result"
    }
   ],
   "source": [
    "instance_to_check.vec[0][:10]"
   ]
  },
  {
   "cell_type": "code",
   "execution_count": 60,
   "metadata": {},
   "outputs": [
    {
     "data": {
      "text/plain": [
       "(1, 300)"
      ]
     },
     "execution_count": 60,
     "metadata": {},
     "output_type": "execute_result"
    }
   ],
   "source": [
    "instance_to_check.vec.shape"
   ]
  },
  {
   "cell_type": "code",
   "execution_count": 61,
   "metadata": {},
   "outputs": [],
   "source": [
    "v1 = model_skipgram[\"скамья_NOUN\"].reshape(1,300)\n",
    "v2 = model_skipgram[\"сад_NOUN\"].reshape(1,300)\n",
    "v3 = model_skipgram[\"улица_NOUN\"].reshape(1,300)"
   ]
  },
  {
   "cell_type": "code",
   "execution_count": 62,
   "metadata": {},
   "outputs": [
    {
     "name": "stdout",
     "output_type": "stream",
     "text": [
      "[-0.5760414   0.25106105  0.28208125 -0.137021    0.14280792]\n",
      "[-0.23973095 -0.26112202  0.41514    -0.2574537  -0.06089966]\n",
      "[-0.649534    0.40945736  0.22215244 -0.6321165  -0.0097295 ]\n"
     ]
    }
   ],
   "source": [
    "print(v1[0][:5])\n",
    "print(v2[0][:5])\n",
    "print(v3[0][:5])"
   ]
  },
  {
   "cell_type": "code",
   "execution_count": 63,
   "metadata": {},
   "outputs": [
    {
     "name": "stdout",
     "output_type": "stream",
     "text": [
      "[-0.48843542  0.13313213  0.3064579  -0.34219706  0.02405958]\n"
     ]
    }
   ],
   "source": [
    "print(instance_to_check.vec[0][:5])"
   ]
  },
  {
   "cell_type": "code",
   "execution_count": null,
   "metadata": {},
   "outputs": [],
   "source": []
  },
  {
   "cell_type": "code",
   "execution_count": 263,
   "metadata": {},
   "outputs": [],
   "source": [
    "def all_definitions_to_excel(dict_with_definition_instances):\n",
    "    \"\"\"\n",
    "    Сохраним в удобочитаемом виде.\n",
    "    \"\"\"\n",
    "    c = [\"lemma\", \"sense_name\", \"definition\"]\n",
    "    result_df = pandas.DataFrame(columns=c) # пустой датафрейм для результатов\n",
    "    for lemma in dict_with_definition_instances:\n",
    "        for sense_name in dict_with_definition_instances[lemma]:\n",
    "            for definition in dict_with_definition_instances[lemma][sense_name]:\n",
    "                list_to_append = [lemma, sense_name, definition.raw_text]\n",
    "                result_df = result_df.append({'lemma':list_to_append[0], 'sense_name':list_to_append[1], \n",
    "                                              'definition':list_to_append[2]}, ignore_index=True)\n",
    "    result_df.to_excel(\"C:\\\\Users\\\\boss\\\\Documents\\\\Diploma\\\\all_definitions.xlsx\", index=False)"
   ]
  },
  {
   "cell_type": "code",
   "execution_count": 247,
   "metadata": {},
   "outputs": [],
   "source": [
    "all_definitions_to_excel(dict_with_definition_instances)"
   ]
  },
  {
   "cell_type": "markdown",
   "metadata": {},
   "source": [
    "## Нахождение самых подходящих определений "
   ]
  },
  {
   "cell_type": "raw",
   "metadata": {},
   "source": [
    "Два способа: 1) по векторам \n",
    "             2) просто по количеству пересекающихся слов"
   ]
  },
  {
   "cell_type": "raw",
   "metadata": {},
   "source": [
    "У нас есть словари sorted_good_words_from_perfect, sorted_good_words_from_10_errors и т.д.\n",
    "Элементы внутренних списков - инстансы класса GoodWord(self, lemma, pos_word, vec, cosine)\n",
    "{'лавка_NOUN': {1: ['изба', 'стол', 'дверь', 'пол', 'стена', 'угол', 'деревянный', 'сидеть', 'нога'],\n",
    "  2: ['магазин', 'торговать', 'дом', 'улица', 'книжный', 'хозяин', 'сувенирный', 'церковь', 'ряд', 'деньга', 'город']},\n",
    "\n",
    "И есть словарь с определениями: dict_with_definition_instances\n",
    "Элементы внутренних списков - инстансы класса SenseDefinition(self, raw_text, normalized, normalized_with_pos, vec)\n",
    "{'лавка': {'I ж.': [[1. Скамья в доме для сидения или лежания (обычно прикрепленная к стене).,\n",
    "   скамья дом сидение лежание обычно прикрепить стена\n",
    "   скамья_NOUN дом_NOUN сидение_NOUN лежание_NOUN обычно_ADV прикрепить_VERB стена_NOUN],\n",
    "   [2. Скамья в саду, на улице.,\n",
    "   скамья сад улица\n",
    "   скамья_NOUN сад_NOUN улица_NOUN]],\n",
    "  'II ж.': [[Небольшой магазин (обычно в сельской местности).,\n",
    "   небольшой магазин обычно сельский местность\n",
    "   небольшой_ADJ магазин_NOUN обычно_ADV сельский_ADJ местность_NOUN]]},"
   ]
  },
  {
   "cell_type": "raw",
   "metadata": {},
   "source": [
    "Учитывать:\n",
    "1) убеждаться, что это сущ - что в ключе-значении есть \" ср. м. ж. мн. \" -- НАДО ЛИ? Пока не делаем\n",
    "2) два значения могут получить одинаковый вес, тогда выводим оба (на самом деле это встречается только при метрке overlap, и, в частности, если общих слов нет, то он выводит вообще все значения).\n",
    "3) в sorted_good_words_from_perfect мб пустые списки для каких-то значений - эксплицитно это выводим\n",
    "4) при подсчёте среднего вектора для значения пустые вектора (слова, которых нет в модели) не считались. Но есть один случай, когда значение состоит из одного слова, и его нет в модели [замок -- замокнуть -- \"см. замокать\"] - т.е. вектор для значений пустой. Тогда косинус будет нулевым, и вообще-то его можно просто пропускать; но можно и оставить как есть (делаем так)."
   ]
  },
  {
   "cell_type": "code",
   "execution_count": 112,
   "metadata": {},
   "outputs": [],
   "source": [
    "class Candidate(object):\n",
    "    \"\"\"\n",
    "    Класс для определений, которые забираем из словаря - содержит лемму, номер (или другой референс) значения и \n",
    "    инстанс специального класса для определения из словаря.\n",
    "    \"\"\"\n",
    "    def __init__(self, lemma, sense_num, definition):\n",
    "        self.lemma = lemma\n",
    "        self.sense_num = sense_num\n",
    "        self.definition = definition\n",
    "    \n",
    "    def __repr__(self):\n",
    "        return \"%s :: %s :: '%s'\" % (self.lemma, self.sense_num, self.definition.raw_text)"
   ]
  },
  {
   "cell_type": "code",
   "execution_count": 233,
   "metadata": {},
   "outputs": [],
   "source": [
    "def get_best_definitions(dict_with_sorted_good_words, dict_with_definition_instances, output_excel, \n",
    "                         look_at_lemmas_not_words=True, metric='cosine'):\n",
    "    \"\"\"\n",
    "    Записывает в файл лучшие определения для каждого набора ключевых слов, характеризуюшего значение.\n",
    "    Аргументы:\n",
    "    dict_with_sorted_good_words -     словарь с отсортированными по косинусу ключевыми словами;\n",
    "    dict_with_definition_instances -  словарь, содержащий определения из словаря;\n",
    "    output_excel -                    excel файл, куда записывать результат;\n",
    "    look_at_lemmas_not_words -        параметр, при котором мы в словаре ищем вхождения по всем возможным леммам для \n",
    "                                      переданного слова, а не по слову как есть;\n",
    "    metric='cosine'/'words_overlap' - каким способом находить лучшие определения из словаря: по косинусу между средними \n",
    "                                      w2v векторами для определения и ключевых слов, либо по пересечению ключевых слов и \n",
    "                                      слов в определении.\n",
    "    \"\"\"\n",
    "    c = [\"target_word\", \"sense#\", \"key_words\", \"lemma\", \"sense_name\", \"definition\"]\n",
    "    result_df = pandas.DataFrame(columns=c) # пустой датафрейм для результатов\n",
    "    \n",
    "    for target_word_pos in dict_with_sorted_good_words:\n",
    "        word = target_word_pos[:target_word_pos.index(\"_\")]\n",
    "        #print(word)\n",
    "\n",
    "        if look_at_lemmas_not_words: # смотреть на слово как есть / на все его возможные леммы\n",
    "            variants = morph.parse(word)\n",
    "            set_of_lemmas = set([el.normal_form for el in variants]) # все возможные леммы для слова\n",
    "        else:\n",
    "            set_of_lemmas = {word}\n",
    "\n",
    "        list_with_candidates = [] # соберём сюда все возможные определения\n",
    "        for lemma in set_of_lemmas:\n",
    "            try:\n",
    "                inner_dict = dict_with_definition_instances[lemma]\n",
    "            except KeyError:\n",
    "                print(\"Леммы '%s' нет в словаре\" % lemma)\n",
    "                continue\n",
    "            for sense_num in inner_dict:\n",
    "                for definition_instance in inner_dict[sense_num]:\n",
    "                    list_with_candidates.append(Candidate(lemma, sense_num, definition_instance))\n",
    "        # теперь в list_with_candidates содержатся все значения (определения из словаря), которые могут относиться к\n",
    "        # входному слову. А для значений вектора лежат в element.definition.vec\n",
    "\n",
    "        for sense_num in dict_with_sorted_good_words[target_word_pos]:\n",
    "            \n",
    "            # если ключевых слов для данного значения нет - эксплицитно это запишем в датафрейм\n",
    "            if dict_with_sorted_good_words[target_word_pos][sense_num] == []:\n",
    "                list_to_append = [word, str(sense_num), \"NO KEY WORDS\", \"-\", \"-\", \"-\"]\n",
    "                result_df = result_df.append({'target_word':list_to_append[0], 'sense#':list_to_append[1], \n",
    "                                              'key_words':list_to_append[2], 'lemma':list_to_append[3], \n",
    "                                              'sense_name':list_to_append[4], 'definition':list_to_append[5]}, \n",
    "                                             ignore_index=True)\n",
    "                continue # и переходим к следующему\n",
    "            \n",
    "            if metric == 'cosine':\n",
    "                array = [instance.vec for instance in dict_with_sorted_good_words[target_word_pos][sense_num]]\n",
    "                mean_vec = np.mean(array, axis=0) # средний вектор для ключевых слов по имеющимся векторам для каждого слова\n",
    "\n",
    "                cos_list = [] # запишем все значения косинусов\n",
    "                for candidate in list_with_candidates:\n",
    "                    c = cos(mean_vec, candidate.definition.vec).tolist()[0][0]\n",
    "                    cos_list.append(c)\n",
    "\n",
    "                # выберем определение с наибольшим значением косинуса\n",
    "                max_cos = max(cos_list)\n",
    "                # их теоретически мб несколько, нужно это учесть:\n",
    "                list_with_best_definitions = []\n",
    "                for i, value in enumerate(cos_list):\n",
    "                    if value == max_cos:\n",
    "                        list_with_best_definitions.append(list_with_candidates[i])\n",
    "\n",
    "            elif metric == 'words_overlap':\n",
    "                key_words = set([instance.lemma for instance in dict_with_sorted_good_words[target_word_pos][sense_num]])\n",
    "\n",
    "                overlap_list = [] # для каждого определения запишем количество пересекающихся слов\n",
    "                for candidate in list_with_candidates:\n",
    "                    definition_words = set(candidate.definition.normalized.split())\n",
    "                    overlap_list.append(len(key_words & definition_words)) # пересекаем множества\n",
    "\n",
    "                # выберем определения с наибольшим пересечением\n",
    "                max_overlap = max(overlap_list)\n",
    "                list_with_best_definitions = []\n",
    "                for i, value in enumerate(overlap_list):\n",
    "                    if value == max_overlap:\n",
    "                        list_with_best_definitions.append(list_with_candidates[i])\n",
    "\n",
    "            else:\n",
    "                raise ValueError(\"Проверьте название метрики: 'cosine' или 'words_overlap'.\")\n",
    "\n",
    "            # теперь для конкретного sense_num из dict_with_sorted_good_words[target_word_pos] мы нашли лучшее/ие определение\n",
    "            # Они хранятся в list_with_best_definitions. Записываем новую строку в датафрейм\n",
    "            for best in list_with_best_definitions:\n",
    "                key_words = \" \".join([instance.lemma for instance in dict_with_sorted_good_words[target_word_pos][sense_num]])\n",
    "                list_to_append = [word, str(sense_num), key_words, best.lemma, best.sense_num, best.definition.raw_text]\n",
    "                result_df = result_df.append({'target_word':list_to_append[0], 'sense#':list_to_append[1], \n",
    "                                              'key_words':list_to_append[2], 'lemma':list_to_append[3], \n",
    "                                              'sense_name':list_to_append[4], 'definition':list_to_append[5]}, \n",
    "                                             ignore_index=True)\n",
    "            \n",
    "    result_df.to_excel(output_excel, index=False)\n",
    "    return"
   ]
  },
  {
   "cell_type": "code",
   "execution_count": 147,
   "metadata": {},
   "outputs": [],
   "source": [
    "path = \"C:\\\\Users\\\\boss\\\\Documents\\\\Diploma\\\\results\\\\\""
   ]
  },
  {
   "cell_type": "code",
   "execution_count": 236,
   "metadata": {},
   "outputs": [],
   "source": [
    "get_best_definitions(sorted_good_words_from_perfect, dict_with_definition_instances, path+\"0_errors+cosine.xlsx\")\n",
    "get_best_definitions(sorted_good_words_from_10_errors, dict_with_definition_instances, path+\"10_errors+cosine.xlsx\")\n",
    "get_best_definitions(sorted_good_words_from_20_errors, dict_with_definition_instances, path+\"20_errors+cosine.xlsx\")\n",
    "get_best_definitions(sorted_good_words_from_30_errors, dict_with_definition_instances, path+\"30_errors+cosine.xlsx\")\n",
    "get_best_definitions(sorted_good_words_from_40_errors, dict_with_definition_instances, path+\"40_errors+cosine.xlsx\")"
   ]
  },
  {
   "cell_type": "code",
   "execution_count": 235,
   "metadata": {},
   "outputs": [],
   "source": [
    "get_best_definitions(sorted_good_words_from_perfect, dict_with_definition_instances, path+\"0_errors+overlap.xlsx\", \n",
    "                     metric=\"words_overlap\")\n",
    "get_best_definitions(sorted_good_words_from_10_errors, dict_with_definition_instances, path+\"10_errors+overlap.xlsx\", \n",
    "                     metric=\"words_overlap\")\n",
    "get_best_definitions(sorted_good_words_from_20_errors, dict_with_definition_instances, path+\"20_errors+overlap.xlsx\", \n",
    "                     metric=\"words_overlap\")\n",
    "get_best_definitions(sorted_good_words_from_30_errors, dict_with_definition_instances, path+\"30_errors+overlap.xlsx\", \n",
    "                     metric=\"words_overlap\")\n",
    "get_best_definitions(sorted_good_words_from_40_errors, dict_with_definition_instances, path+\"40_errors+overlap.xlsx\", \n",
    "                     metric=\"words_overlap\")"
   ]
  },
  {
   "cell_type": "code",
   "execution_count": 265,
   "metadata": {},
   "outputs": [],
   "source": [
    "get_best_definitions(sorted_ten_good_words_from_perfect, dict_with_definition_instances, \n",
    "                     path+\"0_errors_ten_words+cosine.xlsx\")\n",
    "get_best_definitions(sorted_ten_good_words_from_10_errors, dict_with_definition_instances, \n",
    "                     path+\"10_errors_ten_words+cosine.xlsx\")\n",
    "get_best_definitions(sorted_ten_good_words_from_20_errors, dict_with_definition_instances, \n",
    "                     path+\"20_errors_ten_words+cosine.xlsx\")\n",
    "get_best_definitions(sorted_ten_good_words_from_30_errors, dict_with_definition_instances, \n",
    "                     path+\"30_errors_ten_words+cosine.xlsx\")\n",
    "get_best_definitions(sorted_ten_good_words_from_40_errors, dict_with_definition_instances, \n",
    "                     path+\"40_errors_ten_words+cosine.xlsx\")"
   ]
  },
  {
   "cell_type": "code",
   "execution_count": 272,
   "metadata": {},
   "outputs": [],
   "source": [
    "get_best_definitions(sorted_thirty_good_words_from_perfect, dict_with_definition_instances, \n",
    "                     path+\"0_errors_thirty_words+cosine.xlsx\")\n",
    "get_best_definitions(sorted_thirty_good_words_from_10_errors, dict_with_definition_instances, \n",
    "                     path+\"10_errors_thirty_words+cosine.xlsx\")\n",
    "get_best_definitions(sorted_thirty_good_words_from_20_errors, dict_with_definition_instances, \n",
    "                     path+\"20_errors_thirty_words+cosine.xlsx\")\n",
    "get_best_definitions(sorted_thirty_good_words_from_30_errors, dict_with_definition_instances, \n",
    "                     path+\"30_errors_thirty_words+cosine.xlsx\")\n",
    "get_best_definitions(sorted_thirty_good_words_from_40_errors, dict_with_definition_instances, \n",
    "                     path+\"40_errors_thirty_words+cosine.xlsx\")"
   ]
  },
  {
   "cell_type": "code",
   "execution_count": 273,
   "metadata": {
    "collapsed": true
   },
   "outputs": [
    {
     "name": "stdout",
     "output_type": "stream",
     "text": [
      "лавка_NOUN\n",
      "1 :: [изба скамейка стол дверь пол стена деревянный угол сидеть нога]\n",
      "2 :: [магазин купец торговать дом улица книжный хозяин казённый сувенирный мясной церковь торговый ряд книга деньга город]\n",
      "замок_NOUN\n",
      "1 :: [крепость замковый башня стена деревянный король князь]\n",
      "2 :: [замковый засов ворот ключ дверь храм навесный]\n",
      "винт_NOUN\n",
      "1 :: [болт гайка пружина регулировочный ручка крепление отверстие крышка крепиться головка панель регулировка диаметр резьба конструкция деталь]\n",
      "2 :: [лопасть мотор двигатель несущий вращение гребной вращаться диаметр самолёт вертолёт корабль лодка машина скорость вода мощность воздух полёт]\n",
      "лук_NOUN\n",
      "1 :: [стрела тетива стрельба лучник луковый натянуть оружие]\n",
      "2 :: [чеснок луковица гусиный сок блюдо овощной растение ветвистый]\n",
      "суда_NOUN\n",
      "1 :: [арбитражный судно апелляционный судья судебный конституционный дело решение верховный президиум]\n",
      "2 :: [судно корабль флот]\n",
      "дисциплина_NOUN\n",
      "1 :: [строгий нарушение вера учебный]\n",
      "2 :: [преподавание обучение наука учебный преподаватель специальность студент метод курс факультет]\n",
      "корона_NOUN\n",
      "1 :: [скипетр короновать увенчать щит герб королевский золото золотой драгоценный жемчуг]\n",
      "2 :: [король герцог вильгельм]\n",
      "кран_NOUN\n",
      "1 :: [крановый запорный бак водопроводный вода сальник ручка ванна двигатель вод починить нога]\n",
      "2 :: [лебёдка грузоподъёмный подъёмный крановый башенный машинист оборудование стрела груз поворотный конструкция стационарный монтаж подъём мостовый]\n",
      "летопись_NOUN\n",
      "1 :: [лаврентьевский история повесть князь новгородский исторический известие свод событие]\n",
      "2 :: [история]\n",
      "балка_NOUN\n",
      "1 :: [поперечный крыша потолочный верёвка труба деревянный колонна стена потолок задний висеть]\n",
      "2 :: [склон станица гора степь кустарник камень спускаться сухой берег леса]\n",
      "вид_NOUN\n",
      "1 :: [сторона глаз придавать следующий]\n",
      "5 :: [человек место свойственный сказать большой дух отличаться результат]\n",
      "горн_NOUN\n",
      "1 :: [наковальня кузница пламя кузнечный чугун уголь кузня огонь печь сталь гудеть цементация]\n",
      "3 :: [барабан горнист звук отбой]\n",
      "жаба_NOUN\n",
      "1 :: [квакать болото куст живот похожий]\n",
      "4 :: [горло фолликулярный грудной болезнь]\n",
      "клетка_NOUN\n",
      "1 :: [канарейка птица зверь птичка человек живой тигр]\n",
      "4 :: [мембрана организм флоэма ткань стволовой вирус мышечный зародыш вещество нервный раковый днк щель живой]\n",
      "курица_NOUN\n",
      "1 :: [гусь утка корова петух кура птица яйцо баба женщина жирный двор человек лавка домашний]\n",
      "2 :: [кура жареный мясо рыба буженина тушка сыр блюдо белок вода уха]\n",
      "мишень_NOUN\n",
      "1 :: [стрельба стрелять ракета выстрел]\n",
      "2 :: [стрела]\n",
      "пост_NOUN\n",
      "1 :: [начальник]\n",
      "2 :: [должность заместитель председатель назначение министр]\n",
      "проказа_NOUN\n",
      "1 :: [шалость шалун шутка детский весёлый]\n",
      "2 :: [болезнь сифилис лепра больной проказить заболевание]\n",
      "пропасть_NOUN\n",
      "1 :: [скала вниз гора дно верёвка камень сорваться рухнуть край высота]\n",
      "2 :: [непроходимый непреодолимый глубокий мир вера]\n",
      "пытка_NOUN\n",
      "1 :: [истязание допрос казнь жестокий тюрьма заключённый показание схватить подвергаться]\n",
      "2 :: []\n",
      "рысь_NOUN\n",
      "1 :: [рысь шибкий лошадь конь всадник седло вперёд дорога]\n",
      "2 :: [волк куница лисица зверь медведь кабарга хорёк коза соболь орёл птица река]\n",
      "среда_NOUN\n",
      "2 :: [организм природопользование сфера элемент экология деятельность]\n",
      "3 :: []\n",
      "4 :: [четверг закон]\n",
      "штамп_NOUN\n",
      "1 :: [паспорт печать документ подпись]\n",
      "4 :: [стереотип привычный театральность]\n"
     ]
    }
   ],
   "source": [
    "# выводим в удобочитаемом виде целевые слова, их значения и ключевые слова\n",
    "for target_word in sorted_thirty_good_words_from_perfect:\n",
    "    print(target_word)\n",
    "    for sense_num in sorted_thirty_good_words_from_perfect[target_word]:\n",
    "        list_of_kws = [good_word.lemma for good_word in sorted_thirty_good_words_from_perfect[target_word][sense_num]]\n",
    "        print(\"%s :: [%s]\" % (sense_num, \" \".join(list_of_kws)))"
   ]
  },
  {
   "cell_type": "code",
   "execution_count": null,
   "metadata": {},
   "outputs": [],
   "source": []
  }
 ],
 "metadata": {
  "kernelspec": {
   "display_name": "Python 3",
   "language": "python",
   "name": "python3"
  },
  "language_info": {
   "codemirror_mode": {
    "name": "ipython",
    "version": 3
   },
   "file_extension": ".py",
   "mimetype": "text/x-python",
   "name": "python",
   "nbconvert_exporter": "python",
   "pygments_lexer": "ipython3",
   "version": "3.7.1"
  }
 },
 "nbformat": 4,
 "nbformat_minor": 2
}
